{
  "nbformat": 4,
  "nbformat_minor": 0,
  "metadata": {
    "colab": {
      "provenance": [],
      "include_colab_link": true
    },
    "kernelspec": {
      "name": "python3",
      "display_name": "Python 3"
    },
    "language_info": {
      "name": "python"
    }
  },
  "cells": [
    {
      "cell_type": "markdown",
      "metadata": {
        "id": "view-in-github",
        "colab_type": "text"
      },
      "source": [
        "<a href=\"https://colab.research.google.com/github/Jwainlee/python-baby/blob/main/%EA%B5%90%EC%9C%A1_%EB%94%A5%EB%9F%AC%EB%8B%9D.ipynb\" target=\"_parent\"><img src=\"https://colab.research.google.com/assets/colab-badge.svg\" alt=\"Open In Colab\"/></a>"
      ]
    },
    {
      "cell_type": "markdown",
      "source": [
        "# 분류 예측"
      ],
      "metadata": {
        "id": "bjrJsih9gPqw"
      }
    },
    {
      "cell_type": "markdown",
      "source": [
        "## Data 읽기"
      ],
      "metadata": {
        "id": "h49yaP0XZsI5"
      }
    },
    {
      "cell_type": "code",
      "execution_count": null,
      "metadata": {
        "id": "SVmPSuKunUPV"
      },
      "outputs": [],
      "source": [
        "import tensorflow as tf\n",
        "from tensorflow import keras\n",
        "import numpy as np\n",
        "import matplotlib.pyplot as plt"
      ]
    },
    {
      "cell_type": "code",
      "source": [
        "print(tf.__version__)"
      ],
      "metadata": {
        "colab": {
          "base_uri": "https://localhost:8080/"
        },
        "id": "4lkqAuoQr_df",
        "outputId": "5883cee1-9870-464a-89e3-f1de225b51dd"
      },
      "execution_count": null,
      "outputs": [
        {
          "output_type": "stream",
          "name": "stdout",
          "text": [
            "2.12.0\n"
          ]
        }
      ]
    },
    {
      "cell_type": "code",
      "source": [
        "mnist = keras.datasets.mnist\n",
        "(train_i, train_l), (test_i, test_l) = mnist.load_data()"
      ],
      "metadata": {
        "colab": {
          "base_uri": "https://localhost:8080/"
        },
        "id": "fJG__2JOsLZG",
        "outputId": "4307fa25-7cd9-4b38-d194-3431a8e268a2"
      },
      "execution_count": null,
      "outputs": [
        {
          "output_type": "stream",
          "name": "stdout",
          "text": [
            "Downloading data from https://storage.googleapis.com/tensorflow/tf-keras-datasets/mnist.npz\n",
            "11490434/11490434 [==============================] - 0s 0us/step\n"
          ]
        }
      ]
    },
    {
      "cell_type": "code",
      "source": [
        "print(train_i.shape)\n",
        "print(train_l.shape)\n",
        "print(test_i.shape)\n",
        "print(test_l.shape)"
      ],
      "metadata": {
        "colab": {
          "base_uri": "https://localhost:8080/"
        },
        "id": "75DYrDVB0nW8",
        "outputId": "8437ef22-52c9-4db9-b225-bacb4dd9cd23"
      },
      "execution_count": null,
      "outputs": [
        {
          "output_type": "stream",
          "name": "stdout",
          "text": [
            "(60000, 28, 28)\n",
            "(60000,)\n",
            "(10000, 28, 28)\n",
            "(10000,)\n"
          ]
        }
      ]
    },
    {
      "cell_type": "code",
      "source": [
        "train_i[0]"
      ],
      "metadata": {
        "colab": {
          "base_uri": "https://localhost:8080/"
        },
        "id": "uSJNjjet1U_V",
        "outputId": "7fd98af2-3521-491b-cf3b-f1c5be00a2d5"
      },
      "execution_count": null,
      "outputs": [
        {
          "output_type": "execute_result",
          "data": {
            "text/plain": [
              "array([[  0,   0,   0,   0,   0,   0,   0,   0,   0,   0,   0,   0,   0,\n",
              "          0,   0,   0,   0,   0,   0,   0,   0,   0,   0,   0,   0,   0,\n",
              "          0,   0],\n",
              "       [  0,   0,   0,   0,   0,   0,   0,   0,   0,   0,   0,   0,   0,\n",
              "          0,   0,   0,   0,   0,   0,   0,   0,   0,   0,   0,   0,   0,\n",
              "          0,   0],\n",
              "       [  0,   0,   0,   0,   0,   0,   0,   0,   0,   0,   0,   0,   0,\n",
              "          0,   0,   0,   0,   0,   0,   0,   0,   0,   0,   0,   0,   0,\n",
              "          0,   0],\n",
              "       [  0,   0,   0,   0,   0,   0,   0,   0,   0,   0,   0,   0,   0,\n",
              "          0,   0,   0,   0,   0,   0,   0,   0,   0,   0,   0,   0,   0,\n",
              "          0,   0],\n",
              "       [  0,   0,   0,   0,   0,   0,   0,   0,   0,   0,   0,   0,   0,\n",
              "          0,   0,   0,   0,   0,   0,   0,   0,   0,   0,   0,   0,   0,\n",
              "          0,   0],\n",
              "       [  0,   0,   0,   0,   0,   0,   0,   0,   0,   0,   0,   0,   3,\n",
              "         18,  18,  18, 126, 136, 175,  26, 166, 255, 247, 127,   0,   0,\n",
              "          0,   0],\n",
              "       [  0,   0,   0,   0,   0,   0,   0,   0,  30,  36,  94, 154, 170,\n",
              "        253, 253, 253, 253, 253, 225, 172, 253, 242, 195,  64,   0,   0,\n",
              "          0,   0],\n",
              "       [  0,   0,   0,   0,   0,   0,   0,  49, 238, 253, 253, 253, 253,\n",
              "        253, 253, 253, 253, 251,  93,  82,  82,  56,  39,   0,   0,   0,\n",
              "          0,   0],\n",
              "       [  0,   0,   0,   0,   0,   0,   0,  18, 219, 253, 253, 253, 253,\n",
              "        253, 198, 182, 247, 241,   0,   0,   0,   0,   0,   0,   0,   0,\n",
              "          0,   0],\n",
              "       [  0,   0,   0,   0,   0,   0,   0,   0,  80, 156, 107, 253, 253,\n",
              "        205,  11,   0,  43, 154,   0,   0,   0,   0,   0,   0,   0,   0,\n",
              "          0,   0],\n",
              "       [  0,   0,   0,   0,   0,   0,   0,   0,   0,  14,   1, 154, 253,\n",
              "         90,   0,   0,   0,   0,   0,   0,   0,   0,   0,   0,   0,   0,\n",
              "          0,   0],\n",
              "       [  0,   0,   0,   0,   0,   0,   0,   0,   0,   0,   0, 139, 253,\n",
              "        190,   2,   0,   0,   0,   0,   0,   0,   0,   0,   0,   0,   0,\n",
              "          0,   0],\n",
              "       [  0,   0,   0,   0,   0,   0,   0,   0,   0,   0,   0,  11, 190,\n",
              "        253,  70,   0,   0,   0,   0,   0,   0,   0,   0,   0,   0,   0,\n",
              "          0,   0],\n",
              "       [  0,   0,   0,   0,   0,   0,   0,   0,   0,   0,   0,   0,  35,\n",
              "        241, 225, 160, 108,   1,   0,   0,   0,   0,   0,   0,   0,   0,\n",
              "          0,   0],\n",
              "       [  0,   0,   0,   0,   0,   0,   0,   0,   0,   0,   0,   0,   0,\n",
              "         81, 240, 253, 253, 119,  25,   0,   0,   0,   0,   0,   0,   0,\n",
              "          0,   0],\n",
              "       [  0,   0,   0,   0,   0,   0,   0,   0,   0,   0,   0,   0,   0,\n",
              "          0,  45, 186, 253, 253, 150,  27,   0,   0,   0,   0,   0,   0,\n",
              "          0,   0],\n",
              "       [  0,   0,   0,   0,   0,   0,   0,   0,   0,   0,   0,   0,   0,\n",
              "          0,   0,  16,  93, 252, 253, 187,   0,   0,   0,   0,   0,   0,\n",
              "          0,   0],\n",
              "       [  0,   0,   0,   0,   0,   0,   0,   0,   0,   0,   0,   0,   0,\n",
              "          0,   0,   0,   0, 249, 253, 249,  64,   0,   0,   0,   0,   0,\n",
              "          0,   0],\n",
              "       [  0,   0,   0,   0,   0,   0,   0,   0,   0,   0,   0,   0,   0,\n",
              "          0,  46, 130, 183, 253, 253, 207,   2,   0,   0,   0,   0,   0,\n",
              "          0,   0],\n",
              "       [  0,   0,   0,   0,   0,   0,   0,   0,   0,   0,   0,   0,  39,\n",
              "        148, 229, 253, 253, 253, 250, 182,   0,   0,   0,   0,   0,   0,\n",
              "          0,   0],\n",
              "       [  0,   0,   0,   0,   0,   0,   0,   0,   0,   0,  24, 114, 221,\n",
              "        253, 253, 253, 253, 201,  78,   0,   0,   0,   0,   0,   0,   0,\n",
              "          0,   0],\n",
              "       [  0,   0,   0,   0,   0,   0,   0,   0,  23,  66, 213, 253, 253,\n",
              "        253, 253, 198,  81,   2,   0,   0,   0,   0,   0,   0,   0,   0,\n",
              "          0,   0],\n",
              "       [  0,   0,   0,   0,   0,   0,  18, 171, 219, 253, 253, 253, 253,\n",
              "        195,  80,   9,   0,   0,   0,   0,   0,   0,   0,   0,   0,   0,\n",
              "          0,   0],\n",
              "       [  0,   0,   0,   0,  55, 172, 226, 253, 253, 253, 253, 244, 133,\n",
              "         11,   0,   0,   0,   0,   0,   0,   0,   0,   0,   0,   0,   0,\n",
              "          0,   0],\n",
              "       [  0,   0,   0,   0, 136, 253, 253, 253, 212, 135, 132,  16,   0,\n",
              "          0,   0,   0,   0,   0,   0,   0,   0,   0,   0,   0,   0,   0,\n",
              "          0,   0],\n",
              "       [  0,   0,   0,   0,   0,   0,   0,   0,   0,   0,   0,   0,   0,\n",
              "          0,   0,   0,   0,   0,   0,   0,   0,   0,   0,   0,   0,   0,\n",
              "          0,   0],\n",
              "       [  0,   0,   0,   0,   0,   0,   0,   0,   0,   0,   0,   0,   0,\n",
              "          0,   0,   0,   0,   0,   0,   0,   0,   0,   0,   0,   0,   0,\n",
              "          0,   0],\n",
              "       [  0,   0,   0,   0,   0,   0,   0,   0,   0,   0,   0,   0,   0,\n",
              "          0,   0,   0,   0,   0,   0,   0,   0,   0,   0,   0,   0,   0,\n",
              "          0,   0]], dtype=uint8)"
            ]
          },
          "metadata": {},
          "execution_count": 5
        }
      ]
    },
    {
      "cell_type": "code",
      "source": [
        "num = train_i[0]\n",
        "for i in range(28):\n",
        "  for j in range(28):\n",
        "    print(num[i][j], end = ' ')"
      ],
      "metadata": {
        "colab": {
          "base_uri": "https://localhost:8080/"
        },
        "id": "doAKN6J71k1F",
        "outputId": "db8866d0-6ef2-4b8f-9911-dd1bc2519a7e"
      },
      "execution_count": null,
      "outputs": [
        {
          "output_type": "stream",
          "name": "stdout",
          "text": [
            "0 0 0 0 0 0 0 0 0 0 0 0 0 0 0 0 0 0 0 0 0 0 0 0 0 0 0 0 0 0 0 0 0 0 0 0 0 0 0 0 0 0 0 0 0 0 0 0 0 0 0 0 0 0 0 0 0 0 0 0 0 0 0 0 0 0 0 0 0 0 0 0 0 0 0 0 0 0 0 0 0 0 0 0 0 0 0 0 0 0 0 0 0 0 0 0 0 0 0 0 0 0 0 0 0 0 0 0 0 0 0 0 0 0 0 0 0 0 0 0 0 0 0 0 0 0 0 0 0 0 0 0 0 0 0 0 0 0 0 0 0 0 0 0 0 0 0 0 0 0 0 0 3 18 18 18 126 136 175 26 166 255 247 127 0 0 0 0 0 0 0 0 0 0 0 0 30 36 94 154 170 253 253 253 253 253 225 172 253 242 195 64 0 0 0 0 0 0 0 0 0 0 0 49 238 253 253 253 253 253 253 253 253 251 93 82 82 56 39 0 0 0 0 0 0 0 0 0 0 0 0 18 219 253 253 253 253 253 198 182 247 241 0 0 0 0 0 0 0 0 0 0 0 0 0 0 0 0 0 0 80 156 107 253 253 205 11 0 43 154 0 0 0 0 0 0 0 0 0 0 0 0 0 0 0 0 0 0 0 14 1 154 253 90 0 0 0 0 0 0 0 0 0 0 0 0 0 0 0 0 0 0 0 0 0 0 0 0 0 139 253 190 2 0 0 0 0 0 0 0 0 0 0 0 0 0 0 0 0 0 0 0 0 0 0 0 0 11 190 253 70 0 0 0 0 0 0 0 0 0 0 0 0 0 0 0 0 0 0 0 0 0 0 0 0 0 35 241 225 160 108 1 0 0 0 0 0 0 0 0 0 0 0 0 0 0 0 0 0 0 0 0 0 0 0 81 240 253 253 119 25 0 0 0 0 0 0 0 0 0 0 0 0 0 0 0 0 0 0 0 0 0 0 0 45 186 253 253 150 27 0 0 0 0 0 0 0 0 0 0 0 0 0 0 0 0 0 0 0 0 0 0 0 16 93 252 253 187 0 0 0 0 0 0 0 0 0 0 0 0 0 0 0 0 0 0 0 0 0 0 0 0 0 249 253 249 64 0 0 0 0 0 0 0 0 0 0 0 0 0 0 0 0 0 0 0 0 0 46 130 183 253 253 207 2 0 0 0 0 0 0 0 0 0 0 0 0 0 0 0 0 0 0 0 39 148 229 253 253 253 250 182 0 0 0 0 0 0 0 0 0 0 0 0 0 0 0 0 0 0 24 114 221 253 253 253 253 201 78 0 0 0 0 0 0 0 0 0 0 0 0 0 0 0 0 0 23 66 213 253 253 253 253 198 81 2 0 0 0 0 0 0 0 0 0 0 0 0 0 0 0 0 18 171 219 253 253 253 253 195 80 9 0 0 0 0 0 0 0 0 0 0 0 0 0 0 0 0 55 172 226 253 253 253 253 244 133 11 0 0 0 0 0 0 0 0 0 0 0 0 0 0 0 0 0 0 136 253 253 253 212 135 132 16 0 0 0 0 0 0 0 0 0 0 0 0 0 0 0 0 0 0 0 0 0 0 0 0 0 0 0 0 0 0 0 0 0 0 0 0 0 0 0 0 0 0 0 0 0 0 0 0 0 0 0 0 0 0 0 0 0 0 0 0 0 0 0 0 0 0 0 0 0 0 0 0 0 0 0 0 0 0 0 0 0 0 0 0 0 0 0 0 0 0 0 0 0 0 0 0 0 0 0 0 "
          ]
        }
      ]
    },
    {
      "cell_type": "code",
      "source": [
        "fig = plt.figure()\n",
        "ax1 = fig.add_subplot(1, 4, 1)\n",
        "ax2 = fig.add_subplot(1, 4, 2)\n",
        "ax3 = fig.add_subplot(1, 4, 3)\n",
        "ax4 = fig.add_subplot(1, 4, 4)\n",
        "\n",
        "ax1.imshow(train_i[0], cmap = 'Greys')\n",
        "ax2.imshow(train_i[1], cmap = 'Greys')\n",
        "ax3.imshow(train_i[2], cmap = 'Greys')\n",
        "ax4.imshow(train_i[3], cmap = 'Greys')"
      ],
      "metadata": {
        "colab": {
          "base_uri": "https://localhost:8080/",
          "height": 190
        },
        "id": "qQaDTtiQ1759",
        "outputId": "08628890-cf7f-4315-96b0-d7a26fb9a885"
      },
      "execution_count": null,
      "outputs": [
        {
          "output_type": "execute_result",
          "data": {
            "text/plain": [
              "<matplotlib.image.AxesImage at 0x7be75ae9d0c0>"
            ]
          },
          "metadata": {},
          "execution_count": 9
        },
        {
          "output_type": "display_data",
          "data": {
            "text/plain": [
              "<Figure size 640x480 with 4 Axes>"
            ],
            "image/png": "[encoded data removed]"
          },
          "metadata": {}
        }
      ]
    },
    {
      "cell_type": "markdown",
      "source": [
        "## 전처리"
      ],
      "metadata": {
        "id": "FfJiVMvU2ut7"
      }
    },
    {
      "cell_type": "code",
      "source": [
        "train_i, test_i = train_i / 255, test_i / 255"
      ],
      "metadata": {
        "id": "1EeGNpuK2m_D"
      },
      "execution_count": null,
      "outputs": []
    },
    {
      "cell_type": "markdown",
      "source": [
        "## 모델링"
      ],
      "metadata": {
        "id": "beJl584r2s9N"
      }
    },
    {
      "cell_type": "markdown",
      "source": [
        "이진일 때는 sigmoid, 다분류일 때는 softmax"
      ],
      "metadata": {
        "id": "bVVDKi_A4ocF"
      }
    },
    {
      "cell_type": "markdown",
      "source": [
        "중간층(256)은 더 쌓아도 상관 없지만 과적합이 될 우려가 있음, 마지막 층은 무조건 범주의 수만큼 쌓을 것"
      ],
      "metadata": {
        "id": "Dz-Ui_yu4tjM"
      }
    },
    {
      "cell_type": "code",
      "source": [
        "model = keras.Sequential([\n",
        "    keras.layers.Flatten(input_shape = (28, 28)),\n",
        "    keras.layers.Dense(256, activation = 'relu'),\n",
        "    keras.layers.Dense(10, activation = 'softmax')\n",
        "])"
      ],
      "metadata": {
        "id": "yqRXHODA21JG"
      },
      "execution_count": null,
      "outputs": []
    },
    {
      "cell_type": "code",
      "source": [
        "model.summary()"
      ],
      "metadata": {
        "colab": {
          "base_uri": "https://localhost:8080/"
        },
        "id": "aTk1m-jR49qV",
        "outputId": "149df860-653c-465c-e393-213353f2c86b"
      },
      "execution_count": null,
      "outputs": [
        {
          "output_type": "stream",
          "name": "stdout",
          "text": [
            "Model: \"sequential\"\n",
            "_________________________________________________________________\n",
            " Layer (type)                Output Shape              Param #   \n",
            "=================================================================\n",
            " flatten (Flatten)           (None, 784)               0         \n",
            "                                                                 \n",
            " dense (Dense)               (None, 256)               200960    \n",
            "                                                                 \n",
            " dense_1 (Dense)             (None, 10)                2570      \n",
            "                                                                 \n",
            "=================================================================\n",
            "Total params: 203,530\n",
            "Trainable params: 203,530\n",
            "Non-trainable params: 0\n",
            "_________________________________________________________________\n"
          ]
        }
      ]
    },
    {
      "cell_type": "code",
      "source": [
        "256*784"
      ],
      "metadata": {
        "colab": {
          "base_uri": "https://localhost:8080/"
        },
        "id": "uxEt70ev5K08",
        "outputId": "975c7555-bd51-4506-deb3-3e97e39b5760"
      },
      "execution_count": null,
      "outputs": [
        {
          "output_type": "execute_result",
          "data": {
            "text/plain": [
              "200704"
            ]
          },
          "metadata": {},
          "execution_count": 13
        }
      ]
    },
    {
      "cell_type": "code",
      "source": [
        "model.compile(optimizer = 'adam',\n",
        "              loss = 'sparse_categorical_crossentropy',\n",
        "              metrics = ['accuracy'])"
      ],
      "metadata": {
        "id": "ka6NHKz05iLs"
      },
      "execution_count": null,
      "outputs": []
    },
    {
      "cell_type": "code",
      "source": [
        "model.fit(train_i, train_l, epochs = 5)"
      ],
      "metadata": {
        "colab": {
          "base_uri": "https://localhost:8080/"
        },
        "id": "lgzfOEJz7Gx7",
        "outputId": "5caa6d18-034b-4819-8585-af98ea2ff186"
      },
      "execution_count": null,
      "outputs": [
        {
          "output_type": "stream",
          "name": "stdout",
          "text": [
            "Epoch 1/5\n",
            "1875/1875 [==============================] - 13s 7ms/step - loss: 0.2235 - accuracy: 0.9344\n",
            "Epoch 2/5\n",
            "1875/1875 [==============================] - 11s 6ms/step - loss: 0.0927 - accuracy: 0.9722\n",
            "Epoch 3/5\n",
            "1875/1875 [==============================] - 10s 5ms/step - loss: 0.0603 - accuracy: 0.9818\n",
            "Epoch 4/5\n",
            "1875/1875 [==============================] - 11s 6ms/step - loss: 0.0423 - accuracy: 0.9872\n",
            "Epoch 5/5\n",
            "1875/1875 [==============================] - 11s 6ms/step - loss: 0.0324 - accuracy: 0.9897\n"
          ]
        },
        {
          "output_type": "execute_result",
          "data": {
            "text/plain": [
              "<keras.callbacks.History at 0x7be75e4eb460>"
            ]
          },
          "metadata": {},
          "execution_count": 15
        }
      ]
    },
    {
      "cell_type": "code",
      "source": [
        "test_loss, test_acc = model.evaluate(test_i, test_l, verbose = 2)\n",
        "print('test loss = %.3f, test accuracy = %.3f' %(test_loss, test_acc))"
      ],
      "metadata": {
        "colab": {
          "base_uri": "https://localhost:8080/"
        },
        "id": "PuwY7s0Y7M8E",
        "outputId": "3f0c03fb-ee00-47fe-b478-e934d4bcbd49"
      },
      "execution_count": null,
      "outputs": [
        {
          "output_type": "stream",
          "name": "stdout",
          "text": [
            "313/313 - 1s - loss: 0.0773 - accuracy: 0.9780 - 779ms/epoch - 2ms/step\n",
            "test loss = 0.077, test accuracy = 0.978\n"
          ]
        }
      ]
    },
    {
      "cell_type": "markdown",
      "source": [
        "### Upgrade"
      ],
      "metadata": {
        "id": "jIyNzP7cZcMB"
      }
    },
    {
      "cell_type": "markdown",
      "source": [
        "> 1. 은닉층을 더 깊게 만든다\n",
        "2. 에폭을 증가시킨다\n",
        "3. 학습용 데이터를 늘린다\n",
        "4. 하이퍼파라미터를 튜닝한다"
      ],
      "metadata": {
        "id": "3cBN-0Nb7gYD"
      }
    },
    {
      "cell_type": "code",
      "source": [
        "train_i"
      ],
      "metadata": {
        "colab": {
          "base_uri": "https://localhost:8080/"
        },
        "id": "ka4xzHH1KW_I",
        "outputId": "fd6e5fc4-840e-4d59-b858-ff682d451c58"
      },
      "execution_count": null,
      "outputs": [
        {
          "output_type": "execute_result",
          "data": {
            "text/plain": [
              "array([[[0., 0., 0., ..., 0., 0., 0.],\n",
              "        [0., 0., 0., ..., 0., 0., 0.],\n",
              "        [0., 0., 0., ..., 0., 0., 0.],\n",
              "        ...,\n",
              "        [0., 0., 0., ..., 0., 0., 0.],\n",
              "        [0., 0., 0., ..., 0., 0., 0.],\n",
              "        [0., 0., 0., ..., 0., 0., 0.]],\n",
              "\n",
              "       [[0., 0., 0., ..., 0., 0., 0.],\n",
              "        [0., 0., 0., ..., 0., 0., 0.],\n",
              "        [0., 0., 0., ..., 0., 0., 0.],\n",
              "        ...,\n",
              "        [0., 0., 0., ..., 0., 0., 0.],\n",
              "        [0., 0., 0., ..., 0., 0., 0.],\n",
              "        [0., 0., 0., ..., 0., 0., 0.]],\n",
              "\n",
              "       [[0., 0., 0., ..., 0., 0., 0.],\n",
              "        [0., 0., 0., ..., 0., 0., 0.],\n",
              "        [0., 0., 0., ..., 0., 0., 0.],\n",
              "        ...,\n",
              "        [0., 0., 0., ..., 0., 0., 0.],\n",
              "        [0., 0., 0., ..., 0., 0., 0.],\n",
              "        [0., 0., 0., ..., 0., 0., 0.]],\n",
              "\n",
              "       ...,\n",
              "\n",
              "       [[0., 0., 0., ..., 0., 0., 0.],\n",
              "        [0., 0., 0., ..., 0., 0., 0.],\n",
              "        [0., 0., 0., ..., 0., 0., 0.],\n",
              "        ...,\n",
              "        [0., 0., 0., ..., 0., 0., 0.],\n",
              "        [0., 0., 0., ..., 0., 0., 0.],\n",
              "        [0., 0., 0., ..., 0., 0., 0.]],\n",
              "\n",
              "       [[0., 0., 0., ..., 0., 0., 0.],\n",
              "        [0., 0., 0., ..., 0., 0., 0.],\n",
              "        [0., 0., 0., ..., 0., 0., 0.],\n",
              "        ...,\n",
              "        [0., 0., 0., ..., 0., 0., 0.],\n",
              "        [0., 0., 0., ..., 0., 0., 0.],\n",
              "        [0., 0., 0., ..., 0., 0., 0.]],\n",
              "\n",
              "       [[0., 0., 0., ..., 0., 0., 0.],\n",
              "        [0., 0., 0., ..., 0., 0., 0.],\n",
              "        [0., 0., 0., ..., 0., 0., 0.],\n",
              "        ...,\n",
              "        [0., 0., 0., ..., 0., 0., 0.],\n",
              "        [0., 0., 0., ..., 0., 0., 0.],\n",
              "        [0., 0., 0., ..., 0., 0., 0.]]])"
            ]
          },
          "metadata": {},
          "execution_count": 228
        }
      ]
    },
    {
      "cell_type": "code",
      "source": [
        "train_l"
      ],
      "metadata": {
        "colab": {
          "base_uri": "https://localhost:8080/"
        },
        "id": "Y-xPuIi4KZCo",
        "outputId": "90f8bee1-a840-4286-ac92-9c321c814e74"
      },
      "execution_count": null,
      "outputs": [
        {
          "output_type": "execute_result",
          "data": {
            "text/plain": [
              "array([9, 0, 0, ..., 3, 0, 5], dtype=uint8)"
            ]
          },
          "metadata": {},
          "execution_count": 227
        }
      ]
    },
    {
      "cell_type": "code",
      "source": [
        "model_2 = keras.Sequential([\n",
        "    keras.layers.Flatten(input_shape = (28, 28)),\n",
        "    keras.layers.Dense(256, activation = 'relu'),\n",
        "    keras.layers.Dense(128, activation = 'relu'),\n",
        "    keras.layers.Dense(100, activation = 'relu'),\n",
        "    keras.layers.Dense(10, activation = 'softmax')\n",
        "])"
      ],
      "metadata": {
        "id": "UEpmKqCa8Pel"
      },
      "execution_count": null,
      "outputs": []
    },
    {
      "cell_type": "code",
      "source": [
        "model_2.compile(optimizer = 'adam',\n",
        "                loss = 'sparse_categorical_crossentropy',\n",
        "                metrics = ['accuracy'])"
      ],
      "metadata": {
        "id": "bsxS_AKw8s6s"
      },
      "execution_count": null,
      "outputs": []
    },
    {
      "cell_type": "code",
      "source": [
        "model_2.fit(train_i, train_l, epochs = 10, verbose = 1)\n",
        "\n",
        "test_loss, test_acc = model_2.evaluate(test_i, test_l, verbose = 0)\n",
        "print('test loss = %.3f, test accuracy = %.3f' %(test_loss, test_acc))"
      ],
      "metadata": {
        "colab": {
          "base_uri": "https://localhost:8080/"
        },
        "id": "9dtMkFf_85Ek",
        "outputId": "813a84fe-ab83-4c87-d9ad-e438b547ff28"
      },
      "execution_count": null,
      "outputs": [
        {
          "output_type": "stream",
          "name": "stdout",
          "text": [
            "Epoch 1/10\n",
            "1875/1875 [==============================] - 13s 7ms/step - loss: 0.2130 - accuracy: 0.9357\n",
            "Epoch 2/10\n",
            "1875/1875 [==============================] - 13s 7ms/step - loss: 0.0911 - accuracy: 0.9711\n",
            "Epoch 3/10\n",
            "1875/1875 [==============================] - 13s 7ms/step - loss: 0.0657 - accuracy: 0.9791\n",
            "Epoch 4/10\n",
            "1875/1875 [==============================] - 12s 6ms/step - loss: 0.0483 - accuracy: 0.9849\n",
            "Epoch 5/10\n",
            "1875/1875 [==============================] - 12s 7ms/step - loss: 0.0402 - accuracy: 0.9868\n",
            "Epoch 6/10\n",
            "1875/1875 [==============================] - 12s 7ms/step - loss: 0.0340 - accuracy: 0.9892\n",
            "Epoch 7/10\n",
            "1875/1875 [==============================] - 13s 7ms/step - loss: 0.0284 - accuracy: 0.9909\n",
            "Epoch 8/10\n",
            "1875/1875 [==============================] - 12s 6ms/step - loss: 0.0259 - accuracy: 0.9916\n",
            "Epoch 9/10\n",
            "1875/1875 [==============================] - 12s 7ms/step - loss: 0.0221 - accuracy: 0.9930\n",
            "Epoch 10/10\n",
            "1875/1875 [==============================] - 13s 7ms/step - loss: 0.0206 - accuracy: 0.9939\n",
            "test loss = 0.086, test accuracy = 0.979\n"
          ]
        }
      ]
    },
    {
      "cell_type": "markdown",
      "source": [
        "### My image"
      ],
      "metadata": {
        "id": "uGMNbQFmZM-X"
      }
    },
    {
      "cell_type": "code",
      "source": [
        "import matplotlib.pyplot as plt\n",
        "import matplotlib.image as mpimg\n",
        "import cv2"
      ],
      "metadata": {
        "id": "wY-eP9N49rj0"
      },
      "execution_count": null,
      "outputs": []
    },
    {
      "cell_type": "code",
      "source": [
        "img = mpimg.imread('/content/5.png')\n",
        "plt.imshow(img)"
      ],
      "metadata": {
        "colab": {
          "base_uri": "https://localhost:8080/",
          "height": 363
        },
        "id": "KNilcFATAaM3",
        "outputId": "7934858b-4bc9-44fb-dade-d5a8198c2714"
      },
      "execution_count": null,
      "outputs": [
        {
          "output_type": "execute_result",
          "data": {
            "text/plain": [
              "<matplotlib.image.AxesImage at 0x7be72d7d3580>"
            ]
          },
          "metadata": {},
          "execution_count": 21
        },
        {
          "output_type": "display_data",
          "data": {
            "text/plain": [
              "<Figure size 640x480 with 1 Axes>"
            ],
            "image/png": "[encoded data removed]"
          },
          "metadata": {}
        }
      ]
    },
    {
      "cell_type": "code",
      "source": [
        "img = cv2.imread('/content/5.png', cv2.IMREAD_GRAYSCALE)\n",
        "plt.imshow(img)"
      ],
      "metadata": {
        "colab": {
          "base_uri": "https://localhost:8080/",
          "height": 363
        },
        "id": "PpuTeBdJ_j-7",
        "outputId": "7faf9bb5-bc0b-4a3b-b021-c231870276f6"
      },
      "execution_count": null,
      "outputs": [
        {
          "output_type": "execute_result",
          "data": {
            "text/plain": [
              "<matplotlib.image.AxesImage at 0x7be75e309120>"
            ]
          },
          "metadata": {},
          "execution_count": 31
        },
        {
          "output_type": "display_data",
          "data": {
            "text/plain": [
              "<Figure size 640x480 with 1 Axes>"
            ],
            "image/png": "[encoded data removed]"
          },
          "metadata": {}
        }
      ]
    },
    {
      "cell_type": "code",
      "source": [
        "img.shape"
      ],
      "metadata": {
        "colab": {
          "base_uri": "https://localhost:8080/"
        },
        "id": "K5N01Mcu_rB8",
        "outputId": "b4b5cd66-08fd-4d09-97cc-ca7eab1c8dea"
      },
      "execution_count": null,
      "outputs": [
        {
          "output_type": "execute_result",
          "data": {
            "text/plain": [
              "(648, 1152)"
            ]
          },
          "metadata": {},
          "execution_count": 32
        }
      ]
    },
    {
      "cell_type": "code",
      "source": [
        "img = cv2.resize(img, (28, 28))\n",
        "plt.imshow(img)"
      ],
      "metadata": {
        "colab": {
          "base_uri": "https://localhost:8080/",
          "height": 448
        },
        "id": "X33pSNrUAlBk",
        "outputId": "bdb06ddf-4e05-45ec-9bb2-f58e9d2752f6"
      },
      "execution_count": null,
      "outputs": [
        {
          "output_type": "execute_result",
          "data": {
            "text/plain": [
              "<matplotlib.image.AxesImage at 0x7be75e2ee1a0>"
            ]
          },
          "metadata": {},
          "execution_count": 33
        },
        {
          "output_type": "display_data",
          "data": {
            "text/plain": [
              "<Figure size 640x480 with 1 Axes>"
            ],
            "image/png": "[encoded data removed]"
          },
          "metadata": {}
        }
      ]
    },
    {
      "cell_type": "code",
      "source": [
        "img.shape"
      ],
      "metadata": {
        "colab": {
          "base_uri": "https://localhost:8080/"
        },
        "id": "RTmKXFg9A9RN",
        "outputId": "f37c7316-ab59-4e70-a730-adf45c4e80db"
      },
      "execution_count": null,
      "outputs": [
        {
          "output_type": "execute_result",
          "data": {
            "text/plain": [
              "(28, 28)"
            ]
          },
          "metadata": {},
          "execution_count": 34
        }
      ]
    },
    {
      "cell_type": "code",
      "source": [
        "img"
      ],
      "metadata": {
        "colab": {
          "base_uri": "https://localhost:8080/"
        },
        "id": "LrGjCSvG9-AG",
        "outputId": "f4c28f8c-3838-48b7-e962-e37d2132fc9a"
      },
      "execution_count": null,
      "outputs": [
        {
          "output_type": "execute_result",
          "data": {
            "text/plain": [
              "array([[255, 255, 255, 255, 255, 255, 255, 255, 255, 255, 255, 255, 255,\n",
              "        255, 255, 255, 255, 255, 255, 255, 255, 255, 255, 255, 255, 255,\n",
              "        255, 255],\n",
              "       [255, 255, 255, 255, 255, 255, 255, 255, 255, 255, 255, 255, 255,\n",
              "        255, 255, 255, 255, 255, 255, 255, 255, 255, 255, 255, 255, 255,\n",
              "        255, 255],\n",
              "       [255, 255, 255, 255, 255, 255, 255, 255, 255, 255, 255, 255, 255,\n",
              "        255, 255, 255, 255, 255, 255, 255, 255, 255, 255, 255, 255, 255,\n",
              "        255, 255],\n",
              "       [255, 255, 255, 255, 255, 255, 255, 255, 255, 255, 255, 255, 255,\n",
              "        255, 255, 255, 255, 255, 255, 255, 255, 255, 255, 255, 255, 255,\n",
              "        255, 255],\n",
              "       [255, 255, 255, 255, 255, 255, 255, 255, 255, 255, 255, 255, 255,\n",
              "        255, 255,   0, 255, 255, 255, 255, 255, 255, 255, 255, 255, 255,\n",
              "        255, 255],\n",
              "       [255, 255, 255, 255, 255, 255, 255, 255, 255, 255, 255, 212, 255,\n",
              "        255, 255, 255, 255, 255, 255, 255, 255, 255, 255, 255, 255, 255,\n",
              "        255, 255],\n",
              "       [255, 255, 255, 255, 255, 255, 255, 255, 255, 255, 255, 255, 255,\n",
              "        255, 255, 255, 255, 255, 255, 255, 255, 255, 255, 255, 255, 255,\n",
              "        255, 255],\n",
              "       [255, 255, 255, 255, 255, 255, 255, 255, 255, 255, 255, 255, 255,\n",
              "        255, 255, 255, 255, 255, 255, 255, 255, 255, 255, 255, 255, 255,\n",
              "        255, 255],\n",
              "       [255, 255, 255, 255, 255, 255, 255, 255, 255, 255, 255, 255, 255,\n",
              "        255, 255, 255, 255, 255, 255, 255, 255, 255, 255, 255, 255, 255,\n",
              "        255, 255],\n",
              "       [255, 255, 255, 255, 255, 255, 255, 255, 255, 255,   1, 255, 255,\n",
              "        255, 255, 255, 255, 255, 255, 255, 255, 255, 255, 255, 255, 255,\n",
              "        255, 255],\n",
              "       [255, 255, 255, 255, 255, 255, 255, 255, 255, 255, 251, 255, 255,\n",
              "        255, 255, 255, 255, 255, 255, 255, 255, 255, 255, 255, 255, 255,\n",
              "        255, 255],\n",
              "       [255, 255, 255, 255, 255, 255, 255, 255, 255, 255, 255, 255, 255,\n",
              "        255, 255, 255, 255, 255, 255, 255, 255, 255, 255, 255, 255, 255,\n",
              "        255, 255],\n",
              "       [255, 255, 255, 255, 255, 255, 255, 255, 255, 255, 255, 255, 255,\n",
              "        255, 255, 255, 255, 255, 255, 255, 255, 255, 255, 255, 255, 255,\n",
              "        255, 255],\n",
              "       [255, 255, 255, 255, 255, 255, 255, 255, 255, 255, 255, 255, 255,\n",
              "        255, 255, 255, 255, 255, 255, 255, 255, 255, 255, 255, 255, 255,\n",
              "        255, 255],\n",
              "       [255, 255, 255, 255, 255, 255, 255, 255, 255, 255, 255, 255, 255,\n",
              "        255, 255, 255, 255, 255, 255, 255, 255, 255, 255, 255, 255, 255,\n",
              "        255, 255],\n",
              "       [255, 255, 255, 255, 255, 255, 255, 255, 255, 255, 255, 255, 255,\n",
              "        255,  20, 255, 255, 255, 255, 255, 255, 255, 255, 255, 255, 255,\n",
              "        255, 255],\n",
              "       [255, 255, 255, 255, 255, 255, 255, 255, 255, 255, 255, 255, 255,\n",
              "        255,   5, 255, 255, 255, 255, 255, 255, 255, 255, 255, 255, 255,\n",
              "        255, 255],\n",
              "       [255, 255, 255, 255, 255, 255, 255, 255, 255, 255, 255, 255, 255,\n",
              "        255, 255, 255, 255, 255, 255, 255, 255, 255, 255, 255, 255, 255,\n",
              "        255, 255],\n",
              "       [255, 255, 255, 255, 255, 255, 255, 255, 255, 255, 255, 255, 255,\n",
              "        255, 255, 255, 255, 255, 255, 255, 255, 255, 255, 255, 255, 255,\n",
              "        255, 255],\n",
              "       [255, 255, 255, 255, 255, 255, 255, 255, 255, 255, 255, 255, 255,\n",
              "        255, 255, 255, 255, 255, 255, 255, 255, 255, 255, 255, 255, 255,\n",
              "        255, 255],\n",
              "       [255, 255, 255, 255, 255, 255, 255, 255, 255, 255, 255, 255, 255,\n",
              "        255, 255, 255, 255, 255, 255, 255, 255, 255, 255, 255, 255, 255,\n",
              "        255, 255],\n",
              "       [255, 255, 255, 255, 255, 255, 255, 255, 255, 255, 255, 255, 255,\n",
              "        255, 255, 255, 255, 255, 255, 255, 255, 255, 255, 255, 255, 255,\n",
              "        255, 255],\n",
              "       [255, 255, 255, 255, 255, 255, 255, 255, 255, 255, 255, 255, 255,\n",
              "        255, 255, 255, 255, 255, 255, 255, 255, 255, 255, 255, 255, 255,\n",
              "        255, 255],\n",
              "       [255, 255, 255, 255, 255, 255, 255, 255, 255, 255, 255, 255, 255,\n",
              "        255, 255, 255, 255, 255, 255, 255, 255, 255, 255, 255, 255, 255,\n",
              "        255, 255],\n",
              "       [255, 255, 255, 255, 255, 255, 255, 255, 255, 255, 255, 255, 255,\n",
              "        255, 255, 255, 255, 255, 255, 255, 255, 255, 255, 255, 255, 255,\n",
              "        255, 255],\n",
              "       [255, 255, 255, 255, 255, 255, 255, 255, 255, 255, 255, 255, 255,\n",
              "        255, 255, 255, 255, 255, 255, 255, 255, 255, 255, 255, 255, 255,\n",
              "        255, 255],\n",
              "       [255, 255, 255, 255, 255, 255, 255, 255, 255, 255, 255, 255, 255,\n",
              "        255, 255, 255, 255, 255, 255, 255, 255, 255, 255, 255, 255, 255,\n",
              "        255, 255],\n",
              "       [255, 255, 255, 255, 255, 255, 255, 255, 255, 255, 255, 255, 255,\n",
              "        255, 255, 255, 255, 255, 255, 255, 255, 255, 255, 255, 255, 255,\n",
              "        255, 255]], dtype=uint8)"
            ]
          },
          "metadata": {},
          "execution_count": 35
        }
      ]
    },
    {
      "cell_type": "code",
      "source": [
        "pred = model_2.predict(img[np.newaxis, :])\n",
        "pred.argmax()"
      ],
      "metadata": {
        "colab": {
          "base_uri": "https://localhost:8080/"
        },
        "id": "NukgTDEcAwL4",
        "outputId": "d49d91ef-808a-4f84-e6e6-d0cab24cbbf1"
      },
      "execution_count": null,
      "outputs": [
        {
          "output_type": "stream",
          "name": "stdout",
          "text": [
            "1/1 [==============================] - 0s 27ms/step\n"
          ]
        },
        {
          "output_type": "execute_result",
          "data": {
            "text/plain": [
              "5"
            ]
          },
          "metadata": {},
          "execution_count": 36
        }
      ]
    },
    {
      "cell_type": "code",
      "source": [
        "img = (255 - img) / 255\n",
        "pred = model_2.predict(img[np.newaxis, :, :])\n",
        "pred.argmax()"
      ],
      "metadata": {
        "colab": {
          "base_uri": "https://localhost:8080/"
        },
        "id": "gojP1CwOA8do",
        "outputId": "c959d596-2136-46b7-abb6-147ab8ca2520"
      },
      "execution_count": null,
      "outputs": [
        {
          "output_type": "stream",
          "name": "stdout",
          "text": [
            "1/1 [==============================] - 0s 22ms/step\n"
          ]
        },
        {
          "output_type": "execute_result",
          "data": {
            "text/plain": [
              "8"
            ]
          },
          "metadata": {},
          "execution_count": 37
        }
      ]
    },
    {
      "cell_type": "code",
      "source": [
        "img = cv2.imread('/content/2.png', cv2.IMREAD_GRAYSCALE)\n",
        "plt.imshow(img)"
      ],
      "metadata": {
        "colab": {
          "base_uri": "https://localhost:8080/",
          "height": 363
        },
        "id": "DimaI-r5BkNb",
        "outputId": "5904b16f-cdf8-4696-f784-6e0b0e4d4e02"
      },
      "execution_count": null,
      "outputs": [
        {
          "output_type": "execute_result",
          "data": {
            "text/plain": [
              "<matplotlib.image.AxesImage at 0x7be725eccd90>"
            ]
          },
          "metadata": {},
          "execution_count": 38
        },
        {
          "output_type": "display_data",
          "data": {
            "text/plain": [
              "<Figure size 640x480 with 1 Axes>"
            ],
            "image/png": "[encoded data removed]"
          },
          "metadata": {}
        }
      ]
    },
    {
      "cell_type": "code",
      "source": [
        "img = cv2.resize(img, (28, 28))\n",
        "plt.imshow(img)"
      ],
      "metadata": {
        "colab": {
          "base_uri": "https://localhost:8080/",
          "height": 448
        },
        "id": "bU-ah7vsCFEs",
        "outputId": "9e090aa1-6595-4061-d095-4d2be6b83617"
      },
      "execution_count": null,
      "outputs": [
        {
          "output_type": "execute_result",
          "data": {
            "text/plain": [
              "<matplotlib.image.AxesImage at 0x7be75e4ea320>"
            ]
          },
          "metadata": {},
          "execution_count": 39
        },
        {
          "output_type": "display_data",
          "data": {
            "text/plain": [
              "<Figure size 640x480 with 1 Axes>"
            ],
            "image/png": "[encoded data removed]"
          },
          "metadata": {}
        }
      ]
    },
    {
      "cell_type": "code",
      "source": [
        "img = (255 - img) / 255\n",
        "pred = model_2.predict(img[np.newaxis, :, :])\n",
        "pred.argmax()"
      ],
      "metadata": {
        "colab": {
          "base_uri": "https://localhost:8080/"
        },
        "id": "nCxtaxcmB-_7",
        "outputId": "1c7221da-295f-4a3c-adc6-4a52f02e9460"
      },
      "execution_count": null,
      "outputs": [
        {
          "output_type": "stream",
          "name": "stdout",
          "text": [
            "1/1 [==============================] - 0s 25ms/step\n"
          ]
        },
        {
          "output_type": "execute_result",
          "data": {
            "text/plain": [
              "7"
            ]
          },
          "metadata": {},
          "execution_count": 40
        }
      ]
    },
    {
      "cell_type": "markdown",
      "source": [
        "### Iris data 분류"
      ],
      "metadata": {
        "id": "EE28HQ9GY-5R"
      }
    },
    {
      "cell_type": "code",
      "source": [
        "import numpy as np\n",
        "from sklearn.datasets import load_iris\n",
        "\n",
        "iris = load_iris()"
      ],
      "metadata": {
        "id": "1pnwYuJ_CBFz"
      },
      "execution_count": null,
      "outputs": []
    },
    {
      "cell_type": "code",
      "source": [
        "from sklearn.model_selection import train_test_split"
      ],
      "metadata": {
        "id": "V8xV7dAwNDEB"
      },
      "execution_count": null,
      "outputs": []
    },
    {
      "cell_type": "code",
      "source": [
        "x_tr, x_te, y_tr, y_te = train_test_split(iris['data'], iris['target'], random_state = 0, test_size = 0.2)"
      ],
      "metadata": {
        "id": "AK3AUzVzNDeR"
      },
      "execution_count": null,
      "outputs": []
    },
    {
      "cell_type": "code",
      "source": [
        "model = keras.models.Sequential([keras.layers.Flatten(input_shape = (4, )),\n",
        "                                 keras.layers.Dense(60, activation = 'relu'),\n",
        "                                 keras.layers.Dense(30, activation = 'relu'),\n",
        "                                 keras.layers.Dense(3, activation = 'softmax')])"
      ],
      "metadata": {
        "id": "TZXWl-gwOJVx"
      },
      "execution_count": null,
      "outputs": []
    },
    {
      "cell_type": "code",
      "source": [
        "x_tr[0].shape"
      ],
      "metadata": {
        "colab": {
          "base_uri": "https://localhost:8080/"
        },
        "id": "AasjfU1uGzde",
        "outputId": "51e4c69b-0d24-4c83-823c-e24777fe6ec6"
      },
      "execution_count": null,
      "outputs": [
        {
          "output_type": "execute_result",
          "data": {
            "text/plain": [
              "(28, 28)"
            ]
          },
          "metadata": {},
          "execution_count": 223
        }
      ]
    },
    {
      "cell_type": "code",
      "source": [
        "y_tr.shape"
      ],
      "metadata": {
        "colab": {
          "base_uri": "https://localhost:8080/"
        },
        "id": "j9XacW0PG0xH",
        "outputId": "9f7f8940-f77a-4a23-d9b6-5f20d7d1b875"
      },
      "execution_count": null,
      "outputs": [
        {
          "output_type": "execute_result",
          "data": {
            "text/plain": [
              "(60000,)"
            ]
          },
          "metadata": {},
          "execution_count": 224
        }
      ]
    },
    {
      "cell_type": "code",
      "source": [
        "model.compile(optimizer = 'adam',\n",
        "              loss = 'sparse_categorical_crossentropy',\n",
        "              metrics = ['accuracy'])\n",
        "hist = model.fit(x_tr, y_tr, epochs = 30, batch_size = 5, verbose = 0)"
      ],
      "metadata": {
        "id": "75wD2jzWOiG5"
      },
      "execution_count": null,
      "outputs": []
    },
    {
      "cell_type": "code",
      "source": [
        "model.evaluate(x_te, y_te, verbose = 1)"
      ],
      "metadata": {
        "colab": {
          "base_uri": "https://localhost:8080/"
        },
        "id": "NwVWJ_2lO0ni",
        "outputId": "b17d9724-1128-4baf-be60-af885d99607b"
      },
      "execution_count": null,
      "outputs": [
        {
          "output_type": "stream",
          "name": "stdout",
          "text": [
            "1/1 [==============================] - 0s 153ms/step - loss: 0.0561 - accuracy: 1.0000\n"
          ]
        },
        {
          "output_type": "execute_result",
          "data": {
            "text/plain": [
              "[0.056109365075826645, 1.0]"
            ]
          },
          "metadata": {},
          "execution_count": 47
        }
      ]
    },
    {
      "cell_type": "code",
      "source": [
        "plt.plot(hist.history['loss'], 'b-', label = 'loss value')\n",
        "plt.legend()"
      ],
      "metadata": {
        "colab": {
          "base_uri": "https://localhost:8080/",
          "height": 448
        },
        "id": "OowglHPAPdaa",
        "outputId": "e37698c3-c84f-473c-ad7f-1ab3c65878b2"
      },
      "execution_count": null,
      "outputs": [
        {
          "output_type": "execute_result",
          "data": {
            "text/plain": [
              "<matplotlib.legend.Legend at 0x7be7212f4dc0>"
            ]
          },
          "metadata": {},
          "execution_count": 48
        },
        {
          "output_type": "display_data",
          "data": {
            "text/plain": [
              "<Figure size 640x480 with 1 Axes>"
            ],
            "image/png": "[encoded data removed]"
          },
          "metadata": {}
        }
      ]
    },
    {
      "cell_type": "code",
      "source": [
        "plt.plot(hist.history['accuracy'], 'r-', label = 'accuracy')\n",
        "plt.legend()"
      ],
      "metadata": {
        "colab": {
          "base_uri": "https://localhost:8080/",
          "height": 450
        },
        "id": "wCpF3qEGagI0",
        "outputId": "4acdd16f-1c30-4519-fc53-960af42eea31"
      },
      "execution_count": null,
      "outputs": [
        {
          "output_type": "execute_result",
          "data": {
            "text/plain": [
              "<matplotlib.legend.Legend at 0x7be7212f7cd0>"
            ]
          },
          "metadata": {},
          "execution_count": 49
        },
        {
          "output_type": "display_data",
          "data": {
            "text/plain": [
              "<Figure size 640x480 with 1 Axes>"
            ],
            "image/png": "[encoded data removed]"
          },
          "metadata": {}
        }
      ]
    },
    {
      "cell_type": "markdown",
      "source": [
        "### 모델 저장"
      ],
      "metadata": {
        "id": "8JdlknPqGy_-"
      }
    },
    {
      "cell_type": "code",
      "source": [
        "model.save('/content/drive/MyDrive/iris_model.h5')"
      ],
      "metadata": {
        "id": "7-ixZRq6a_BO"
      },
      "execution_count": null,
      "outputs": []
    },
    {
      "cell_type": "code",
      "source": [
        "from keras.models import load_model"
      ],
      "metadata": {
        "id": "j8hjRRW_bsAv"
      },
      "execution_count": null,
      "outputs": []
    },
    {
      "cell_type": "code",
      "source": [
        "load = keras.models.load_model('/content/drive/MyDrive/iris_model.h5')"
      ],
      "metadata": {
        "id": "8DdDQI__cSLZ"
      },
      "execution_count": null,
      "outputs": []
    },
    {
      "cell_type": "code",
      "source": [
        "load.summary()"
      ],
      "metadata": {
        "colab": {
          "base_uri": "https://localhost:8080/"
        },
        "id": "6btaITwlcW4Y",
        "outputId": "49a794ba-3c22-4d80-c45f-d31000f6c6db"
      },
      "execution_count": null,
      "outputs": [
        {
          "output_type": "stream",
          "name": "stdout",
          "text": [
            "Model: \"sequential_2\"\n",
            "_________________________________________________________________\n",
            " Layer (type)                Output Shape              Param #   \n",
            "=================================================================\n",
            " flatten_2 (Flatten)         (None, 4)                 0         \n",
            "                                                                 \n",
            " dense_6 (Dense)             (None, 60)                300       \n",
            "                                                                 \n",
            " dense_7 (Dense)             (None, 30)                1830      \n",
            "                                                                 \n",
            " dense_8 (Dense)             (None, 3)                 93        \n",
            "                                                                 \n",
            "=================================================================\n",
            "Total params: 2,223\n",
            "Trainable params: 2,223\n",
            "Non-trainable params: 0\n",
            "_________________________________________________________________\n"
          ]
        }
      ]
    },
    {
      "cell_type": "markdown",
      "source": [
        "# 수치값 예측"
      ],
      "metadata": {
        "id": "ru-LrYqdf7Qp"
      }
    },
    {
      "cell_type": "code",
      "source": [
        "import numpy as np\n",
        "import tensorflow as tf\n",
        "from tensorflow import keras"
      ],
      "metadata": {
        "id": "-MsDShOoctRR"
      },
      "execution_count": null,
      "outputs": []
    },
    {
      "cell_type": "markdown",
      "source": [
        "## Data"
      ],
      "metadata": {
        "id": "ppfrYWPrgU20"
      }
    },
    {
      "cell_type": "code",
      "source": [
        "x_tr = np.array([[0], [1], [2]])\n",
        "y_tr = 3 * x_tr + 1\n",
        "\n",
        "x_te = np.array([[3], [4], [5]])\n",
        "y_te = 3 * x_te + 1"
      ],
      "metadata": {
        "id": "_QAXb3g5c_kq"
      },
      "execution_count": null,
      "outputs": []
    },
    {
      "cell_type": "code",
      "source": [
        "x_tr[0].shape"
      ],
      "metadata": {
        "colab": {
          "base_uri": "https://localhost:8080/"
        },
        "id": "8RIzCAgvgcSx",
        "outputId": "385a1f1a-c791-411c-e8fb-af327f9b651c"
      },
      "execution_count": null,
      "outputs": [
        {
          "output_type": "execute_result",
          "data": {
            "text/plain": [
              "(1,)"
            ]
          },
          "metadata": {},
          "execution_count": 56
        }
      ]
    },
    {
      "cell_type": "code",
      "source": [
        "x_tr.flatten()"
      ],
      "metadata": {
        "colab": {
          "base_uri": "https://localhost:8080/"
        },
        "id": "9i01_9Y_dARw",
        "outputId": "285489b5-0ed0-47b0-8ff1-f3415c2da99d"
      },
      "execution_count": null,
      "outputs": [
        {
          "output_type": "execute_result",
          "data": {
            "text/plain": [
              "array([0, 1, 2])"
            ]
          },
          "metadata": {},
          "execution_count": 57
        }
      ]
    },
    {
      "cell_type": "markdown",
      "source": [
        "## 모델링"
      ],
      "metadata": {
        "id": "vWrOebodgXIw"
      }
    },
    {
      "cell_type": "markdown",
      "source": [
        "**선형회귀의 경우 출력단에 활성화 함수를 사용하지 않는다.**"
      ],
      "metadata": {
        "id": "PRnyiRBZeY9S"
      }
    },
    {
      "cell_type": "code",
      "source": [
        "model = keras.models.Sequential()\n",
        "model.add(keras.layers.Dense(4, input_shape = (1, )))\n",
        "model.add(keras.layers.Dense(1))\n",
        "\n",
        "model.summary()"
      ],
      "metadata": {
        "colab": {
          "base_uri": "https://localhost:8080/"
        },
        "id": "L4spke1VdAVZ",
        "outputId": "56a86951-8562-4321-b160-490f46955c6e"
      },
      "execution_count": null,
      "outputs": [
        {
          "output_type": "stream",
          "name": "stdout",
          "text": [
            "Model: \"sequential_3\"\n",
            "_________________________________________________________________\n",
            " Layer (type)                Output Shape              Param #   \n",
            "=================================================================\n",
            " dense_9 (Dense)             (None, 4)                 8         \n",
            "                                                                 \n",
            " dense_10 (Dense)            (None, 1)                 5         \n",
            "                                                                 \n",
            "=================================================================\n",
            "Total params: 13\n",
            "Trainable params: 13\n",
            "Non-trainable params: 0\n",
            "_________________________________________________________________\n"
          ]
        }
      ]
    },
    {
      "cell_type": "code",
      "source": [
        "model.compile(loss = 'mean_squared_error',\n",
        "              optimizer = 'sgd',\n",
        "              metrics = ['accuracy'])\n",
        "model.fit(x_tr, y_tr, epochs = 30, batch_size = 2)"
      ],
      "metadata": {
        "colab": {
          "base_uri": "https://localhost:8080/"
        },
        "id": "vpkhgiOUdAYp",
        "outputId": "cd66e47e-677e-405f-bbde-14e881a41b16"
      },
      "execution_count": null,
      "outputs": [
        {
          "output_type": "stream",
          "name": "stdout",
          "text": [
            "Epoch 1/30\n",
            "2/2 [==============================] - 0s 8ms/step - loss: 41.4241 - accuracy: 0.0000e+00\n",
            "Epoch 2/30\n",
            "2/2 [==============================] - 0s 8ms/step - loss: 24.9351 - accuracy: 0.3333\n",
            "Epoch 3/30\n",
            "2/2 [==============================] - 0s 12ms/step - loss: 16.4770 - accuracy: 0.3333\n",
            "Epoch 4/30\n",
            "2/2 [==============================] - 0s 7ms/step - loss: 10.7065 - accuracy: 0.3333\n",
            "Epoch 5/30\n",
            "2/2 [==============================] - 0s 11ms/step - loss: 4.9120 - accuracy: 0.3333\n",
            "Epoch 6/30\n",
            "2/2 [==============================] - 0s 7ms/step - loss: 1.9973 - accuracy: 0.3333\n",
            "Epoch 7/30\n",
            "2/2 [==============================] - 0s 7ms/step - loss: 1.1470 - accuracy: 0.3333\n",
            "Epoch 8/30\n",
            "2/2 [==============================] - 0s 8ms/step - loss: 0.7416 - accuracy: 0.3333\n",
            "Epoch 9/30\n",
            "2/2 [==============================] - 0s 8ms/step - loss: 0.5809 - accuracy: 0.3333\n",
            "Epoch 10/30\n",
            "2/2 [==============================] - 0s 8ms/step - loss: 0.3981 - accuracy: 0.3333\n",
            "Epoch 11/30\n",
            "2/2 [==============================] - 0s 8ms/step - loss: 0.3549 - accuracy: 0.3333\n",
            "Epoch 12/30\n",
            "2/2 [==============================] - 0s 8ms/step - loss: 0.3305 - accuracy: 0.3333\n",
            "Epoch 13/30\n",
            "2/2 [==============================] - 0s 9ms/step - loss: 0.2958 - accuracy: 0.3333\n",
            "Epoch 14/30\n",
            "2/2 [==============================] - 0s 13ms/step - loss: 0.2610 - accuracy: 0.3333\n",
            "Epoch 15/30\n",
            "2/2 [==============================] - 0s 10ms/step - loss: 0.2314 - accuracy: 0.3333\n",
            "Epoch 16/30\n",
            "2/2 [==============================] - 0s 7ms/step - loss: 0.2151 - accuracy: 0.3333\n",
            "Epoch 17/30\n",
            "2/2 [==============================] - 0s 7ms/step - loss: 0.1908 - accuracy: 0.3333\n",
            "Epoch 18/30\n",
            "2/2 [==============================] - 0s 8ms/step - loss: 0.1666 - accuracy: 0.3333\n",
            "Epoch 19/30\n",
            "2/2 [==============================] - 0s 8ms/step - loss: 0.1540 - accuracy: 0.3333\n",
            "Epoch 20/30\n",
            "2/2 [==============================] - 0s 8ms/step - loss: 0.1421 - accuracy: 0.3333\n",
            "Epoch 21/30\n",
            "2/2 [==============================] - 0s 11ms/step - loss: 0.1395 - accuracy: 0.3333\n",
            "Epoch 22/30\n",
            "2/2 [==============================] - 0s 8ms/step - loss: 0.1245 - accuracy: 0.3333\n",
            "Epoch 23/30\n",
            "2/2 [==============================] - 0s 9ms/step - loss: 0.1099 - accuracy: 0.3333\n",
            "Epoch 24/30\n",
            "2/2 [==============================] - 0s 12ms/step - loss: 0.1038 - accuracy: 0.3333\n",
            "Epoch 25/30\n",
            "2/2 [==============================] - 0s 8ms/step - loss: 0.0914 - accuracy: 0.3333\n",
            "Epoch 26/30\n",
            "2/2 [==============================] - 0s 12ms/step - loss: 0.0815 - accuracy: 0.3333\n",
            "Epoch 27/30\n",
            "2/2 [==============================] - 0s 14ms/step - loss: 0.0752 - accuracy: 0.3333\n",
            "Epoch 28/30\n",
            "2/2 [==============================] - 0s 13ms/step - loss: 0.0743 - accuracy: 0.3333\n",
            "Epoch 29/30\n",
            "2/2 [==============================] - 0s 8ms/step - loss: 0.0676 - accuracy: 0.3333\n",
            "Epoch 30/30\n",
            "2/2 [==============================] - 0s 8ms/step - loss: 0.0596 - accuracy: 0.3333\n"
          ]
        },
        {
          "output_type": "execute_result",
          "data": {
            "text/plain": [
              "<keras.callbacks.History at 0x7be7209a0f40>"
            ]
          },
          "metadata": {},
          "execution_count": 59
        }
      ]
    },
    {
      "cell_type": "code",
      "source": [
        "pred = model.predict(x_te)\n",
        "print(y_te.flatten())\n",
        "print(pred.flatten())"
      ],
      "metadata": {
        "colab": {
          "base_uri": "https://localhost:8080/"
        },
        "id": "lsNf2v92dAbR",
        "outputId": "ed2d25be-e8a3-41a1-e056-8082bd5f1e8a"
      },
      "execution_count": null,
      "outputs": [
        {
          "output_type": "stream",
          "name": "stdout",
          "text": [
            "1/1 [==============================] - 0s 62ms/step\n",
            "[10 13 16]\n",
            "[ 9.645874 12.408333 15.170791]\n"
          ]
        }
      ]
    },
    {
      "cell_type": "markdown",
      "source": [
        "# 미니 배치"
      ],
      "metadata": {
        "id": "z9KSXUJufih4"
      }
    },
    {
      "cell_type": "markdown",
      "source": [
        "온라인 학습과 풀 배치 학습의 중간에 있는 과정"
      ],
      "metadata": {
        "id": "lFFgjjCZjCm4"
      }
    },
    {
      "cell_type": "markdown",
      "source": [
        "> 온라인 학습: 훈련 샘플 중 무작위로 하나를 골라서 학습을 수행하는 방식   \n",
        "풀 배치 학습: 샘플 전체에 대해 가중치를 모두 구한 후 평균을 계산"
      ],
      "metadata": {
        "id": "uM2p5SyajMbF"
      }
    },
    {
      "cell_type": "code",
      "source": [
        "import numpy as np\n",
        "import tensorflow as tf"
      ],
      "metadata": {
        "id": "KmN0w98Ri--4"
      },
      "execution_count": null,
      "outputs": []
    },
    {
      "cell_type": "code",
      "source": [
        "(x_tr, y_tr), (x_te, y_te) = tf.keras.datasets.mnist.load_data()"
      ],
      "metadata": {
        "id": "FZPG157BlupA"
      },
      "execution_count": null,
      "outputs": []
    },
    {
      "cell_type": "code",
      "source": [
        "data_size = x_tr.shape[0]\n",
        "batch_size = 12\n",
        "idx = np.random.choice(data_size, batch_size)\n",
        "print(idx)\n",
        "x_batch = x_tr[idx]\n",
        "y_vatch = y_tr[idx]"
      ],
      "metadata": {
        "colab": {
          "base_uri": "https://localhost:8080/"
        },
        "id": "nVsexJ7vl2aH",
        "outputId": "9716caea-c8a4-41de-aefc-d627a3421fc3"
      },
      "execution_count": null,
      "outputs": [
        {
          "output_type": "stream",
          "name": "stdout",
          "text": [
            "[ 8053 48633 14829  7550 43319 31101 38679 23682 37441 29620 58886 11365]\n"
          ]
        }
      ]
    },
    {
      "cell_type": "markdown",
      "source": [
        "# 예제"
      ],
      "metadata": {
        "id": "WCbGF4AWDYN0"
      }
    },
    {
      "cell_type": "markdown",
      "source": [
        "## Fashion item"
      ],
      "metadata": {
        "id": "WZ2iakxw7gjl"
      }
    },
    {
      "cell_type": "code",
      "source": [
        "fa = keras.datasets.fashion_mnist\n",
        "(train_i, train_l), (test_i, test_l) = fa.load_data()"
      ],
      "metadata": {
        "colab": {
          "base_uri": "https://localhost:8080/"
        },
        "id": "AGmKywx2mLHg",
        "outputId": "f32fb82e-a1a6-4a59-8cf0-ccc06508864c"
      },
      "execution_count": null,
      "outputs": [
        {
          "output_type": "stream",
          "name": "stdout",
          "text": [
            "Downloading data from https://storage.googleapis.com/tensorflow/tf-keras-datasets/train-labels-idx1-ubyte.gz\n",
            "29515/29515 [==============================] - 0s 0us/step\n",
            "Downloading data from https://storage.googleapis.com/tensorflow/tf-keras-datasets/train-images-idx3-ubyte.gz\n",
            "26421880/26421880 [==============================] - 0s 0us/step\n",
            "Downloading data from https://storage.googleapis.com/tensorflow/tf-keras-datasets/t10k-labels-idx1-ubyte.gz\n",
            "5148/5148 [==============================] - 0s 0us/step\n",
            "Downloading data from https://storage.googleapis.com/tensorflow/tf-keras-datasets/t10k-images-idx3-ubyte.gz\n",
            "4422102/4422102 [==============================] - 0s 0us/step\n"
          ]
        }
      ]
    },
    {
      "cell_type": "code",
      "source": [
        "train_i = train_i / 255\n",
        "test_i = test_i / 255"
      ],
      "metadata": {
        "id": "fTqXEp1Z6Evl"
      },
      "execution_count": null,
      "outputs": []
    },
    {
      "cell_type": "code",
      "source": [
        "model = keras.Sequential([keras.layers.Flatten(input_shape = (28, 28)),\n",
        "                           keras.layers.Dense(128, activation = 'relu'),\n",
        "                           keras.layers.Dense(10, activation = 'softmax')])"
      ],
      "metadata": {
        "id": "0fSMxXSN6SLd"
      },
      "execution_count": null,
      "outputs": []
    },
    {
      "cell_type": "code",
      "source": [
        "model.compile(optimizer = 'adam',\n",
        "              loss = 'sparse_categorical_crossentropy',\n",
        "              metrics = ['accuracy'])"
      ],
      "metadata": {
        "id": "iKfWu80R6SPT"
      },
      "execution_count": null,
      "outputs": []
    },
    {
      "cell_type": "code",
      "source": [
        "model.fit(train_i, train_l, epochs = 5)"
      ],
      "metadata": {
        "colab": {
          "base_uri": "https://localhost:8080/"
        },
        "id": "sHq4XHhe6SR_",
        "outputId": "56c47942-7326-49c5-f611-b1af3ab4990f"
      },
      "execution_count": null,
      "outputs": [
        {
          "output_type": "stream",
          "name": "stdout",
          "text": [
            "Epoch 1/5\n",
            "1875/1875 [==============================] - 10s 5ms/step - loss: 0.5032 - accuracy: 0.8239\n",
            "Epoch 2/5\n",
            "1875/1875 [==============================] - 9s 5ms/step - loss: 0.3738 - accuracy: 0.8654\n",
            "Epoch 3/5\n",
            "1875/1875 [==============================] - 8s 4ms/step - loss: 0.3369 - accuracy: 0.8769\n",
            "Epoch 4/5\n",
            "1875/1875 [==============================] - 9s 5ms/step - loss: 0.3121 - accuracy: 0.8853\n",
            "Epoch 5/5\n",
            "1875/1875 [==============================] - 9s 5ms/step - loss: 0.2940 - accuracy: 0.8919\n"
          ]
        },
        {
          "output_type": "execute_result",
          "data": {
            "text/plain": [
              "<keras.callbacks.History at 0x7be7208bd930>"
            ]
          },
          "metadata": {},
          "execution_count": 67
        }
      ]
    },
    {
      "cell_type": "code",
      "source": [
        "test_loss, test_acc = model.evaluate(test_i, test_l, verbose = 1)\n",
        "print('정확도: ', test_acc)"
      ],
      "metadata": {
        "colab": {
          "base_uri": "https://localhost:8080/"
        },
        "id": "x0z4QzBY6SVM",
        "outputId": "6319198d-cd5b-48ca-c470-bcd8e7bb42b6"
      },
      "execution_count": null,
      "outputs": [
        {
          "output_type": "stream",
          "name": "stdout",
          "text": [
            "313/313 [==============================] - 1s 2ms/step - loss: 0.3525 - accuracy: 0.8737\n",
            "정확도:  0.8737000226974487\n"
          ]
        }
      ]
    },
    {
      "cell_type": "markdown",
      "source": [
        "## Titanic"
      ],
      "metadata": {
        "id": "afCnt0Fd9D1o"
      }
    },
    {
      "cell_type": "code",
      "source": [
        "import numpy as np\n",
        "import matplotlib.pyplot as plt\n",
        "import pandas as pd\n",
        "import tensorflow as tf\n",
        "from tensorflow import keras"
      ],
      "metadata": {
        "id": "ZLv3xRGn6SXq"
      },
      "execution_count": 11,
      "outputs": []
    },
    {
      "cell_type": "code",
      "source": [
        "train = pd.read_csv('/content/train.csv', sep = ',')\n",
        "test = pd.read_csv('/content/test.csv', sep = ',')"
      ],
      "metadata": {
        "id": "zO9WEW8r9Xkr"
      },
      "execution_count": 2,
      "outputs": []
    },
    {
      "cell_type": "code",
      "source": [
        "train.head()"
      ],
      "metadata": {
        "colab": {
          "base_uri": "https://localhost:8080/",
          "height": 548
        },
        "id": "V_1Bq1Sm9XoF",
        "outputId": "43e0ed8b-83f7-4f27-907b-4041f77f6818"
      },
      "execution_count": 3,
      "outputs": [
        {
          "output_type": "execute_result",
          "data": {
            "text/plain": [
              "   PassengerId  Survived  Pclass  \\\n",
              "0            1         0       3   \n",
              "1            2         1       1   \n",
              "2            3         1       3   \n",
              "3            4         1       1   \n",
              "4            5         0       3   \n",
              "\n",
              "                                                Name     Sex   Age  SibSp  \\\n",
              "0                            Braund, Mr. Owen Harris    male  22.0      1   \n",
              "1  Cumings, Mrs. John Bradley (Florence Briggs Th...  female  38.0      1   \n",
              "2                             Heikkinen, Miss. Laina  female  26.0      0   \n",
              "3       Futrelle, Mrs. Jacques Heath (Lily May Peel)  female  35.0      1   \n",
              "4                           Allen, Mr. William Henry    male  35.0      0   \n",
              "\n",
              "   Parch            Ticket     Fare Cabin Embarked  \n",
              "0      0         A/5 21171   7.2500   NaN        S  \n",
              "1      0          PC 17599  71.2833   C85        C  \n",
              "2      0  STON/O2. 3101282   7.9250   NaN        S  \n",
              "3      0            113803  53.1000  C123        S  \n",
              "4      0            373450   8.0500   NaN        S  "
            ],
            "text/html": [
              "\n",
              "\n",
              "  <div id=\"df-8e8c7905-a57b-49c8-863d-6853f07f8dd2\">\n",
              "    <div class=\"colab-df-container\">\n",
              "      <div>\n",
              "<style scoped>\n",
              "    .dataframe tbody tr th:only-of-type {\n",
              "        vertical-align: middle;\n",
              "    }\n",
              "\n",
              "    .dataframe tbody tr th {\n",
              "        vertical-align: top;\n",
              "    }\n",
              "\n",
              "    .dataframe thead th {\n",
              "        text-align: right;\n",
              "    }\n",
              "</style>\n",
              "<table border=\"1\" class=\"dataframe\">\n",
              "  <thead>\n",
              "    <tr style=\"text-align: right;\">\n",
              "      <th></th>\n",
              "      <th>PassengerId</th>\n",
              "      <th>Survived</th>\n",
              "      <th>Pclass</th>\n",
              "      <th>Name</th>\n",
              "      <th>Sex</th>\n",
              "      <th>Age</th>\n",
              "      <th>SibSp</th>\n",
              "      <th>Parch</th>\n",
              "      <th>Ticket</th>\n",
              "      <th>Fare</th>\n",
              "      <th>Cabin</th>\n",
              "      <th>Embarked</th>\n",
              "    </tr>\n",
              "  </thead>\n",
              "  <tbody>\n",
              "    <tr>\n",
              "      <th>0</th>\n",
              "      <td>1</td>\n",
              "      <td>0</td>\n",
              "      <td>3</td>\n",
              "      <td>Braund, Mr. Owen Harris</td>\n",
              "      <td>male</td>\n",
              "      <td>22.0</td>\n",
              "      <td>1</td>\n",
              "      <td>0</td>\n",
              "      <td>A/5 21171</td>\n",
              "      <td>7.2500</td>\n",
              "      <td>NaN</td>\n",
              "      <td>S</td>\n",
              "    </tr>\n",
              "    <tr>\n",
              "      <th>1</th>\n",
              "      <td>2</td>\n",
              "      <td>1</td>\n",
              "      <td>1</td>\n",
              "      <td>Cumings, Mrs. John Bradley (Florence Briggs Th...</td>\n",
              "      <td>female</td>\n",
              "      <td>38.0</td>\n",
              "      <td>1</td>\n",
              "      <td>0</td>\n",
              "      <td>PC 17599</td>\n",
              "      <td>71.2833</td>\n",
              "      <td>C85</td>\n",
              "      <td>C</td>\n",
              "    </tr>\n",
              "    <tr>\n",
              "      <th>2</th>\n",
              "      <td>3</td>\n",
              "      <td>1</td>\n",
              "      <td>3</td>\n",
              "      <td>Heikkinen, Miss. Laina</td>\n",
              "      <td>female</td>\n",
              "      <td>26.0</td>\n",
              "      <td>0</td>\n",
              "      <td>0</td>\n",
              "      <td>STON/O2. 3101282</td>\n",
              "      <td>7.9250</td>\n",
              "      <td>NaN</td>\n",
              "      <td>S</td>\n",
              "    </tr>\n",
              "    <tr>\n",
              "      <th>3</th>\n",
              "      <td>4</td>\n",
              "      <td>1</td>\n",
              "      <td>1</td>\n",
              "      <td>Futrelle, Mrs. Jacques Heath (Lily May Peel)</td>\n",
              "      <td>female</td>\n",
              "      <td>35.0</td>\n",
              "      <td>1</td>\n",
              "      <td>0</td>\n",
              "      <td>113803</td>\n",
              "      <td>53.1000</td>\n",
              "      <td>C123</td>\n",
              "      <td>S</td>\n",
              "    </tr>\n",
              "    <tr>\n",
              "      <th>4</th>\n",
              "      <td>5</td>\n",
              "      <td>0</td>\n",
              "      <td>3</td>\n",
              "      <td>Allen, Mr. William Henry</td>\n",
              "      <td>male</td>\n",
              "      <td>35.0</td>\n",
              "      <td>0</td>\n",
              "      <td>0</td>\n",
              "      <td>373450</td>\n",
              "      <td>8.0500</td>\n",
              "      <td>NaN</td>\n",
              "      <td>S</td>\n",
              "    </tr>\n",
              "  </tbody>\n",
              "</table>\n",
              "</div>\n",
              "      <button class=\"colab-df-convert\" onclick=\"convertToInteractive('df-8e8c7905-a57b-49c8-863d-6853f07f8dd2')\"\n",
              "              title=\"Convert this dataframe to an interactive table.\"\n",
              "              style=\"display:none;\">\n",
              "\n",
              "  <svg xmlns=\"http://www.w3.org/2000/svg\" height=\"24px\"viewBox=\"0 0 24 24\"\n",
              "       width=\"24px\">\n",
              "    <path d=\"M0 0h24v24H0V0z\" fill=\"none\"/>\n",
              "    <path d=\"M18.56 5.44l.94 2.06.94-2.06 2.06-.94-2.06-.94-.94-2.06-.94 2.06-2.06.94zm-11 1L8.5 8.5l.94-2.06 2.06-.94-2.06-.94L8.5 2.5l-.94 2.06-2.06.94zm10 10l.94 2.06.94-2.06 2.06-.94-2.06-.94-.94-2.06-.94 2.06-2.06.94z\"/><path d=\"M17.41 7.96l-1.37-1.37c-.4-.4-.92-.59-1.43-.59-.52 0-1.04.2-1.43.59L10.3 9.45l-7.72 7.72c-.78.78-.78 2.05 0 2.83L4 21.41c.39.39.9.59 1.41.59.51 0 1.02-.2 1.41-.59l7.78-7.78 2.81-2.81c.8-.78.8-2.07 0-2.86zM5.41 20L4 18.59l7.72-7.72 1.47 1.35L5.41 20z\"/>\n",
              "  </svg>\n",
              "      </button>\n",
              "\n",
              "\n",
              "\n",
              "    <div id=\"df-dcf83c50-4462-4336-91ec-3c46bff06627\">\n",
              "      <button class=\"colab-df-quickchart\" onclick=\"quickchart('df-dcf83c50-4462-4336-91ec-3c46bff06627')\"\n",
              "              title=\"Suggest charts.\"\n",
              "              style=\"display:none;\">\n",
              "\n",
              "<svg xmlns=\"http://www.w3.org/2000/svg\" height=\"24px\"viewBox=\"0 0 24 24\"\n",
              "     width=\"24px\">\n",
              "    <g>\n",
              "        <path d=\"M19 3H5c-1.1 0-2 .9-2 2v14c0 1.1.9 2 2 2h14c1.1 0 2-.9 2-2V5c0-1.1-.9-2-2-2zM9 17H7v-7h2v7zm4 0h-2V7h2v10zm4 0h-2v-4h2v4z\"/>\n",
              "    </g>\n",
              "</svg>\n",
              "      </button>\n",
              "    </div>\n",
              "\n",
              "<style>\n",
              "  .colab-df-quickchart {\n",
              "    background-color: #E8F0FE;\n",
              "    border: none;\n",
              "    border-radius: 50%;\n",
              "    cursor: pointer;\n",
              "    display: none;\n",
              "    fill: #1967D2;\n",
              "    height: 32px;\n",
              "    padding: 0 0 0 0;\n",
              "    width: 32px;\n",
              "  }\n",
              "\n",
              "  .colab-df-quickchart:hover {\n",
              "    background-color: #E2EBFA;\n",
              "    box-shadow: 0px 1px 2px rgba(60, 64, 67, 0.3), 0px 1px 3px 1px rgba(60, 64, 67, 0.15);\n",
              "    fill: #174EA6;\n",
              "  }\n",
              "\n",
              "  [theme=dark] .colab-df-quickchart {\n",
              "    background-color: #3B4455;\n",
              "    fill: #D2E3FC;\n",
              "  }\n",
              "\n",
              "  [theme=dark] .colab-df-quickchart:hover {\n",
              "    background-color: #434B5C;\n",
              "    box-shadow: 0px 1px 3px 1px rgba(0, 0, 0, 0.15);\n",
              "    filter: drop-shadow(0px 1px 2px rgba(0, 0, 0, 0.3));\n",
              "    fill: #FFFFFF;\n",
              "  }\n",
              "</style>\n",
              "\n",
              "    <script>\n",
              "      async function quickchart(key) {\n",
              "        const containerElement = document.querySelector('#' + key);\n",
              "        const charts = await google.colab.kernel.invokeFunction(\n",
              "            'suggestCharts', [key], {});\n",
              "      }\n",
              "    </script>\n",
              "\n",
              "      <script>\n",
              "\n",
              "function displayQuickchartButton(domScope) {\n",
              "  let quickchartButtonEl =\n",
              "    domScope.querySelector('#df-dcf83c50-4462-4336-91ec-3c46bff06627 button.colab-df-quickchart');\n",
              "  quickchartButtonEl.style.display =\n",
              "    google.colab.kernel.accessAllowed ? 'block' : 'none';\n",
              "}\n",
              "\n",
              "        displayQuickchartButton(document);\n",
              "      </script>\n",
              "      <style>\n",
              "    .colab-df-container {\n",
              "      display:flex;\n",
              "      flex-wrap:wrap;\n",
              "      gap: 12px;\n",
              "    }\n",
              "\n",
              "    .colab-df-convert {\n",
              "      background-color: #E8F0FE;\n",
              "      border: none;\n",
              "      border-radius: 50%;\n",
              "      cursor: pointer;\n",
              "      display: none;\n",
              "      fill: #1967D2;\n",
              "      height: 32px;\n",
              "      padding: 0 0 0 0;\n",
              "      width: 32px;\n",
              "    }\n",
              "\n",
              "    .colab-df-convert:hover {\n",
              "      background-color: #E2EBFA;\n",
              "      box-shadow: 0px 1px 2px rgba(60, 64, 67, 0.3), 0px 1px 3px 1px rgba(60, 64, 67, 0.15);\n",
              "      fill: #174EA6;\n",
              "    }\n",
              "\n",
              "    [theme=dark] .colab-df-convert {\n",
              "      background-color: #3B4455;\n",
              "      fill: #D2E3FC;\n",
              "    }\n",
              "\n",
              "    [theme=dark] .colab-df-convert:hover {\n",
              "      background-color: #434B5C;\n",
              "      box-shadow: 0px 1px 3px 1px rgba(0, 0, 0, 0.15);\n",
              "      filter: drop-shadow(0px 1px 2px rgba(0, 0, 0, 0.3));\n",
              "      fill: #FFFFFF;\n",
              "    }\n",
              "  </style>\n",
              "\n",
              "      <script>\n",
              "        const buttonEl =\n",
              "          document.querySelector('#df-8e8c7905-a57b-49c8-863d-6853f07f8dd2 button.colab-df-convert');\n",
              "        buttonEl.style.display =\n",
              "          google.colab.kernel.accessAllowed ? 'block' : 'none';\n",
              "\n",
              "        async function convertToInteractive(key) {\n",
              "          const element = document.querySelector('#df-8e8c7905-a57b-49c8-863d-6853f07f8dd2');\n",
              "          const dataTable =\n",
              "            await google.colab.kernel.invokeFunction('convertToInteractive',\n",
              "                                                     [key], {});\n",
              "          if (!dataTable) return;\n",
              "\n",
              "          const docLinkHtml = 'Like what you see? Visit the ' +\n",
              "            '<a target=\"_blank\" href=https://colab.research.google.com/notebooks/data_table.ipynb>data table notebook</a>'\n",
              "            + ' to learn more about interactive tables.';\n",
              "          element.innerHTML = '';\n",
              "          dataTable['output_type'] = 'display_data';\n",
              "          await google.colab.output.renderOutput(dataTable, element);\n",
              "          const docLink = document.createElement('div');\n",
              "          docLink.innerHTML = docLinkHtml;\n",
              "          element.appendChild(docLink);\n",
              "        }\n",
              "      </script>\n",
              "    </div>\n",
              "  </div>\n"
            ]
          },
          "metadata": {},
          "execution_count": 3
        }
      ]
    },
    {
      "cell_type": "code",
      "source": [
        "test.head()"
      ],
      "metadata": {
        "colab": {
          "base_uri": "https://localhost:8080/",
          "height": 206
        },
        "id": "oWmXZdPuDYot",
        "outputId": "0c86bdad-ee8f-4ff7-ddd9-a56905e57d87"
      },
      "execution_count": null,
      "outputs": [
        {
          "output_type": "execute_result",
          "data": {
            "text/plain": [
              "   PassengerId  Pclass                                          Name     Sex  \\\n",
              "0          892       3                              Kelly, Mr. James    male   \n",
              "1          893       3              Wilkes, Mrs. James (Ellen Needs)  female   \n",
              "2          894       2                     Myles, Mr. Thomas Francis    male   \n",
              "3          895       3                              Wirz, Mr. Albert    male   \n",
              "4          896       3  Hirvonen, Mrs. Alexander (Helga E Lindqvist)  female   \n",
              "\n",
              "    Age  SibSp  Parch   Ticket     Fare Cabin Embarked  \n",
              "0  34.5      0      0   330911   7.8292   NaN        Q  \n",
              "1  47.0      1      0   363272   7.0000   NaN        S  \n",
              "2  62.0      0      0   240276   9.6875   NaN        Q  \n",
              "3  27.0      0      0   315154   8.6625   NaN        S  \n",
              "4  22.0      1      1  3101298  12.2875   NaN        S  "
            ],
            "text/html": [
              "\n",
              "\n",
              "  <div id=\"df-0dc27705-38b6-45c0-8408-3f620ddd6937\">\n",
              "    <div class=\"colab-df-container\">\n",
              "      <div>\n",
              "<style scoped>\n",
              "    .dataframe tbody tr th:only-of-type {\n",
              "        vertical-align: middle;\n",
              "    }\n",
              "\n",
              "    .dataframe tbody tr th {\n",
              "        vertical-align: top;\n",
              "    }\n",
              "\n",
              "    .dataframe thead th {\n",
              "        text-align: right;\n",
              "    }\n",
              "</style>\n",
              "<table border=\"1\" class=\"dataframe\">\n",
              "  <thead>\n",
              "    <tr style=\"text-align: right;\">\n",
              "      <th></th>\n",
              "      <th>PassengerId</th>\n",
              "      <th>Pclass</th>\n",
              "      <th>Name</th>\n",
              "      <th>Sex</th>\n",
              "      <th>Age</th>\n",
              "      <th>SibSp</th>\n",
              "      <th>Parch</th>\n",
              "      <th>Ticket</th>\n",
              "      <th>Fare</th>\n",
              "      <th>Cabin</th>\n",
              "      <th>Embarked</th>\n",
              "    </tr>\n",
              "  </thead>\n",
              "  <tbody>\n",
              "    <tr>\n",
              "      <th>0</th>\n",
              "      <td>892</td>\n",
              "      <td>3</td>\n",
              "      <td>Kelly, Mr. James</td>\n",
              "      <td>male</td>\n",
              "      <td>34.5</td>\n",
              "      <td>0</td>\n",
              "      <td>0</td>\n",
              "      <td>330911</td>\n",
              "      <td>7.8292</td>\n",
              "      <td>NaN</td>\n",
              "      <td>Q</td>\n",
              "    </tr>\n",
              "    <tr>\n",
              "      <th>1</th>\n",
              "      <td>893</td>\n",
              "      <td>3</td>\n",
              "      <td>Wilkes, Mrs. James (Ellen Needs)</td>\n",
              "      <td>female</td>\n",
              "      <td>47.0</td>\n",
              "      <td>1</td>\n",
              "      <td>0</td>\n",
              "      <td>363272</td>\n",
              "      <td>7.0000</td>\n",
              "      <td>NaN</td>\n",
              "      <td>S</td>\n",
              "    </tr>\n",
              "    <tr>\n",
              "      <th>2</th>\n",
              "      <td>894</td>\n",
              "      <td>2</td>\n",
              "      <td>Myles, Mr. Thomas Francis</td>\n",
              "      <td>male</td>\n",
              "      <td>62.0</td>\n",
              "      <td>0</td>\n",
              "      <td>0</td>\n",
              "      <td>240276</td>\n",
              "      <td>9.6875</td>\n",
              "      <td>NaN</td>\n",
              "      <td>Q</td>\n",
              "    </tr>\n",
              "    <tr>\n",
              "      <th>3</th>\n",
              "      <td>895</td>\n",
              "      <td>3</td>\n",
              "      <td>Wirz, Mr. Albert</td>\n",
              "      <td>male</td>\n",
              "      <td>27.0</td>\n",
              "      <td>0</td>\n",
              "      <td>0</td>\n",
              "      <td>315154</td>\n",
              "      <td>8.6625</td>\n",
              "      <td>NaN</td>\n",
              "      <td>S</td>\n",
              "    </tr>\n",
              "    <tr>\n",
              "      <th>4</th>\n",
              "      <td>896</td>\n",
              "      <td>3</td>\n",
              "      <td>Hirvonen, Mrs. Alexander (Helga E Lindqvist)</td>\n",
              "      <td>female</td>\n",
              "      <td>22.0</td>\n",
              "      <td>1</td>\n",
              "      <td>1</td>\n",
              "      <td>3101298</td>\n",
              "      <td>12.2875</td>\n",
              "      <td>NaN</td>\n",
              "      <td>S</td>\n",
              "    </tr>\n",
              "  </tbody>\n",
              "</table>\n",
              "</div>\n",
              "      <button class=\"colab-df-convert\" onclick=\"convertToInteractive('df-0dc27705-38b6-45c0-8408-3f620ddd6937')\"\n",
              "              title=\"Convert this dataframe to an interactive table.\"\n",
              "              style=\"display:none;\">\n",
              "\n",
              "  <svg xmlns=\"http://www.w3.org/2000/svg\" height=\"24px\"viewBox=\"0 0 24 24\"\n",
              "       width=\"24px\">\n",
              "    <path d=\"M0 0h24v24H0V0z\" fill=\"none\"/>\n",
              "    <path d=\"M18.56 5.44l.94 2.06.94-2.06 2.06-.94-2.06-.94-.94-2.06-.94 2.06-2.06.94zm-11 1L8.5 8.5l.94-2.06 2.06-.94-2.06-.94L8.5 2.5l-.94 2.06-2.06.94zm10 10l.94 2.06.94-2.06 2.06-.94-2.06-.94-.94-2.06-.94 2.06-2.06.94z\"/><path d=\"M17.41 7.96l-1.37-1.37c-.4-.4-.92-.59-1.43-.59-.52 0-1.04.2-1.43.59L10.3 9.45l-7.72 7.72c-.78.78-.78 2.05 0 2.83L4 21.41c.39.39.9.59 1.41.59.51 0 1.02-.2 1.41-.59l7.78-7.78 2.81-2.81c.8-.78.8-2.07 0-2.86zM5.41 20L4 18.59l7.72-7.72 1.47 1.35L5.41 20z\"/>\n",
              "  </svg>\n",
              "      </button>\n",
              "\n",
              "\n",
              "\n",
              "    <div id=\"df-932d746f-3d90-4806-bb9e-9303fa5602b4\">\n",
              "      <button class=\"colab-df-quickchart\" onclick=\"quickchart('df-932d746f-3d90-4806-bb9e-9303fa5602b4')\"\n",
              "              title=\"Suggest charts.\"\n",
              "              style=\"display:none;\">\n",
              "\n",
              "<svg xmlns=\"http://www.w3.org/2000/svg\" height=\"24px\"viewBox=\"0 0 24 24\"\n",
              "     width=\"24px\">\n",
              "    <g>\n",
              "        <path d=\"M19 3H5c-1.1 0-2 .9-2 2v14c0 1.1.9 2 2 2h14c1.1 0 2-.9 2-2V5c0-1.1-.9-2-2-2zM9 17H7v-7h2v7zm4 0h-2V7h2v10zm4 0h-2v-4h2v4z\"/>\n",
              "    </g>\n",
              "</svg>\n",
              "      </button>\n",
              "    </div>\n",
              "\n",
              "<style>\n",
              "  .colab-df-quickchart {\n",
              "    background-color: #E8F0FE;\n",
              "    border: none;\n",
              "    border-radius: 50%;\n",
              "    cursor: pointer;\n",
              "    display: none;\n",
              "    fill: #1967D2;\n",
              "    height: 32px;\n",
              "    padding: 0 0 0 0;\n",
              "    width: 32px;\n",
              "  }\n",
              "\n",
              "  .colab-df-quickchart:hover {\n",
              "    background-color: #E2EBFA;\n",
              "    box-shadow: 0px 1px 2px rgba(60, 64, 67, 0.3), 0px 1px 3px 1px rgba(60, 64, 67, 0.15);\n",
              "    fill: #174EA6;\n",
              "  }\n",
              "\n",
              "  [theme=dark] .colab-df-quickchart {\n",
              "    background-color: #3B4455;\n",
              "    fill: #D2E3FC;\n",
              "  }\n",
              "\n",
              "  [theme=dark] .colab-df-quickchart:hover {\n",
              "    background-color: #434B5C;\n",
              "    box-shadow: 0px 1px 3px 1px rgba(0, 0, 0, 0.15);\n",
              "    filter: drop-shadow(0px 1px 2px rgba(0, 0, 0, 0.3));\n",
              "    fill: #FFFFFF;\n",
              "  }\n",
              "</style>\n",
              "\n",
              "    <script>\n",
              "      async function quickchart(key) {\n",
              "        const containerElement = document.querySelector('#' + key);\n",
              "        const charts = await google.colab.kernel.invokeFunction(\n",
              "            'suggestCharts', [key], {});\n",
              "      }\n",
              "    </script>\n",
              "\n",
              "      <script>\n",
              "\n",
              "function displayQuickchartButton(domScope) {\n",
              "  let quickchartButtonEl =\n",
              "    domScope.querySelector('#df-932d746f-3d90-4806-bb9e-9303fa5602b4 button.colab-df-quickchart');\n",
              "  quickchartButtonEl.style.display =\n",
              "    google.colab.kernel.accessAllowed ? 'block' : 'none';\n",
              "}\n",
              "\n",
              "        displayQuickchartButton(document);\n",
              "      </script>\n",
              "      <style>\n",
              "    .colab-df-container {\n",
              "      display:flex;\n",
              "      flex-wrap:wrap;\n",
              "      gap: 12px;\n",
              "    }\n",
              "\n",
              "    .colab-df-convert {\n",
              "      background-color: #E8F0FE;\n",
              "      border: none;\n",
              "      border-radius: 50%;\n",
              "      cursor: pointer;\n",
              "      display: none;\n",
              "      fill: #1967D2;\n",
              "      height: 32px;\n",
              "      padding: 0 0 0 0;\n",
              "      width: 32px;\n",
              "    }\n",
              "\n",
              "    .colab-df-convert:hover {\n",
              "      background-color: #E2EBFA;\n",
              "      box-shadow: 0px 1px 2px rgba(60, 64, 67, 0.3), 0px 1px 3px 1px rgba(60, 64, 67, 0.15);\n",
              "      fill: #174EA6;\n",
              "    }\n",
              "\n",
              "    [theme=dark] .colab-df-convert {\n",
              "      background-color: #3B4455;\n",
              "      fill: #D2E3FC;\n",
              "    }\n",
              "\n",
              "    [theme=dark] .colab-df-convert:hover {\n",
              "      background-color: #434B5C;\n",
              "      box-shadow: 0px 1px 3px 1px rgba(0, 0, 0, 0.15);\n",
              "      filter: drop-shadow(0px 1px 2px rgba(0, 0, 0, 0.3));\n",
              "      fill: #FFFFFF;\n",
              "    }\n",
              "  </style>\n",
              "\n",
              "      <script>\n",
              "        const buttonEl =\n",
              "          document.querySelector('#df-0dc27705-38b6-45c0-8408-3f620ddd6937 button.colab-df-convert');\n",
              "        buttonEl.style.display =\n",
              "          google.colab.kernel.accessAllowed ? 'block' : 'none';\n",
              "\n",
              "        async function convertToInteractive(key) {\n",
              "          const element = document.querySelector('#df-0dc27705-38b6-45c0-8408-3f620ddd6937');\n",
              "          const dataTable =\n",
              "            await google.colab.kernel.invokeFunction('convertToInteractive',\n",
              "                                                     [key], {});\n",
              "          if (!dataTable) return;\n",
              "\n",
              "          const docLinkHtml = 'Like what you see? Visit the ' +\n",
              "            '<a target=\"_blank\" href=https://colab.research.google.com/notebooks/data_table.ipynb>data table notebook</a>'\n",
              "            + ' to learn more about interactive tables.';\n",
              "          element.innerHTML = '';\n",
              "          dataTable['output_type'] = 'display_data';\n",
              "          await google.colab.output.renderOutput(dataTable, element);\n",
              "          const docLink = document.createElement('div');\n",
              "          docLink.innerHTML = docLinkHtml;\n",
              "          element.appendChild(docLink);\n",
              "        }\n",
              "      </script>\n",
              "    </div>\n",
              "  </div>\n"
            ]
          },
          "metadata": {},
          "execution_count": 109
        }
      ]
    },
    {
      "cell_type": "code",
      "source": [
        "train.drop(['SibSp', 'Parch', 'Ticket', 'Embarked', 'Name', 'Cabin', 'PassengerId', 'Fare', 'Age'], inplace = True, axis = 1)\n",
        "test.drop(['SibSp', 'Parch', 'Ticket', 'Embarked', 'Name', 'Cabin', 'PassengerId', 'Fare', 'Age'], inplace = True, axis = 1)\n",
        "train.dropna(inplace = True)\n",
        "test.dropna(inplace = True)"
      ],
      "metadata": {
        "id": "42mB7yYz9Xrc"
      },
      "execution_count": 4,
      "outputs": []
    },
    {
      "cell_type": "code",
      "source": [
        "df = train.groupby('Sex').mean()['Survived']\n",
        "plt.barh(df.index, df.values, color = ['pink', 'skyblue'])\n",
        "plt.show()"
      ],
      "metadata": {
        "colab": {
          "base_uri": "https://localhost:8080/",
          "height": 430
        },
        "id": "IejZzxtJ9XuV",
        "outputId": "3b1d9e92-f524-496a-ba7a-5ea9c6783f58"
      },
      "execution_count": null,
      "outputs": [
        {
          "output_type": "display_data",
          "data": {
            "text/plain": [
              "<Figure size 640x480 with 1 Axes>"
            ],
            "image/png": "[encoded data removed]"
          },
          "metadata": {}
        }
      ]
    },
    {
      "cell_type": "code",
      "source": [
        "train.head()"
      ],
      "metadata": {
        "colab": {
          "base_uri": "https://localhost:8080/",
          "height": 206
        },
        "id": "4pdJwfsf9XxF",
        "outputId": "bdfc4e85-af93-492c-a1fb-3d888bc3f6bc"
      },
      "execution_count": null,
      "outputs": [
        {
          "output_type": "execute_result",
          "data": {
            "text/plain": [
              "   Survived  Pclass     Sex\n",
              "0         0       3    male\n",
              "1         1       1  female\n",
              "2         1       3  female\n",
              "3         1       1  female\n",
              "4         0       3    male"
            ],
            "text/html": [
              "\n",
              "\n",
              "  <div id=\"df-463d6284-7388-42fa-8be9-ac4fa2afc61a\">\n",
              "    <div class=\"colab-df-container\">\n",
              "      <div>\n",
              "<style scoped>\n",
              "    .dataframe tbody tr th:only-of-type {\n",
              "        vertical-align: middle;\n",
              "    }\n",
              "\n",
              "    .dataframe tbody tr th {\n",
              "        vertical-align: top;\n",
              "    }\n",
              "\n",
              "    .dataframe thead th {\n",
              "        text-align: right;\n",
              "    }\n",
              "</style>\n",
              "<table border=\"1\" class=\"dataframe\">\n",
              "  <thead>\n",
              "    <tr style=\"text-align: right;\">\n",
              "      <th></th>\n",
              "      <th>Survived</th>\n",
              "      <th>Pclass</th>\n",
              "      <th>Sex</th>\n",
              "    </tr>\n",
              "  </thead>\n",
              "  <tbody>\n",
              "    <tr>\n",
              "      <th>0</th>\n",
              "      <td>0</td>\n",
              "      <td>3</td>\n",
              "      <td>male</td>\n",
              "    </tr>\n",
              "    <tr>\n",
              "      <th>1</th>\n",
              "      <td>1</td>\n",
              "      <td>1</td>\n",
              "      <td>female</td>\n",
              "    </tr>\n",
              "    <tr>\n",
              "      <th>2</th>\n",
              "      <td>1</td>\n",
              "      <td>3</td>\n",
              "      <td>female</td>\n",
              "    </tr>\n",
              "    <tr>\n",
              "      <th>3</th>\n",
              "      <td>1</td>\n",
              "      <td>1</td>\n",
              "      <td>female</td>\n",
              "    </tr>\n",
              "    <tr>\n",
              "      <th>4</th>\n",
              "      <td>0</td>\n",
              "      <td>3</td>\n",
              "      <td>male</td>\n",
              "    </tr>\n",
              "  </tbody>\n",
              "</table>\n",
              "</div>\n",
              "      <button class=\"colab-df-convert\" onclick=\"convertToInteractive('df-463d6284-7388-42fa-8be9-ac4fa2afc61a')\"\n",
              "              title=\"Convert this dataframe to an interactive table.\"\n",
              "              style=\"display:none;\">\n",
              "\n",
              "  <svg xmlns=\"http://www.w3.org/2000/svg\" height=\"24px\"viewBox=\"0 0 24 24\"\n",
              "       width=\"24px\">\n",
              "    <path d=\"M0 0h24v24H0V0z\" fill=\"none\"/>\n",
              "    <path d=\"M18.56 5.44l.94 2.06.94-2.06 2.06-.94-2.06-.94-.94-2.06-.94 2.06-2.06.94zm-11 1L8.5 8.5l.94-2.06 2.06-.94-2.06-.94L8.5 2.5l-.94 2.06-2.06.94zm10 10l.94 2.06.94-2.06 2.06-.94-2.06-.94-.94-2.06-.94 2.06-2.06.94z\"/><path d=\"M17.41 7.96l-1.37-1.37c-.4-.4-.92-.59-1.43-.59-.52 0-1.04.2-1.43.59L10.3 9.45l-7.72 7.72c-.78.78-.78 2.05 0 2.83L4 21.41c.39.39.9.59 1.41.59.51 0 1.02-.2 1.41-.59l7.78-7.78 2.81-2.81c.8-.78.8-2.07 0-2.86zM5.41 20L4 18.59l7.72-7.72 1.47 1.35L5.41 20z\"/>\n",
              "  </svg>\n",
              "      </button>\n",
              "\n",
              "\n",
              "\n",
              "    <div id=\"df-662a730d-ec85-443e-a448-902c06390cbb\">\n",
              "      <button class=\"colab-df-quickchart\" onclick=\"quickchart('df-662a730d-ec85-443e-a448-902c06390cbb')\"\n",
              "              title=\"Suggest charts.\"\n",
              "              style=\"display:none;\">\n",
              "\n",
              "<svg xmlns=\"http://www.w3.org/2000/svg\" height=\"24px\"viewBox=\"0 0 24 24\"\n",
              "     width=\"24px\">\n",
              "    <g>\n",
              "        <path d=\"M19 3H5c-1.1 0-2 .9-2 2v14c0 1.1.9 2 2 2h14c1.1 0 2-.9 2-2V5c0-1.1-.9-2-2-2zM9 17H7v-7h2v7zm4 0h-2V7h2v10zm4 0h-2v-4h2v4z\"/>\n",
              "    </g>\n",
              "</svg>\n",
              "      </button>\n",
              "    </div>\n",
              "\n",
              "<style>\n",
              "  .colab-df-quickchart {\n",
              "    background-color: #E8F0FE;\n",
              "    border: none;\n",
              "    border-radius: 50%;\n",
              "    cursor: pointer;\n",
              "    display: none;\n",
              "    fill: #1967D2;\n",
              "    height: 32px;\n",
              "    padding: 0 0 0 0;\n",
              "    width: 32px;\n",
              "  }\n",
              "\n",
              "  .colab-df-quickchart:hover {\n",
              "    background-color: #E2EBFA;\n",
              "    box-shadow: 0px 1px 2px rgba(60, 64, 67, 0.3), 0px 1px 3px 1px rgba(60, 64, 67, 0.15);\n",
              "    fill: #174EA6;\n",
              "  }\n",
              "\n",
              "  [theme=dark] .colab-df-quickchart {\n",
              "    background-color: #3B4455;\n",
              "    fill: #D2E3FC;\n",
              "  }\n",
              "\n",
              "  [theme=dark] .colab-df-quickchart:hover {\n",
              "    background-color: #434B5C;\n",
              "    box-shadow: 0px 1px 3px 1px rgba(0, 0, 0, 0.15);\n",
              "    filter: drop-shadow(0px 1px 2px rgba(0, 0, 0, 0.3));\n",
              "    fill: #FFFFFF;\n",
              "  }\n",
              "</style>\n",
              "\n",
              "    <script>\n",
              "      async function quickchart(key) {\n",
              "        const containerElement = document.querySelector('#' + key);\n",
              "        const charts = await google.colab.kernel.invokeFunction(\n",
              "            'suggestCharts', [key], {});\n",
              "      }\n",
              "    </script>\n",
              "\n",
              "      <script>\n",
              "\n",
              "function displayQuickchartButton(domScope) {\n",
              "  let quickchartButtonEl =\n",
              "    domScope.querySelector('#df-662a730d-ec85-443e-a448-902c06390cbb button.colab-df-quickchart');\n",
              "  quickchartButtonEl.style.display =\n",
              "    google.colab.kernel.accessAllowed ? 'block' : 'none';\n",
              "}\n",
              "\n",
              "        displayQuickchartButton(document);\n",
              "      </script>\n",
              "      <style>\n",
              "    .colab-df-container {\n",
              "      display:flex;\n",
              "      flex-wrap:wrap;\n",
              "      gap: 12px;\n",
              "    }\n",
              "\n",
              "    .colab-df-convert {\n",
              "      background-color: #E8F0FE;\n",
              "      border: none;\n",
              "      border-radius: 50%;\n",
              "      cursor: pointer;\n",
              "      display: none;\n",
              "      fill: #1967D2;\n",
              "      height: 32px;\n",
              "      padding: 0 0 0 0;\n",
              "      width: 32px;\n",
              "    }\n",
              "\n",
              "    .colab-df-convert:hover {\n",
              "      background-color: #E2EBFA;\n",
              "      box-shadow: 0px 1px 2px rgba(60, 64, 67, 0.3), 0px 1px 3px 1px rgba(60, 64, 67, 0.15);\n",
              "      fill: #174EA6;\n",
              "    }\n",
              "\n",
              "    [theme=dark] .colab-df-convert {\n",
              "      background-color: #3B4455;\n",
              "      fill: #D2E3FC;\n",
              "    }\n",
              "\n",
              "    [theme=dark] .colab-df-convert:hover {\n",
              "      background-color: #434B5C;\n",
              "      box-shadow: 0px 1px 3px 1px rgba(0, 0, 0, 0.15);\n",
              "      filter: drop-shadow(0px 1px 2px rgba(0, 0, 0, 0.3));\n",
              "      fill: #FFFFFF;\n",
              "    }\n",
              "  </style>\n",
              "\n",
              "      <script>\n",
              "        const buttonEl =\n",
              "          document.querySelector('#df-463d6284-7388-42fa-8be9-ac4fa2afc61a button.colab-df-convert');\n",
              "        buttonEl.style.display =\n",
              "          google.colab.kernel.accessAllowed ? 'block' : 'none';\n",
              "\n",
              "        async function convertToInteractive(key) {\n",
              "          const element = document.querySelector('#df-463d6284-7388-42fa-8be9-ac4fa2afc61a');\n",
              "          const dataTable =\n",
              "            await google.colab.kernel.invokeFunction('convertToInteractive',\n",
              "                                                     [key], {});\n",
              "          if (!dataTable) return;\n",
              "\n",
              "          const docLinkHtml = 'Like what you see? Visit the ' +\n",
              "            '<a target=\"_blank\" href=https://colab.research.google.com/notebooks/data_table.ipynb>data table notebook</a>'\n",
              "            + ' to learn more about interactive tables.';\n",
              "          element.innerHTML = '';\n",
              "          dataTable['output_type'] = 'display_data';\n",
              "          await google.colab.output.renderOutput(dataTable, element);\n",
              "          const docLink = document.createElement('div');\n",
              "          docLink.innerHTML = docLinkHtml;\n",
              "          element.appendChild(docLink);\n",
              "        }\n",
              "      </script>\n",
              "    </div>\n",
              "  </div>\n"
            ]
          },
          "metadata": {},
          "execution_count": 112
        }
      ]
    },
    {
      "cell_type": "code",
      "source": [
        "test.head()"
      ],
      "metadata": {
        "colab": {
          "base_uri": "https://localhost:8080/",
          "height": 206
        },
        "id": "p_2dIyCsDoyw",
        "outputId": "70f945b4-cff4-46ff-a755-9ccf1b094827"
      },
      "execution_count": null,
      "outputs": [
        {
          "output_type": "execute_result",
          "data": {
            "text/plain": [
              "   Pclass     Sex\n",
              "0       3    male\n",
              "1       3  female\n",
              "2       2    male\n",
              "3       3    male\n",
              "4       3  female"
            ],
            "text/html": [
              "\n",
              "\n",
              "  <div id=\"df-4f94b99c-45c7-4ec5-a40e-7e93fc227c2b\">\n",
              "    <div class=\"colab-df-container\">\n",
              "      <div>\n",
              "<style scoped>\n",
              "    .dataframe tbody tr th:only-of-type {\n",
              "        vertical-align: middle;\n",
              "    }\n",
              "\n",
              "    .dataframe tbody tr th {\n",
              "        vertical-align: top;\n",
              "    }\n",
              "\n",
              "    .dataframe thead th {\n",
              "        text-align: right;\n",
              "    }\n",
              "</style>\n",
              "<table border=\"1\" class=\"dataframe\">\n",
              "  <thead>\n",
              "    <tr style=\"text-align: right;\">\n",
              "      <th></th>\n",
              "      <th>Pclass</th>\n",
              "      <th>Sex</th>\n",
              "    </tr>\n",
              "  </thead>\n",
              "  <tbody>\n",
              "    <tr>\n",
              "      <th>0</th>\n",
              "      <td>3</td>\n",
              "      <td>male</td>\n",
              "    </tr>\n",
              "    <tr>\n",
              "      <th>1</th>\n",
              "      <td>3</td>\n",
              "      <td>female</td>\n",
              "    </tr>\n",
              "    <tr>\n",
              "      <th>2</th>\n",
              "      <td>2</td>\n",
              "      <td>male</td>\n",
              "    </tr>\n",
              "    <tr>\n",
              "      <th>3</th>\n",
              "      <td>3</td>\n",
              "      <td>male</td>\n",
              "    </tr>\n",
              "    <tr>\n",
              "      <th>4</th>\n",
              "      <td>3</td>\n",
              "      <td>female</td>\n",
              "    </tr>\n",
              "  </tbody>\n",
              "</table>\n",
              "</div>\n",
              "      <button class=\"colab-df-convert\" onclick=\"convertToInteractive('df-4f94b99c-45c7-4ec5-a40e-7e93fc227c2b')\"\n",
              "              title=\"Convert this dataframe to an interactive table.\"\n",
              "              style=\"display:none;\">\n",
              "\n",
              "  <svg xmlns=\"http://www.w3.org/2000/svg\" height=\"24px\"viewBox=\"0 0 24 24\"\n",
              "       width=\"24px\">\n",
              "    <path d=\"M0 0h24v24H0V0z\" fill=\"none\"/>\n",
              "    <path d=\"M18.56 5.44l.94 2.06.94-2.06 2.06-.94-2.06-.94-.94-2.06-.94 2.06-2.06.94zm-11 1L8.5 8.5l.94-2.06 2.06-.94-2.06-.94L8.5 2.5l-.94 2.06-2.06.94zm10 10l.94 2.06.94-2.06 2.06-.94-2.06-.94-.94-2.06-.94 2.06-2.06.94z\"/><path d=\"M17.41 7.96l-1.37-1.37c-.4-.4-.92-.59-1.43-.59-.52 0-1.04.2-1.43.59L10.3 9.45l-7.72 7.72c-.78.78-.78 2.05 0 2.83L4 21.41c.39.39.9.59 1.41.59.51 0 1.02-.2 1.41-.59l7.78-7.78 2.81-2.81c.8-.78.8-2.07 0-2.86zM5.41 20L4 18.59l7.72-7.72 1.47 1.35L5.41 20z\"/>\n",
              "  </svg>\n",
              "      </button>\n",
              "\n",
              "\n",
              "\n",
              "    <div id=\"df-16bf152f-dab0-473c-9021-893a5ca07807\">\n",
              "      <button class=\"colab-df-quickchart\" onclick=\"quickchart('df-16bf152f-dab0-473c-9021-893a5ca07807')\"\n",
              "              title=\"Suggest charts.\"\n",
              "              style=\"display:none;\">\n",
              "\n",
              "<svg xmlns=\"http://www.w3.org/2000/svg\" height=\"24px\"viewBox=\"0 0 24 24\"\n",
              "     width=\"24px\">\n",
              "    <g>\n",
              "        <path d=\"M19 3H5c-1.1 0-2 .9-2 2v14c0 1.1.9 2 2 2h14c1.1 0 2-.9 2-2V5c0-1.1-.9-2-2-2zM9 17H7v-7h2v7zm4 0h-2V7h2v10zm4 0h-2v-4h2v4z\"/>\n",
              "    </g>\n",
              "</svg>\n",
              "      </button>\n",
              "    </div>\n",
              "\n",
              "<style>\n",
              "  .colab-df-quickchart {\n",
              "    background-color: #E8F0FE;\n",
              "    border: none;\n",
              "    border-radius: 50%;\n",
              "    cursor: pointer;\n",
              "    display: none;\n",
              "    fill: #1967D2;\n",
              "    height: 32px;\n",
              "    padding: 0 0 0 0;\n",
              "    width: 32px;\n",
              "  }\n",
              "\n",
              "  .colab-df-quickchart:hover {\n",
              "    background-color: #E2EBFA;\n",
              "    box-shadow: 0px 1px 2px rgba(60, 64, 67, 0.3), 0px 1px 3px 1px rgba(60, 64, 67, 0.15);\n",
              "    fill: #174EA6;\n",
              "  }\n",
              "\n",
              "  [theme=dark] .colab-df-quickchart {\n",
              "    background-color: #3B4455;\n",
              "    fill: #D2E3FC;\n",
              "  }\n",
              "\n",
              "  [theme=dark] .colab-df-quickchart:hover {\n",
              "    background-color: #434B5C;\n",
              "    box-shadow: 0px 1px 3px 1px rgba(0, 0, 0, 0.15);\n",
              "    filter: drop-shadow(0px 1px 2px rgba(0, 0, 0, 0.3));\n",
              "    fill: #FFFFFF;\n",
              "  }\n",
              "</style>\n",
              "\n",
              "    <script>\n",
              "      async function quickchart(key) {\n",
              "        const containerElement = document.querySelector('#' + key);\n",
              "        const charts = await google.colab.kernel.invokeFunction(\n",
              "            'suggestCharts', [key], {});\n",
              "      }\n",
              "    </script>\n",
              "\n",
              "      <script>\n",
              "\n",
              "function displayQuickchartButton(domScope) {\n",
              "  let quickchartButtonEl =\n",
              "    domScope.querySelector('#df-16bf152f-dab0-473c-9021-893a5ca07807 button.colab-df-quickchart');\n",
              "  quickchartButtonEl.style.display =\n",
              "    google.colab.kernel.accessAllowed ? 'block' : 'none';\n",
              "}\n",
              "\n",
              "        displayQuickchartButton(document);\n",
              "      </script>\n",
              "      <style>\n",
              "    .colab-df-container {\n",
              "      display:flex;\n",
              "      flex-wrap:wrap;\n",
              "      gap: 12px;\n",
              "    }\n",
              "\n",
              "    .colab-df-convert {\n",
              "      background-color: #E8F0FE;\n",
              "      border: none;\n",
              "      border-radius: 50%;\n",
              "      cursor: pointer;\n",
              "      display: none;\n",
              "      fill: #1967D2;\n",
              "      height: 32px;\n",
              "      padding: 0 0 0 0;\n",
              "      width: 32px;\n",
              "    }\n",
              "\n",
              "    .colab-df-convert:hover {\n",
              "      background-color: #E2EBFA;\n",
              "      box-shadow: 0px 1px 2px rgba(60, 64, 67, 0.3), 0px 1px 3px 1px rgba(60, 64, 67, 0.15);\n",
              "      fill: #174EA6;\n",
              "    }\n",
              "\n",
              "    [theme=dark] .colab-df-convert {\n",
              "      background-color: #3B4455;\n",
              "      fill: #D2E3FC;\n",
              "    }\n",
              "\n",
              "    [theme=dark] .colab-df-convert:hover {\n",
              "      background-color: #434B5C;\n",
              "      box-shadow: 0px 1px 3px 1px rgba(0, 0, 0, 0.15);\n",
              "      filter: drop-shadow(0px 1px 2px rgba(0, 0, 0, 0.3));\n",
              "      fill: #FFFFFF;\n",
              "    }\n",
              "  </style>\n",
              "\n",
              "      <script>\n",
              "        const buttonEl =\n",
              "          document.querySelector('#df-4f94b99c-45c7-4ec5-a40e-7e93fc227c2b button.colab-df-convert');\n",
              "        buttonEl.style.display =\n",
              "          google.colab.kernel.accessAllowed ? 'block' : 'none';\n",
              "\n",
              "        async function convertToInteractive(key) {\n",
              "          const element = document.querySelector('#df-4f94b99c-45c7-4ec5-a40e-7e93fc227c2b');\n",
              "          const dataTable =\n",
              "            await google.colab.kernel.invokeFunction('convertToInteractive',\n",
              "                                                     [key], {});\n",
              "          if (!dataTable) return;\n",
              "\n",
              "          const docLinkHtml = 'Like what you see? Visit the ' +\n",
              "            '<a target=\"_blank\" href=https://colab.research.google.com/notebooks/data_table.ipynb>data table notebook</a>'\n",
              "            + ' to learn more about interactive tables.';\n",
              "          element.innerHTML = '';\n",
              "          dataTable['output_type'] = 'display_data';\n",
              "          await google.colab.output.renderOutput(dataTable, element);\n",
              "          const docLink = document.createElement('div');\n",
              "          docLink.innerHTML = docLinkHtml;\n",
              "          element.appendChild(docLink);\n",
              "        }\n",
              "      </script>\n",
              "    </div>\n",
              "  </div>\n"
            ]
          },
          "metadata": {},
          "execution_count": 114
        }
      ]
    },
    {
      "cell_type": "code",
      "source": [
        "for i in train.index:\n",
        "  if train.loc[i, 'Sex'] == 'male':\n",
        "    train.loc[i, 'Sex'] = 1\n",
        "  else:\n",
        "    train.loc[i, 'Sex'] = 0"
      ],
      "metadata": {
        "id": "k_d-qdxY6SZ9"
      },
      "execution_count": 5,
      "outputs": []
    },
    {
      "cell_type": "code",
      "source": [
        "for i in test.index:\n",
        "  if test.loc[i, 'Sex'] == 'male':\n",
        "    test.loc[i, 'Sex'] = 1\n",
        "  else:\n",
        "    test.loc[i, 'Sex'] = 0"
      ],
      "metadata": {
        "id": "Q5mG5HxCDlgL"
      },
      "execution_count": 6,
      "outputs": []
    },
    {
      "cell_type": "code",
      "source": [
        "target = np.ravel(train.Survived)"
      ],
      "metadata": {
        "id": "zMxO6SUxsoTV"
      },
      "execution_count": 7,
      "outputs": []
    },
    {
      "cell_type": "code",
      "source": [
        "train.drop(['Survived'], inplace = True, axis = 1)\n",
        "\n",
        "train = train.astype(float)\n",
        "test = test.astype(float)"
      ],
      "metadata": {
        "id": "NmCU4avyLAmG"
      },
      "execution_count": 9,
      "outputs": []
    },
    {
      "cell_type": "code",
      "source": [
        "train = np.array(train)"
      ],
      "metadata": {
        "id": "oFvyUR4JHY9s"
      },
      "execution_count": 14,
      "outputs": []
    },
    {
      "cell_type": "code",
      "source": [
        "target"
      ],
      "metadata": {
        "colab": {
          "base_uri": "https://localhost:8080/"
        },
        "id": "n22yYTwvJ-T8",
        "outputId": "8babe9cb-fd15-4232-a7db-35683e089ee0"
      },
      "execution_count": 8,
      "outputs": [
        {
          "output_type": "execute_result",
          "data": {
            "text/plain": [
              "array([0, 1, 1, 1, 0, 0, 0, 0, 1, 1, 1, 1, 0, 0, 0, 1, 0, 1, 0, 1, 0, 1,\n",
              "       1, 1, 0, 1, 0, 0, 1, 0, 0, 1, 1, 0, 0, 0, 1, 0, 0, 1, 0, 0, 0, 1,\n",
              "       1, 0, 0, 1, 0, 0, 0, 0, 1, 1, 0, 1, 1, 0, 1, 0, 0, 1, 0, 0, 0, 1,\n",
              "       1, 0, 1, 0, 0, 0, 0, 0, 1, 0, 0, 0, 1, 1, 0, 1, 1, 0, 1, 1, 0, 0,\n",
              "       1, 0, 0, 0, 0, 0, 0, 0, 0, 1, 1, 0, 0, 0, 0, 0, 0, 0, 1, 1, 0, 1,\n",
              "       0, 0, 0, 0, 0, 0, 0, 0, 0, 0, 0, 0, 0, 1, 0, 1, 0, 1, 1, 0, 0, 0,\n",
              "       0, 1, 0, 0, 1, 0, 0, 0, 0, 1, 1, 0, 0, 0, 1, 0, 0, 0, 0, 1, 0, 0,\n",
              "       0, 0, 1, 0, 0, 0, 0, 1, 0, 0, 0, 1, 1, 0, 0, 0, 0, 0, 1, 0, 0, 0,\n",
              "       0, 0, 0, 0, 0, 0, 0, 1, 1, 0, 1, 1, 0, 0, 1, 0, 1, 1, 1, 1, 0, 0,\n",
              "       1, 0, 0, 0, 0, 0, 1, 0, 0, 1, 1, 1, 0, 1, 0, 0, 0, 1, 1, 0, 1, 0,\n",
              "       1, 0, 0, 0, 1, 0, 1, 0, 0, 0, 1, 0, 0, 1, 0, 0, 0, 1, 0, 0, 0, 1,\n",
              "       0, 0, 0, 0, 0, 1, 1, 0, 0, 0, 0, 0, 0, 1, 1, 1, 1, 1, 0, 1, 0, 0,\n",
              "       0, 0, 0, 1, 1, 1, 0, 1, 1, 0, 1, 1, 0, 0, 0, 1, 0, 0, 0, 1, 0, 0,\n",
              "       1, 0, 1, 1, 1, 1, 0, 0, 0, 0, 0, 0, 1, 1, 1, 1, 0, 1, 0, 1, 1, 1,\n",
              "       0, 1, 1, 1, 0, 0, 0, 1, 1, 0, 1, 1, 0, 0, 1, 1, 0, 1, 0, 1, 1, 1,\n",
              "       1, 0, 0, 0, 1, 0, 0, 1, 1, 0, 1, 1, 0, 0, 0, 1, 1, 1, 1, 0, 0, 0,\n",
              "       0, 0, 0, 0, 1, 0, 1, 1, 0, 0, 0, 0, 0, 0, 1, 1, 1, 1, 1, 0, 0, 0,\n",
              "       0, 1, 1, 0, 0, 0, 1, 1, 0, 1, 0, 0, 0, 1, 0, 1, 1, 1, 0, 1, 1, 0,\n",
              "       0, 0, 0, 1, 1, 0, 0, 0, 0, 0, 0, 1, 0, 0, 0, 0, 1, 0, 1, 0, 1, 1,\n",
              "       0, 0, 0, 0, 0, 0, 0, 0, 1, 1, 0, 1, 1, 1, 1, 0, 0, 1, 0, 1, 0, 0,\n",
              "       1, 0, 0, 1, 1, 1, 1, 1, 1, 1, 0, 0, 0, 1, 0, 1, 0, 1, 1, 0, 1, 0,\n",
              "       0, 0, 0, 0, 0, 0, 0, 1, 0, 0, 1, 1, 0, 0, 0, 0, 0, 1, 0, 0, 0, 1,\n",
              "       1, 0, 1, 0, 0, 1, 0, 0, 0, 0, 0, 0, 1, 0, 0, 0, 0, 0, 0, 0, 1, 0,\n",
              "       1, 1, 0, 1, 1, 0, 1, 1, 0, 0, 1, 0, 1, 0, 1, 0, 0, 1, 0, 0, 1, 0,\n",
              "       0, 0, 1, 0, 0, 1, 0, 1, 0, 1, 0, 1, 1, 0, 0, 1, 0, 0, 1, 1, 0, 1,\n",
              "       1, 0, 0, 1, 1, 0, 1, 0, 1, 1, 0, 0, 0, 0, 0, 0, 0, 0, 0, 1, 1, 1,\n",
              "       1, 1, 0, 0, 1, 1, 0, 1, 1, 1, 0, 0, 0, 1, 0, 1, 0, 0, 0, 1, 0, 0,\n",
              "       0, 0, 1, 0, 0, 1, 1, 0, 0, 0, 1, 0, 0, 1, 1, 1, 0, 0, 1, 0, 0, 1,\n",
              "       0, 0, 1, 0, 0, 1, 1, 0, 0, 0, 0, 1, 0, 0, 1, 0, 1, 0, 0, 1, 0, 0,\n",
              "       0, 0, 0, 1, 0, 1, 1, 1, 0, 1, 0, 1, 0, 1, 0, 1, 0, 0, 0, 0, 0, 0,\n",
              "       1, 0, 0, 0, 1, 0, 0, 0, 0, 1, 1, 0, 0, 1, 0, 0, 0, 1, 0, 1, 0, 1,\n",
              "       0, 0, 0, 0, 0, 0, 0, 1, 1, 1, 1, 0, 0, 0, 0, 1, 0, 0, 1, 1, 0, 0,\n",
              "       0, 0, 1, 1, 1, 1, 1, 0, 1, 0, 0, 0, 1, 1, 0, 0, 1, 0, 0, 0, 1, 0,\n",
              "       1, 1, 0, 0, 1, 0, 0, 0, 0, 0, 0, 1, 0, 0, 1, 0, 1, 0, 1, 0, 0, 1,\n",
              "       0, 0, 1, 1, 0, 0, 1, 1, 0, 0, 0, 1, 0, 0, 1, 1, 0, 1, 0, 0, 0, 0,\n",
              "       0, 0, 0, 0, 1, 0, 0, 1, 0, 1, 1, 1, 0, 0, 0, 0, 1, 0, 1, 0, 0, 0,\n",
              "       0, 0, 0, 0, 1, 1, 0, 0, 0, 1, 1, 1, 1, 0, 0, 0, 0, 1, 0, 0, 0, 0,\n",
              "       0, 0, 0, 0, 0, 0, 1, 1, 0, 1, 0, 0, 0, 1, 1, 1, 1, 1, 0, 0, 0, 1,\n",
              "       0, 0, 1, 1, 0, 0, 1, 0, 0, 0, 0, 0, 0, 1, 0, 0, 0, 1, 0, 1, 1, 1,\n",
              "       1, 0, 0, 0, 1, 0, 0, 1, 1, 0, 0, 1, 0, 1, 0, 0, 1, 1, 0, 0, 0, 1,\n",
              "       1, 0, 0, 0, 0, 0, 0, 1, 0, 1, 0])"
            ]
          },
          "metadata": {},
          "execution_count": 8
        }
      ]
    },
    {
      "cell_type": "code",
      "source": [
        "target.shape"
      ],
      "metadata": {
        "colab": {
          "base_uri": "https://localhost:8080/"
        },
        "id": "YQvMDcMqKFMR",
        "outputId": "1cdb7df5-6cc2-4d35-db48-1c3b9e2da9a3"
      },
      "execution_count": 21,
      "outputs": [
        {
          "output_type": "execute_result",
          "data": {
            "text/plain": [
              "(891,)"
            ]
          },
          "metadata": {},
          "execution_count": 21
        }
      ]
    },
    {
      "cell_type": "code",
      "source": [
        "train.shape"
      ],
      "metadata": {
        "colab": {
          "base_uri": "https://localhost:8080/"
        },
        "id": "0-LgkKECThZs",
        "outputId": "74915438-c28e-4801-ac59-0c3ea1832939"
      },
      "execution_count": 22,
      "outputs": [
        {
          "output_type": "execute_result",
          "data": {
            "text/plain": [
              "(891, 2)"
            ]
          },
          "metadata": {},
          "execution_count": 22
        }
      ]
    },
    {
      "cell_type": "code",
      "source": [
        "model = keras.models.Sequential()\n",
        "model.add(keras.layers.Dense(16, activation = 'relu', input_shape = (2, )))\n",
        "model.add(keras.layers.Dense(8, activation = 'relu'))\n",
        "model.add(keras.layers.Dense(1, activation = 'sigmoid'))"
      ],
      "metadata": {
        "id": "ELMYR-03BVDA"
      },
      "execution_count": 16,
      "outputs": []
    },
    {
      "cell_type": "code",
      "source": [
        "model.compile(optimizer = 'adam',\n",
        "              loss = 'binary_crossentropy',\n",
        "              metrics = ['accuracy'])"
      ],
      "metadata": {
        "id": "Syf1UF1uFDB6"
      },
      "execution_count": 17,
      "outputs": []
    },
    {
      "cell_type": "code",
      "source": [
        "model.fit(train, target, epochs = 20, batch_size = 1, verbose = 1)"
      ],
      "metadata": {
        "colab": {
          "base_uri": "https://localhost:8080/"
        },
        "id": "yxjHRaDkFOQn",
        "outputId": "fcc6d158-5ef4-45f1-a6dc-1ace4d0f5607"
      },
      "execution_count": 27,
      "outputs": [
        {
          "output_type": "stream",
          "name": "stdout",
          "text": [
            "Epoch 1/20\n",
            "891/891 [==============================] - 2s 2ms/step - loss: 0.4554 - accuracy: 0.7901\n",
            "Epoch 2/20\n",
            "891/891 [==============================] - 2s 2ms/step - loss: 0.4559 - accuracy: 0.7800\n",
            "Epoch 3/20\n",
            "891/891 [==============================] - 2s 2ms/step - loss: 0.4561 - accuracy: 0.7845\n",
            "Epoch 4/20\n",
            "891/891 [==============================] - 2s 2ms/step - loss: 0.4556 - accuracy: 0.7823\n",
            "Epoch 5/20\n",
            "891/891 [==============================] - 2s 3ms/step - loss: 0.4561 - accuracy: 0.7845\n",
            "Epoch 6/20\n",
            "891/891 [==============================] - 2s 2ms/step - loss: 0.4548 - accuracy: 0.7823\n",
            "Epoch 7/20\n",
            "891/891 [==============================] - 2s 2ms/step - loss: 0.4573 - accuracy: 0.7823\n",
            "Epoch 8/20\n",
            "891/891 [==============================] - 2s 2ms/step - loss: 0.4552 - accuracy: 0.7778\n",
            "Epoch 9/20\n",
            "891/891 [==============================] - 2s 2ms/step - loss: 0.4561 - accuracy: 0.7767\n",
            "Epoch 10/20\n",
            "891/891 [==============================] - 2s 2ms/step - loss: 0.4552 - accuracy: 0.7834\n",
            "Epoch 11/20\n",
            "891/891 [==============================] - 2s 2ms/step - loss: 0.4564 - accuracy: 0.7834\n",
            "Epoch 12/20\n",
            "891/891 [==============================] - 2s 3ms/step - loss: 0.4562 - accuracy: 0.7856\n",
            "Epoch 13/20\n",
            "891/891 [==============================] - 2s 2ms/step - loss: 0.4549 - accuracy: 0.7834\n",
            "Epoch 14/20\n",
            "891/891 [==============================] - 2s 2ms/step - loss: 0.4532 - accuracy: 0.7834\n",
            "Epoch 15/20\n",
            "891/891 [==============================] - 2s 2ms/step - loss: 0.4557 - accuracy: 0.7879\n",
            "Epoch 16/20\n",
            "891/891 [==============================] - 2s 2ms/step - loss: 0.4531 - accuracy: 0.7856\n",
            "Epoch 17/20\n",
            "891/891 [==============================] - 2s 2ms/step - loss: 0.4551 - accuracy: 0.7789\n",
            "Epoch 18/20\n",
            "891/891 [==============================] - 2s 2ms/step - loss: 0.4551 - accuracy: 0.7800\n",
            "Epoch 19/20\n",
            "891/891 [==============================] - 3s 3ms/step - loss: 0.4548 - accuracy: 0.7767\n",
            "Epoch 20/20\n",
            "891/891 [==============================] - 2s 2ms/step - loss: 0.4547 - accuracy: 0.7868\n"
          ]
        },
        {
          "output_type": "execute_result",
          "data": {
            "text/plain": [
              "<keras.callbacks.History at 0x7f13b3702830>"
            ]
          },
          "metadata": {},
          "execution_count": 27
        }
      ]
    },
    {
      "cell_type": "code",
      "source": [
        "pred = model.predict(test)"
      ],
      "metadata": {
        "colab": {
          "base_uri": "https://localhost:8080/"
        },
        "id": "mZ_nXMZIBVV7",
        "outputId": "8c3d8563-3ab6-4fd8-e462-95d5bbde5ea3"
      },
      "execution_count": 28,
      "outputs": [
        {
          "output_type": "stream",
          "name": "stdout",
          "text": [
            "14/14 [==============================] - 0s 2ms/step\n"
          ]
        }
      ]
    },
    {
      "cell_type": "code",
      "source": [
        "pred"
      ],
      "metadata": {
        "colab": {
          "base_uri": "https://localhost:8080/"
        },
        "id": "UCxRDy6hBVZl",
        "outputId": "e2e9bd6b-16eb-45f8-bcb6-e3f8ba771acd"
      },
      "execution_count": 42,
      "outputs": [
        {
          "output_type": "execute_result",
          "data": {
            "text/plain": [
              "array([[0.1310735 ],\n",
              "       [0.49265602],\n",
              "       [0.22178413],\n",
              "       [0.1310735 ],\n",
              "       [0.49265602],\n",
              "       [0.1310735 ],\n",
              "       [0.49265602],\n",
              "       [0.22178413],\n",
              "       [0.49265602],\n",
              "       [0.1310735 ],\n",
              "       [0.1310735 ],\n",
              "       [0.3560902 ],\n",
              "       [0.97101545],\n",
              "       [0.22178413],\n",
              "       [0.97101545],\n",
              "       [0.91682374],\n",
              "       [0.22178413],\n",
              "       [0.1310735 ],\n",
              "       [0.49265602],\n",
              "       [0.49265602],\n",
              "       [0.3560902 ],\n",
              "       [0.1310735 ],\n",
              "       [0.97101545],\n",
              "       [0.3560902 ],\n",
              "       [0.97101545],\n",
              "       [0.1310735 ],\n",
              "       [0.97101545],\n",
              "       [0.1310735 ],\n",
              "       [0.3560902 ],\n",
              "       [0.1310735 ],\n",
              "       [0.22178413],\n",
              "       [0.22178413],\n",
              "       [0.49265602],\n",
              "       [0.49265602],\n",
              "       [0.3560902 ],\n",
              "       [0.1310735 ],\n",
              "       [0.49265602],\n",
              "       [0.49265602],\n",
              "       [0.1310735 ],\n",
              "       [0.1310735 ],\n",
              "       [0.1310735 ],\n",
              "       [0.3560902 ],\n",
              "       [0.1310735 ],\n",
              "       [0.91682374],\n",
              "       [0.97101545],\n",
              "       [0.1310735 ],\n",
              "       [0.3560902 ],\n",
              "       [0.1310735 ],\n",
              "       [0.97101545],\n",
              "       [0.49265602],\n",
              "       [0.3560902 ],\n",
              "       [0.22178413],\n",
              "       [0.91682374],\n",
              "       [0.97101545],\n",
              "       [0.22178413],\n",
              "       [0.1310735 ],\n",
              "       [0.1310735 ],\n",
              "       [0.1310735 ],\n",
              "       [0.1310735 ],\n",
              "       [0.97101545],\n",
              "       [0.1310735 ],\n",
              "       [0.22178413],\n",
              "       [0.1310735 ],\n",
              "       [0.49265602],\n",
              "       [0.3560902 ],\n",
              "       [0.91682374],\n",
              "       [0.49265602],\n",
              "       [0.3560902 ],\n",
              "       [0.3560902 ],\n",
              "       [0.97101545],\n",
              "       [0.49265602],\n",
              "       [0.1310735 ],\n",
              "       [0.49265602],\n",
              "       [0.3560902 ],\n",
              "       [0.97101545],\n",
              "       [0.3560902 ],\n",
              "       [0.1310735 ],\n",
              "       [0.97101545],\n",
              "       [0.22178413],\n",
              "       [0.49265602],\n",
              "       [0.1310735 ],\n",
              "       [0.3560902 ],\n",
              "       [0.3560902 ],\n",
              "       [0.1310735 ],\n",
              "       [0.22178413],\n",
              "       [0.1310735 ],\n",
              "       [0.49265602],\n",
              "       [0.49265602],\n",
              "       [0.49265602],\n",
              "       [0.22178413],\n",
              "       [0.49265602],\n",
              "       [0.1310735 ],\n",
              "       [0.97101545],\n",
              "       [0.1310735 ],\n",
              "       [0.3560902 ],\n",
              "       [0.1310735 ],\n",
              "       [0.97101545],\n",
              "       [0.1310735 ],\n",
              "       [0.49265602],\n",
              "       [0.1310735 ],\n",
              "       [0.97101545],\n",
              "       [0.22178413],\n",
              "       [0.1310735 ],\n",
              "       [0.1310735 ],\n",
              "       [0.49265602],\n",
              "       [0.1310735 ],\n",
              "       [0.1310735 ],\n",
              "       [0.1310735 ],\n",
              "       [0.1310735 ],\n",
              "       [0.22178413],\n",
              "       [0.22178413],\n",
              "       [0.49265602],\n",
              "       [0.97101545],\n",
              "       [0.49265602],\n",
              "       [0.97101545],\n",
              "       [0.1310735 ],\n",
              "       [0.1310735 ],\n",
              "       [0.49265602],\n",
              "       [0.3560902 ],\n",
              "       [0.91682374],\n",
              "       [0.91682374],\n",
              "       [0.1310735 ],\n",
              "       [0.97101545],\n",
              "       [0.1310735 ],\n",
              "       [0.1310735 ],\n",
              "       [0.49265602],\n",
              "       [0.1310735 ],\n",
              "       [0.49265602],\n",
              "       [0.22178413],\n",
              "       [0.1310735 ],\n",
              "       [0.1310735 ],\n",
              "       [0.3560902 ],\n",
              "       [0.49265602],\n",
              "       [0.1310735 ],\n",
              "       [0.1310735 ],\n",
              "       [0.1310735 ],\n",
              "       [0.1310735 ],\n",
              "       [0.22178413],\n",
              "       [0.49265602],\n",
              "       [0.1310735 ],\n",
              "       [0.49265602],\n",
              "       [0.97101545],\n",
              "       [0.3560902 ],\n",
              "       [0.22178413],\n",
              "       [0.3560902 ],\n",
              "       [0.1310735 ],\n",
              "       [0.3560902 ],\n",
              "       [0.1310735 ],\n",
              "       [0.3560902 ],\n",
              "       [0.22178413],\n",
              "       [0.97101545],\n",
              "       [0.1310735 ],\n",
              "       [0.1310735 ],\n",
              "       [0.49265602],\n",
              "       [0.1310735 ],\n",
              "       [0.1310735 ],\n",
              "       [0.97101545],\n",
              "       [0.49265602],\n",
              "       [0.3560902 ],\n",
              "       [0.49265602],\n",
              "       [0.49265602],\n",
              "       [0.1310735 ],\n",
              "       [0.91682374],\n",
              "       [0.1310735 ],\n",
              "       [0.22178413],\n",
              "       [0.49265602],\n",
              "       [0.3560902 ],\n",
              "       [0.1310735 ],\n",
              "       [0.97101545],\n",
              "       [0.49265602],\n",
              "       [0.1310735 ],\n",
              "       [0.1310735 ],\n",
              "       [0.1310735 ],\n",
              "       [0.1310735 ],\n",
              "       [0.1310735 ],\n",
              "       [0.91682374],\n",
              "       [0.91682374],\n",
              "       [0.3560902 ],\n",
              "       [0.91682374],\n",
              "       [0.97101545],\n",
              "       [0.22178413],\n",
              "       [0.3560902 ],\n",
              "       [0.97101545],\n",
              "       [0.1310735 ],\n",
              "       [0.97101545],\n",
              "       [0.22178413],\n",
              "       [0.91682374],\n",
              "       [0.1310735 ],\n",
              "       [0.49265602],\n",
              "       [0.22178413],\n",
              "       [0.22178413],\n",
              "       [0.3560902 ],\n",
              "       [0.1310735 ],\n",
              "       [0.22178413],\n",
              "       [0.22178413],\n",
              "       [0.1310735 ],\n",
              "       [0.3560902 ],\n",
              "       [0.49265602],\n",
              "       [0.22178413],\n",
              "       [0.49265602],\n",
              "       [0.49265602],\n",
              "       [0.1310735 ],\n",
              "       [0.3560902 ],\n",
              "       [0.91682374],\n",
              "       [0.22178413],\n",
              "       [0.3560902 ],\n",
              "       [0.49265602],\n",
              "       [0.22178413],\n",
              "       [0.97101545],\n",
              "       [0.1310735 ],\n",
              "       [0.1310735 ],\n",
              "       [0.1310735 ],\n",
              "       [0.22178413],\n",
              "       [0.91682374],\n",
              "       [0.49265602],\n",
              "       [0.3560902 ],\n",
              "       [0.49265602],\n",
              "       [0.3560902 ],\n",
              "       [0.97101545],\n",
              "       [0.1310735 ],\n",
              "       [0.91682374],\n",
              "       [0.1310735 ],\n",
              "       [0.91682374],\n",
              "       [0.1310735 ],\n",
              "       [0.97101545],\n",
              "       [0.49265602],\n",
              "       [0.1310735 ],\n",
              "       [0.49265602],\n",
              "       [0.1310735 ],\n",
              "       [0.22178413],\n",
              "       [0.22178413],\n",
              "       [0.97101545],\n",
              "       [0.1310735 ],\n",
              "       [0.1310735 ],\n",
              "       [0.3560902 ],\n",
              "       [0.1310735 ],\n",
              "       [0.3560902 ],\n",
              "       [0.1310735 ],\n",
              "       [0.91682374],\n",
              "       [0.97101545],\n",
              "       [0.97101545],\n",
              "       [0.91682374],\n",
              "       [0.3560902 ],\n",
              "       [0.1310735 ],\n",
              "       [0.1310735 ],\n",
              "       [0.3560902 ],\n",
              "       [0.91682374],\n",
              "       [0.22178413],\n",
              "       [0.91682374],\n",
              "       [0.49265602],\n",
              "       [0.91682374],\n",
              "       [0.1310735 ],\n",
              "       [0.3560902 ],\n",
              "       [0.1310735 ],\n",
              "       [0.1310735 ],\n",
              "       [0.1310735 ],\n",
              "       [0.1310735 ],\n",
              "       [0.1310735 ],\n",
              "       [0.91682374],\n",
              "       [0.1310735 ],\n",
              "       [0.1310735 ],\n",
              "       [0.1310735 ],\n",
              "       [0.91682374],\n",
              "       [0.49265602],\n",
              "       [0.22178413],\n",
              "       [0.1310735 ],\n",
              "       [0.3560902 ],\n",
              "       [0.1310735 ],\n",
              "       [0.49265602],\n",
              "       [0.1310735 ],\n",
              "       [0.3560902 ],\n",
              "       [0.1310735 ],\n",
              "       [0.97101545],\n",
              "       [0.49265602],\n",
              "       [0.1310735 ],\n",
              "       [0.91682374],\n",
              "       [0.22178413],\n",
              "       [0.22178413],\n",
              "       [0.22178413],\n",
              "       [0.22178413],\n",
              "       [0.49265602],\n",
              "       [0.1310735 ],\n",
              "       [0.49265602],\n",
              "       [0.49265602],\n",
              "       [0.49265602],\n",
              "       [0.1310735 ],\n",
              "       [0.1310735 ],\n",
              "       [0.3560902 ],\n",
              "       [0.1310735 ],\n",
              "       [0.1310735 ],\n",
              "       [0.3560902 ],\n",
              "       [0.49265602],\n",
              "       [0.1310735 ],\n",
              "       [0.3560902 ],\n",
              "       [0.1310735 ],\n",
              "       [0.1310735 ],\n",
              "       [0.91682374],\n",
              "       [0.1310735 ],\n",
              "       [0.3560902 ],\n",
              "       [0.1310735 ],\n",
              "       [0.1310735 ],\n",
              "       [0.22178413],\n",
              "       [0.22178413],\n",
              "       [0.1310735 ],\n",
              "       [0.49265602],\n",
              "       [0.97101545],\n",
              "       [0.3560902 ],\n",
              "       [0.1310735 ],\n",
              "       [0.3560902 ],\n",
              "       [0.49265602],\n",
              "       [0.1310735 ],\n",
              "       [0.1310735 ],\n",
              "       [0.1310735 ],\n",
              "       [0.49265602],\n",
              "       [0.97101545],\n",
              "       [0.49265602],\n",
              "       [0.3560902 ],\n",
              "       [0.22178413],\n",
              "       [0.1310735 ],\n",
              "       [0.22178413],\n",
              "       [0.1310735 ],\n",
              "       [0.1310735 ],\n",
              "       [0.22178413],\n",
              "       [0.3560902 ],\n",
              "       [0.97101545],\n",
              "       [0.1310735 ],\n",
              "       [0.91682374],\n",
              "       [0.3560902 ],\n",
              "       [0.22178413],\n",
              "       [0.22178413],\n",
              "       [0.91682374],\n",
              "       [0.3560902 ],\n",
              "       [0.1310735 ],\n",
              "       [0.49265602],\n",
              "       [0.1310735 ],\n",
              "       [0.3560902 ],\n",
              "       [0.22178413],\n",
              "       [0.1310735 ],\n",
              "       [0.22178413],\n",
              "       [0.1310735 ],\n",
              "       [0.22178413],\n",
              "       [0.1310735 ],\n",
              "       [0.1310735 ],\n",
              "       [0.97101545],\n",
              "       [0.1310735 ],\n",
              "       [0.49265602],\n",
              "       [0.22178413],\n",
              "       [0.49265602],\n",
              "       [0.22178413],\n",
              "       [0.91682374],\n",
              "       [0.97101545],\n",
              "       [0.22178413],\n",
              "       [0.22178413],\n",
              "       [0.22178413],\n",
              "       [0.49265602],\n",
              "       [0.3560902 ],\n",
              "       [0.97101545],\n",
              "       [0.1310735 ],\n",
              "       [0.1310735 ],\n",
              "       [0.49265602],\n",
              "       [0.1310735 ],\n",
              "       [0.91682374],\n",
              "       [0.91682374],\n",
              "       [0.1310735 ],\n",
              "       [0.97101545],\n",
              "       [0.49265602],\n",
              "       [0.1310735 ],\n",
              "       [0.49265602],\n",
              "       [0.97101545],\n",
              "       [0.22178413],\n",
              "       [0.22178413],\n",
              "       [0.97101545],\n",
              "       [0.3560902 ],\n",
              "       [0.22178413],\n",
              "       [0.97101545],\n",
              "       [0.97101545],\n",
              "       [0.49265602],\n",
              "       [0.22178413],\n",
              "       [0.3560902 ],\n",
              "       [0.1310735 ],\n",
              "       [0.1310735 ],\n",
              "       [0.1310735 ],\n",
              "       [0.49265602],\n",
              "       [0.49265602],\n",
              "       [0.22178413],\n",
              "       [0.91682374],\n",
              "       [0.1310735 ],\n",
              "       [0.22178413],\n",
              "       [0.1310735 ],\n",
              "       [0.1310735 ],\n",
              "       [0.3560902 ],\n",
              "       [0.97101545],\n",
              "       [0.1310735 ],\n",
              "       [0.22178413],\n",
              "       [0.1310735 ],\n",
              "       [0.97101545],\n",
              "       [0.1310735 ],\n",
              "       [0.97101545],\n",
              "       [0.1310735 ],\n",
              "       [0.1310735 ],\n",
              "       [0.97101545],\n",
              "       [0.22178413],\n",
              "       [0.97101545],\n",
              "       [0.3560902 ],\n",
              "       [0.3560902 ],\n",
              "       [0.22178413],\n",
              "       [0.22178413],\n",
              "       [0.3560902 ],\n",
              "       [0.49265602],\n",
              "       [0.49265602],\n",
              "       [0.49265602],\n",
              "       [0.97101545],\n",
              "       [0.49265602],\n",
              "       [0.1310735 ],\n",
              "       [0.97101545],\n",
              "       [0.1310735 ],\n",
              "       [0.1310735 ],\n",
              "       [0.1310735 ]], dtype=float32)"
            ]
          },
          "metadata": {},
          "execution_count": 42
        }
      ]
    },
    {
      "cell_type": "markdown",
      "source": [
        "## Wine"
      ],
      "metadata": {
        "id": "sAoTBziRDNW0"
      }
    },
    {
      "cell_type": "code",
      "source": [
        "from tensorflow.keras.models import Sequential\n",
        "from tensorflow.keras.layers import Dense\n",
        "from sklearn.model_selection import train_test_split"
      ],
      "metadata": {
        "id": "fKHWXNQGBwst"
      },
      "execution_count": null,
      "outputs": []
    },
    {
      "cell_type": "code",
      "source": [
        "df = pd.read_csv('/content/wine.csv', header = None)"
      ],
      "metadata": {
        "id": "FUc3JZWnAiOU"
      },
      "execution_count": null,
      "outputs": []
    },
    {
      "cell_type": "code",
      "source": [
        "x = df.iloc[:, 0:12]\n",
        "y = df.iloc[:, 12]"
      ],
      "metadata": {
        "id": "Q3MiGKClBPCk"
      },
      "execution_count": null,
      "outputs": []
    },
    {
      "cell_type": "code",
      "source": [
        "x_tr, x_te, y_tr, y_te = train_test_split(x, y, test_size = 0.2, shuffle = True)"
      ],
      "metadata": {
        "id": "kSQcWoO7BU6d"
      },
      "execution_count": null,
      "outputs": []
    },
    {
      "cell_type": "code",
      "source": [
        "x_tr.shape"
      ],
      "metadata": {
        "colab": {
          "base_uri": "https://localhost:8080/"
        },
        "id": "kOa66eyrCNZU",
        "outputId": "cc78efcd-e496-4f7b-c263-0d0ff28372b9"
      },
      "execution_count": null,
      "outputs": [
        {
          "output_type": "execute_result",
          "data": {
            "text/plain": [
              "(5197, 12)"
            ]
          },
          "metadata": {},
          "execution_count": 187
        }
      ]
    },
    {
      "cell_type": "markdown",
      "source": [
        "### 층 하나씩 쌓기"
      ],
      "metadata": {
        "id": "VA7Zg71yDhJF"
      }
    },
    {
      "cell_type": "code",
      "source": [
        "model = Sequential()\n",
        "\n",
        "model.add(Dense(30, input_shape = (12,), activation = 'relu'))\n",
        "model.add(Dense(12, activation = 'relu'))\n",
        "model.add(Dense(8, activation = 'relu'))\n",
        "model.add(Dense(1, activation = 'sigmoid'))\n",
        "model.summary()"
      ],
      "metadata": {
        "colab": {
          "base_uri": "https://localhost:8080/"
        },
        "id": "TtDXwgYbBZ8V",
        "outputId": "c5734177-8ebf-44b9-ae38-528020757bcc"
      },
      "execution_count": null,
      "outputs": [
        {
          "output_type": "stream",
          "name": "stdout",
          "text": [
            "Model: \"sequential_8\"\n",
            "_________________________________________________________________\n",
            " Layer (type)                Output Shape              Param #   \n",
            "=================================================================\n",
            " dense_21 (Dense)            (None, 30)                390       \n",
            "                                                                 \n",
            " dense_22 (Dense)            (None, 12)                372       \n",
            "                                                                 \n",
            " dense_23 (Dense)            (None, 8)                 104       \n",
            "                                                                 \n",
            " dense_24 (Dense)            (None, 1)                 9         \n",
            "                                                                 \n",
            "=================================================================\n",
            "Total params: 875\n",
            "Trainable params: 875\n",
            "Non-trainable params: 0\n",
            "_________________________________________________________________\n"
          ]
        }
      ]
    },
    {
      "cell_type": "markdown",
      "source": [
        "### 컴파일(최적화, 손실함수, 기준)"
      ],
      "metadata": {
        "id": "wi8EbPHFDmh3"
      }
    },
    {
      "cell_type": "code",
      "source": [
        "model.compile(optimizer = 'adam',\n",
        "              loss = 'binary_crossentropy',\n",
        "              metrics = ['accuracy'])"
      ],
      "metadata": {
        "id": "EhgIXph5BZ_V"
      },
      "execution_count": null,
      "outputs": []
    },
    {
      "cell_type": "code",
      "source": [
        "history = model.fit(x_tr, y_tr, epochs = 50, batch_size = 500, validation_split = 0.25)"
      ],
      "metadata": {
        "colab": {
          "base_uri": "https://localhost:8080/"
        },
        "id": "hBkKlio3BaCN",
        "outputId": "589b6eae-12eb-42b8-e594-445e57a4ec7d"
      },
      "execution_count": null,
      "outputs": [
        {
          "output_type": "stream",
          "name": "stdout",
          "text": [
            "Epoch 1/50\n",
            "8/8 [==============================] - 2s 36ms/step - loss: 0.4412 - accuracy: 0.8450 - val_loss: 0.3653 - val_accuracy: 0.7869\n",
            "Epoch 2/50\n",
            "8/8 [==============================] - 0s 10ms/step - loss: 0.3259 - accuracy: 0.8127 - val_loss: 0.3581 - val_accuracy: 0.7862\n",
            "Epoch 3/50\n",
            "8/8 [==============================] - 0s 10ms/step - loss: 0.3045 - accuracy: 0.8332 - val_loss: 0.3182 - val_accuracy: 0.8492\n",
            "Epoch 4/50\n",
            "8/8 [==============================] - 0s 10ms/step - loss: 0.2742 - accuracy: 0.8902 - val_loss: 0.2861 - val_accuracy: 0.9023\n",
            "Epoch 5/50\n",
            "8/8 [==============================] - 0s 9ms/step - loss: 0.2534 - accuracy: 0.9171 - val_loss: 0.2626 - val_accuracy: 0.9069\n",
            "Epoch 6/50\n",
            "8/8 [==============================] - 0s 7ms/step - loss: 0.2315 - accuracy: 0.9220 - val_loss: 0.2448 - val_accuracy: 0.9162\n",
            "Epoch 7/50\n",
            "8/8 [==============================] - 0s 11ms/step - loss: 0.2160 - accuracy: 0.9294 - val_loss: 0.2296 - val_accuracy: 0.9262\n",
            "Epoch 8/50\n",
            "8/8 [==============================] - 0s 11ms/step - loss: 0.2042 - accuracy: 0.9338 - val_loss: 0.2191 - val_accuracy: 0.9269\n",
            "Epoch 9/50\n",
            "8/8 [==============================] - 0s 7ms/step - loss: 0.1953 - accuracy: 0.9369 - val_loss: 0.2091 - val_accuracy: 0.9315\n",
            "Epoch 10/50\n",
            "8/8 [==============================] - 0s 10ms/step - loss: 0.1899 - accuracy: 0.9379 - val_loss: 0.2045 - val_accuracy: 0.9292\n",
            "Epoch 11/50\n",
            "8/8 [==============================] - 0s 10ms/step - loss: 0.1862 - accuracy: 0.9387 - val_loss: 0.2014 - val_accuracy: 0.9308\n",
            "Epoch 12/50\n",
            "8/8 [==============================] - 0s 9ms/step - loss: 0.1834 - accuracy: 0.9400 - val_loss: 0.1990 - val_accuracy: 0.9308\n",
            "Epoch 13/50\n",
            "8/8 [==============================] - 0s 9ms/step - loss: 0.1812 - accuracy: 0.9400 - val_loss: 0.1971 - val_accuracy: 0.9315\n",
            "Epoch 14/50\n",
            "8/8 [==============================] - 0s 9ms/step - loss: 0.1794 - accuracy: 0.9412 - val_loss: 0.1951 - val_accuracy: 0.9323\n",
            "Epoch 15/50\n",
            "8/8 [==============================] - 0s 7ms/step - loss: 0.1779 - accuracy: 0.9418 - val_loss: 0.1927 - val_accuracy: 0.9323\n",
            "Epoch 16/50\n",
            "8/8 [==============================] - 0s 9ms/step - loss: 0.1762 - accuracy: 0.9418 - val_loss: 0.1912 - val_accuracy: 0.9323\n",
            "Epoch 17/50\n",
            "8/8 [==============================] - 0s 7ms/step - loss: 0.1746 - accuracy: 0.9420 - val_loss: 0.1896 - val_accuracy: 0.9323\n",
            "Epoch 18/50\n",
            "8/8 [==============================] - 0s 7ms/step - loss: 0.1732 - accuracy: 0.9420 - val_loss: 0.1865 - val_accuracy: 0.9323\n",
            "Epoch 19/50\n",
            "8/8 [==============================] - 0s 10ms/step - loss: 0.1717 - accuracy: 0.9433 - val_loss: 0.1862 - val_accuracy: 0.9338\n",
            "Epoch 20/50\n",
            "8/8 [==============================] - 0s 7ms/step - loss: 0.1700 - accuracy: 0.9410 - val_loss: 0.1839 - val_accuracy: 0.9323\n",
            "Epoch 21/50\n",
            "8/8 [==============================] - 0s 10ms/step - loss: 0.1679 - accuracy: 0.9425 - val_loss: 0.1810 - val_accuracy: 0.9331\n",
            "Epoch 22/50\n",
            "8/8 [==============================] - 0s 7ms/step - loss: 0.1663 - accuracy: 0.9441 - val_loss: 0.1800 - val_accuracy: 0.9354\n",
            "Epoch 23/50\n",
            "8/8 [==============================] - 0s 8ms/step - loss: 0.1644 - accuracy: 0.9443 - val_loss: 0.1770 - val_accuracy: 0.9346\n",
            "Epoch 24/50\n",
            "8/8 [==============================] - 0s 10ms/step - loss: 0.1624 - accuracy: 0.9430 - val_loss: 0.1749 - val_accuracy: 0.9354\n",
            "Epoch 25/50\n",
            "8/8 [==============================] - 0s 12ms/step - loss: 0.1604 - accuracy: 0.9438 - val_loss: 0.1717 - val_accuracy: 0.9377\n",
            "Epoch 26/50\n",
            "8/8 [==============================] - 0s 9ms/step - loss: 0.1586 - accuracy: 0.9456 - val_loss: 0.1726 - val_accuracy: 0.9362\n",
            "Epoch 27/50\n",
            "8/8 [==============================] - 0s 10ms/step - loss: 0.1568 - accuracy: 0.9443 - val_loss: 0.1675 - val_accuracy: 0.9385\n",
            "Epoch 28/50\n",
            "8/8 [==============================] - 0s 12ms/step - loss: 0.1549 - accuracy: 0.9453 - val_loss: 0.1698 - val_accuracy: 0.9377\n",
            "Epoch 29/50\n",
            "8/8 [==============================] - 0s 9ms/step - loss: 0.1525 - accuracy: 0.9451 - val_loss: 0.1619 - val_accuracy: 0.9423\n",
            "Epoch 30/50\n",
            "8/8 [==============================] - 0s 10ms/step - loss: 0.1508 - accuracy: 0.9471 - val_loss: 0.1633 - val_accuracy: 0.9400\n",
            "Epoch 31/50\n",
            "8/8 [==============================] - 0s 10ms/step - loss: 0.1483 - accuracy: 0.9477 - val_loss: 0.1574 - val_accuracy: 0.9446\n",
            "Epoch 32/50\n",
            "8/8 [==============================] - 0s 9ms/step - loss: 0.1463 - accuracy: 0.9482 - val_loss: 0.1599 - val_accuracy: 0.9415\n",
            "Epoch 33/50\n",
            "8/8 [==============================] - 0s 10ms/step - loss: 0.1439 - accuracy: 0.9482 - val_loss: 0.1530 - val_accuracy: 0.9454\n",
            "Epoch 34/50\n",
            "8/8 [==============================] - 0s 7ms/step - loss: 0.1412 - accuracy: 0.9500 - val_loss: 0.1556 - val_accuracy: 0.9423\n",
            "Epoch 35/50\n",
            "8/8 [==============================] - 0s 8ms/step - loss: 0.1401 - accuracy: 0.9492 - val_loss: 0.1474 - val_accuracy: 0.9485\n",
            "Epoch 36/50\n",
            "8/8 [==============================] - 0s 7ms/step - loss: 0.1377 - accuracy: 0.9510 - val_loss: 0.1490 - val_accuracy: 0.9438\n",
            "Epoch 37/50\n",
            "8/8 [==============================] - 0s 9ms/step - loss: 0.1347 - accuracy: 0.9523 - val_loss: 0.1440 - val_accuracy: 0.9477\n",
            "Epoch 38/50\n",
            "8/8 [==============================] - 0s 11ms/step - loss: 0.1334 - accuracy: 0.9520 - val_loss: 0.1395 - val_accuracy: 0.9508\n",
            "Epoch 39/50\n",
            "8/8 [==============================] - 0s 10ms/step - loss: 0.1298 - accuracy: 0.9525 - val_loss: 0.1394 - val_accuracy: 0.9492\n",
            "Epoch 40/50\n",
            "8/8 [==============================] - 0s 9ms/step - loss: 0.1280 - accuracy: 0.9538 - val_loss: 0.1418 - val_accuracy: 0.9462\n",
            "Epoch 41/50\n",
            "8/8 [==============================] - 0s 10ms/step - loss: 0.1249 - accuracy: 0.9543 - val_loss: 0.1311 - val_accuracy: 0.9546\n",
            "Epoch 42/50\n",
            "8/8 [==============================] - 0s 8ms/step - loss: 0.1209 - accuracy: 0.9561 - val_loss: 0.1271 - val_accuracy: 0.9562\n",
            "Epoch 43/50\n",
            "8/8 [==============================] - 0s 9ms/step - loss: 0.1179 - accuracy: 0.9569 - val_loss: 0.1246 - val_accuracy: 0.9562\n",
            "Epoch 44/50\n",
            "8/8 [==============================] - 0s 8ms/step - loss: 0.1144 - accuracy: 0.9577 - val_loss: 0.1222 - val_accuracy: 0.9569\n",
            "Epoch 45/50\n",
            "8/8 [==============================] - 0s 8ms/step - loss: 0.1119 - accuracy: 0.9595 - val_loss: 0.1228 - val_accuracy: 0.9554\n",
            "Epoch 46/50\n",
            "8/8 [==============================] - 0s 7ms/step - loss: 0.1088 - accuracy: 0.9607 - val_loss: 0.1176 - val_accuracy: 0.9662\n",
            "Epoch 47/50\n",
            "8/8 [==============================] - 0s 10ms/step - loss: 0.1113 - accuracy: 0.9574 - val_loss: 0.1194 - val_accuracy: 0.9662\n",
            "Epoch 48/50\n",
            "8/8 [==============================] - 0s 10ms/step - loss: 0.1073 - accuracy: 0.9628 - val_loss: 0.1227 - val_accuracy: 0.9546\n",
            "Epoch 49/50\n",
            "8/8 [==============================] - 0s 10ms/step - loss: 0.1086 - accuracy: 0.9592 - val_loss: 0.1142 - val_accuracy: 0.9631\n",
            "Epoch 50/50\n",
            "8/8 [==============================] - 0s 7ms/step - loss: 0.1076 - accuracy: 0.9628 - val_loss: 0.1250 - val_accuracy: 0.9515\n"
          ]
        }
      ]
    },
    {
      "cell_type": "markdown",
      "source": [
        "### 테스트로 평가"
      ],
      "metadata": {
        "id": "bdjQBfOaDsTF"
      }
    },
    {
      "cell_type": "code",
      "source": [
        "loss, acc = model.evaluate(x_te, y_te)\n",
        "print('Test Accuracy: %.2f' %acc)"
      ],
      "metadata": {
        "colab": {
          "base_uri": "https://localhost:8080/"
        },
        "id": "6JnV5n-4BaFN",
        "outputId": "d4902fb8-2845-4e43-88ef-d49d10929ade"
      },
      "execution_count": null,
      "outputs": [
        {
          "output_type": "stream",
          "name": "stdout",
          "text": [
            "41/41 [==============================] - 0s 4ms/step - loss: 0.1252 - accuracy: 0.9523\n",
            "Test Accuracy: 0.95\n"
          ]
        }
      ]
    },
    {
      "cell_type": "markdown",
      "source": [
        "### Update"
      ],
      "metadata": {
        "id": "NnYR9qe0BaKl"
      }
    },
    {
      "cell_type": "code",
      "source": [
        "from tensorflow.keras.callbacks import ModelCheckpoint"
      ],
      "metadata": {
        "id": "mpYR3ZNVFsDM"
      },
      "execution_count": null,
      "outputs": []
    },
    {
      "cell_type": "code",
      "source": [
        "path = '/content/sample_data/{epoch:02d}-{val_accuracy:.4f}.hdf5'\n",
        "checkpointer = ModelCheckpoint(filepath = path, verbose = 1)"
      ],
      "metadata": {
        "id": "GM6UVE7cFTvh"
      },
      "execution_count": null,
      "outputs": []
    },
    {
      "cell_type": "code",
      "source": [
        "model = Sequential()\n",
        "\n",
        "model.add(Dense(30, input_shape = (12,), activation = 'relu'))\n",
        "model.add(Dense(12, activation = 'relu'))\n",
        "model.add(Dense(8, activation = 'relu'))\n",
        "model.add(Dense(1, activation = 'sigmoid'))\n",
        "model.summary()"
      ],
      "metadata": {
        "colab": {
          "base_uri": "https://localhost:8080/"
        },
        "id": "WCXVCUg5F6sT",
        "outputId": "8038a46b-e69c-46e0-bb50-27d869acfe00"
      },
      "execution_count": null,
      "outputs": [
        {
          "output_type": "stream",
          "name": "stdout",
          "text": [
            "Model: \"sequential_9\"\n",
            "_________________________________________________________________\n",
            " Layer (type)                Output Shape              Param #   \n",
            "=================================================================\n",
            " dense_25 (Dense)            (None, 30)                390       \n",
            "                                                                 \n",
            " dense_26 (Dense)            (None, 12)                372       \n",
            "                                                                 \n",
            " dense_27 (Dense)            (None, 8)                 104       \n",
            "                                                                 \n",
            " dense_28 (Dense)            (None, 1)                 9         \n",
            "                                                                 \n",
            "=================================================================\n",
            "Total params: 875\n",
            "Trainable params: 875\n",
            "Non-trainable params: 0\n",
            "_________________________________________________________________\n"
          ]
        }
      ]
    },
    {
      "cell_type": "code",
      "source": [
        "model.compile(optimizer = 'adam',\n",
        "              loss = 'binary_crossentropy',\n",
        "              metrics = ['accuracy'])"
      ],
      "metadata": {
        "id": "MAFlM457GAH8"
      },
      "execution_count": null,
      "outputs": []
    },
    {
      "cell_type": "code",
      "source": [
        "history = model.fit(x_tr, y_tr, epochs = 50, batch_size = 500,\n",
        "                    validation_split = 0.25, verbose = 0, callbacks = [checkpointer])"
      ],
      "metadata": {
        "colab": {
          "base_uri": "https://localhost:8080/"
        },
        "id": "-Rl7pnXDGFgU",
        "outputId": "cb26bc49-af10-4463-ff52-cc69e62a22ba"
      },
      "execution_count": null,
      "outputs": [
        {
          "output_type": "stream",
          "name": "stdout",
          "text": [
            "\n",
            "Epoch 1: saving model to /content/sample_data/01-0.9138.hdf5\n",
            "\n",
            "Epoch 2: saving model to /content/sample_data/02-0.9231.hdf5\n",
            "\n",
            "Epoch 3: saving model to /content/sample_data/03-0.9246.hdf5\n",
            "\n",
            "Epoch 4: saving model to /content/sample_data/04-0.9231.hdf5\n",
            "\n",
            "Epoch 5: saving model to /content/sample_data/05-0.9246.hdf5\n",
            "\n",
            "Epoch 6: saving model to /content/sample_data/06-0.9231.hdf5\n",
            "\n",
            "Epoch 7: saving model to /content/sample_data/07-0.9254.hdf5\n",
            "\n",
            "Epoch 8: saving model to /content/sample_data/08-0.9246.hdf5\n",
            "\n",
            "Epoch 9: saving model to /content/sample_data/09-0.9254.hdf5\n",
            "\n",
            "Epoch 10: saving model to /content/sample_data/10-0.9246.hdf5\n",
            "\n",
            "Epoch 11: saving model to /content/sample_data/11-0.9262.hdf5\n",
            "\n",
            "Epoch 12: saving model to /content/sample_data/12-0.9262.hdf5\n",
            "\n",
            "Epoch 13: saving model to /content/sample_data/13-0.9269.hdf5\n",
            "\n",
            "Epoch 14: saving model to /content/sample_data/14-0.9269.hdf5\n",
            "\n",
            "Epoch 15: saving model to /content/sample_data/15-0.9277.hdf5\n",
            "\n",
            "Epoch 16: saving model to /content/sample_data/16-0.9292.hdf5\n",
            "\n",
            "Epoch 17: saving model to /content/sample_data/17-0.9277.hdf5\n",
            "\n",
            "Epoch 18: saving model to /content/sample_data/18-0.9285.hdf5\n",
            "\n",
            "Epoch 19: saving model to /content/sample_data/19-0.9292.hdf5\n",
            "\n",
            "Epoch 20: saving model to /content/sample_data/20-0.9292.hdf5\n",
            "\n",
            "Epoch 21: saving model to /content/sample_data/21-0.9300.hdf5\n",
            "\n",
            "Epoch 22: saving model to /content/sample_data/22-0.9300.hdf5\n",
            "\n",
            "Epoch 23: saving model to /content/sample_data/23-0.9300.hdf5\n",
            "\n",
            "Epoch 24: saving model to /content/sample_data/24-0.9300.hdf5\n",
            "\n",
            "Epoch 25: saving model to /content/sample_data/25-0.9300.hdf5\n",
            "\n",
            "Epoch 26: saving model to /content/sample_data/26-0.9300.hdf5\n",
            "\n",
            "Epoch 27: saving model to /content/sample_data/27-0.9308.hdf5\n",
            "\n",
            "Epoch 28: saving model to /content/sample_data/28-0.9315.hdf5\n",
            "\n",
            "Epoch 29: saving model to /content/sample_data/29-0.9323.hdf5\n",
            "\n",
            "Epoch 30: saving model to /content/sample_data/30-0.9338.hdf5\n",
            "\n",
            "Epoch 31: saving model to /content/sample_data/31-0.9354.hdf5\n",
            "\n",
            "Epoch 32: saving model to /content/sample_data/32-0.9362.hdf5\n",
            "\n",
            "Epoch 33: saving model to /content/sample_data/33-0.9346.hdf5\n",
            "\n",
            "Epoch 34: saving model to /content/sample_data/34-0.9377.hdf5\n",
            "\n",
            "Epoch 35: saving model to /content/sample_data/35-0.9385.hdf5\n",
            "\n",
            "Epoch 36: saving model to /content/sample_data/36-0.9385.hdf5\n",
            "\n",
            "Epoch 37: saving model to /content/sample_data/37-0.9408.hdf5\n",
            "\n",
            "Epoch 38: saving model to /content/sample_data/38-0.9423.hdf5\n",
            "\n",
            "Epoch 39: saving model to /content/sample_data/39-0.9423.hdf5\n",
            "\n",
            "Epoch 40: saving model to /content/sample_data/40-0.9431.hdf5\n",
            "\n",
            "Epoch 41: saving model to /content/sample_data/41-0.9438.hdf5\n",
            "\n",
            "Epoch 42: saving model to /content/sample_data/42-0.9438.hdf5\n",
            "\n",
            "Epoch 43: saving model to /content/sample_data/43-0.9446.hdf5\n",
            "\n",
            "Epoch 44: saving model to /content/sample_data/44-0.9415.hdf5\n",
            "\n",
            "Epoch 45: saving model to /content/sample_data/45-0.9400.hdf5\n",
            "\n",
            "Epoch 46: saving model to /content/sample_data/46-0.9431.hdf5\n",
            "\n",
            "Epoch 47: saving model to /content/sample_data/47-0.9485.hdf5\n",
            "\n",
            "Epoch 48: saving model to /content/sample_data/48-0.9485.hdf5\n",
            "\n",
            "Epoch 49: saving model to /content/sample_data/49-0.9438.hdf5\n",
            "\n",
            "Epoch 50: saving model to /content/sample_data/50-0.9485.hdf5\n"
          ]
        }
      ]
    },
    {
      "cell_type": "code",
      "source": [
        "score = model.evaluate(x_te, y_te)\n",
        "print('Test accuracy: %.2f' %score[1])"
      ],
      "metadata": {
        "colab": {
          "base_uri": "https://localhost:8080/"
        },
        "id": "-wA9OxAaGTvU",
        "outputId": "6eddbe6b-d3f4-4f1e-ebf6-32a38c750e42"
      },
      "execution_count": null,
      "outputs": [
        {
          "output_type": "stream",
          "name": "stdout",
          "text": [
            "41/41 [==============================] - 0s 3ms/step - loss: 0.1337 - accuracy: 0.9454\n",
            "Test accuracy: 0.95\n"
          ]
        }
      ]
    },
    {
      "cell_type": "markdown",
      "source": [
        "### 학습 자동 중단"
      ],
      "metadata": {
        "id": "spSxwXkuHiA8"
      }
    },
    {
      "cell_type": "code",
      "source": [
        "from tensorflow.keras.callbacks import EarlyStopping"
      ],
      "metadata": {
        "id": "KwNh9sxSGe_v"
      },
      "execution_count": null,
      "outputs": []
    },
    {
      "cell_type": "code",
      "source": [
        "early_callback = EarlyStopping(monitor = 'val_loss', patience = 20)"
      ],
      "metadata": {
        "id": "tkyjshPyH62H"
      },
      "execution_count": null,
      "outputs": []
    },
    {
      "cell_type": "code",
      "source": [
        "path = '/content/model/best.hdf5'\n",
        "\n",
        "checkpointer = ModelCheckpoint(filepath = path, monitor = 'val_loss', verbose = 0, save_best_only = True)"
      ],
      "metadata": {
        "id": "AFF0YzahIEgc"
      },
      "execution_count": null,
      "outputs": []
    },
    {
      "cell_type": "code",
      "source": [
        "model = Sequential()\n",
        "\n",
        "model.add(Dense(30, input_shape = (12,), activation = 'relu'))\n",
        "model.add(Dense(12, activation = 'relu'))\n",
        "model.add(Dense(8, activation = 'relu'))\n",
        "model.add(Dense(1, activation = 'sigmoid'))\n",
        "model.summary()"
      ],
      "metadata": {
        "colab": {
          "base_uri": "https://localhost:8080/"
        },
        "id": "sM-VwX7EIXKG",
        "outputId": "297ea167-b06f-47e5-a97e-f2f6150620aa"
      },
      "execution_count": null,
      "outputs": [
        {
          "output_type": "stream",
          "name": "stdout",
          "text": [
            "Model: \"sequential_10\"\n",
            "_________________________________________________________________\n",
            " Layer (type)                Output Shape              Param #   \n",
            "=================================================================\n",
            " dense_29 (Dense)            (None, 30)                390       \n",
            "                                                                 \n",
            " dense_30 (Dense)            (None, 12)                372       \n",
            "                                                                 \n",
            " dense_31 (Dense)            (None, 8)                 104       \n",
            "                                                                 \n",
            " dense_32 (Dense)            (None, 1)                 9         \n",
            "                                                                 \n",
            "=================================================================\n",
            "Total params: 875\n",
            "Trainable params: 875\n",
            "Non-trainable params: 0\n",
            "_________________________________________________________________\n"
          ]
        }
      ]
    },
    {
      "cell_type": "code",
      "source": [
        "model.compile(optimizer = 'adam',\n",
        "              loss = 'binary_crossentropy',\n",
        "              metrics = ['accuracy'])"
      ],
      "metadata": {
        "id": "Roz4Lms6If1T"
      },
      "execution_count": null,
      "outputs": []
    },
    {
      "cell_type": "code",
      "source": [
        "history = model.fit(x_tr, y_tr, epochs = 2000, batch_size = 500,\n",
        "                    validation_split = 0.25, verbose = 1, callbacks = [early_callback, checkpointer])"
      ],
      "metadata": {
        "colab": {
          "base_uri": "https://localhost:8080/"
        },
        "id": "MfFKUZXMId_w",
        "outputId": "c0d6c01f-a842-4cd3-c0fc-af46b39daea5"
      },
      "execution_count": null,
      "outputs": [
        {
          "output_type": "stream",
          "name": "stdout",
          "text": [
            "Epoch 1/2000\n",
            "8/8 [==============================] - 3s 68ms/step - loss: 2.9232 - accuracy: 0.7632 - val_loss: 2.5613 - val_accuracy: 0.7308\n",
            "Epoch 2/2000\n",
            "8/8 [==============================] - 0s 26ms/step - loss: 1.7199 - accuracy: 0.7632 - val_loss: 1.3814 - val_accuracy: 0.7315\n",
            "Epoch 3/2000\n",
            "8/8 [==============================] - 0s 27ms/step - loss: 0.8649 - accuracy: 0.7824 - val_loss: 0.6318 - val_accuracy: 0.8162\n",
            "Epoch 4/2000\n",
            "8/8 [==============================] - 0s 18ms/step - loss: 0.3969 - accuracy: 0.8786 - val_loss: 0.3062 - val_accuracy: 0.8992\n",
            "Epoch 5/2000\n",
            "8/8 [==============================] - 0s 13ms/step - loss: 0.3177 - accuracy: 0.8979 - val_loss: 0.2915 - val_accuracy: 0.8992\n",
            "Epoch 6/2000\n",
            "8/8 [==============================] - 0s 11ms/step - loss: 0.2700 - accuracy: 0.9102 - val_loss: 0.2635 - val_accuracy: 0.9069\n",
            "Epoch 7/2000\n",
            "8/8 [==============================] - 0s 15ms/step - loss: 0.2431 - accuracy: 0.9128 - val_loss: 0.2608 - val_accuracy: 0.9054\n",
            "Epoch 8/2000\n",
            "8/8 [==============================] - 0s 15ms/step - loss: 0.2285 - accuracy: 0.9166 - val_loss: 0.2352 - val_accuracy: 0.9177\n",
            "Epoch 9/2000\n",
            "8/8 [==============================] - 0s 13ms/step - loss: 0.2140 - accuracy: 0.9271 - val_loss: 0.2210 - val_accuracy: 0.9238\n",
            "Epoch 10/2000\n",
            "8/8 [==============================] - 0s 10ms/step - loss: 0.2057 - accuracy: 0.9330 - val_loss: 0.2162 - val_accuracy: 0.9254\n",
            "Epoch 11/2000\n",
            "8/8 [==============================] - 0s 15ms/step - loss: 0.1987 - accuracy: 0.9335 - val_loss: 0.2134 - val_accuracy: 0.9231\n",
            "Epoch 12/2000\n",
            "8/8 [==============================] - 0s 12ms/step - loss: 0.1939 - accuracy: 0.9343 - val_loss: 0.2074 - val_accuracy: 0.9246\n",
            "Epoch 13/2000\n",
            "8/8 [==============================] - 0s 11ms/step - loss: 0.1906 - accuracy: 0.9351 - val_loss: 0.2067 - val_accuracy: 0.9238\n",
            "Epoch 14/2000\n",
            "8/8 [==============================] - 0s 12ms/step - loss: 0.1881 - accuracy: 0.9348 - val_loss: 0.2049 - val_accuracy: 0.9231\n",
            "Epoch 15/2000\n",
            "8/8 [==============================] - 0s 12ms/step - loss: 0.1862 - accuracy: 0.9364 - val_loss: 0.2026 - val_accuracy: 0.9254\n",
            "Epoch 16/2000\n",
            "8/8 [==============================] - 0s 11ms/step - loss: 0.1846 - accuracy: 0.9369 - val_loss: 0.2008 - val_accuracy: 0.9262\n",
            "Epoch 17/2000\n",
            "8/8 [==============================] - 0s 11ms/step - loss: 0.1834 - accuracy: 0.9374 - val_loss: 0.2001 - val_accuracy: 0.9269\n",
            "Epoch 18/2000\n",
            "8/8 [==============================] - 0s 14ms/step - loss: 0.1821 - accuracy: 0.9376 - val_loss: 0.1994 - val_accuracy: 0.9269\n",
            "Epoch 19/2000\n",
            "8/8 [==============================] - 0s 12ms/step - loss: 0.1809 - accuracy: 0.9384 - val_loss: 0.1981 - val_accuracy: 0.9292\n",
            "Epoch 20/2000\n",
            "8/8 [==============================] - 0s 11ms/step - loss: 0.1799 - accuracy: 0.9384 - val_loss: 0.1964 - val_accuracy: 0.9308\n",
            "Epoch 21/2000\n",
            "8/8 [==============================] - 0s 10ms/step - loss: 0.1791 - accuracy: 0.9387 - val_loss: 0.1965 - val_accuracy: 0.9292\n",
            "Epoch 22/2000\n",
            "8/8 [==============================] - 0s 13ms/step - loss: 0.1780 - accuracy: 0.9400 - val_loss: 0.1938 - val_accuracy: 0.9300\n",
            "Epoch 23/2000\n",
            "8/8 [==============================] - 0s 10ms/step - loss: 0.1769 - accuracy: 0.9394 - val_loss: 0.1945 - val_accuracy: 0.9292\n",
            "Epoch 24/2000\n",
            "8/8 [==============================] - 0s 11ms/step - loss: 0.1761 - accuracy: 0.9407 - val_loss: 0.1924 - val_accuracy: 0.9300\n",
            "Epoch 25/2000\n",
            "8/8 [==============================] - 0s 14ms/step - loss: 0.1751 - accuracy: 0.9410 - val_loss: 0.1923 - val_accuracy: 0.9300\n",
            "Epoch 26/2000\n",
            "8/8 [==============================] - 0s 13ms/step - loss: 0.1741 - accuracy: 0.9397 - val_loss: 0.1900 - val_accuracy: 0.9308\n",
            "Epoch 27/2000\n",
            "8/8 [==============================] - 0s 7ms/step - loss: 0.1734 - accuracy: 0.9415 - val_loss: 0.1903 - val_accuracy: 0.9308\n",
            "Epoch 28/2000\n",
            "8/8 [==============================] - 0s 13ms/step - loss: 0.1725 - accuracy: 0.9412 - val_loss: 0.1891 - val_accuracy: 0.9315\n",
            "Epoch 29/2000\n",
            "8/8 [==============================] - 0s 11ms/step - loss: 0.1715 - accuracy: 0.9412 - val_loss: 0.1891 - val_accuracy: 0.9308\n",
            "Epoch 30/2000\n",
            "8/8 [==============================] - 0s 11ms/step - loss: 0.1705 - accuracy: 0.9415 - val_loss: 0.1874 - val_accuracy: 0.9315\n",
            "Epoch 31/2000\n",
            "8/8 [==============================] - 0s 13ms/step - loss: 0.1698 - accuracy: 0.9418 - val_loss: 0.1861 - val_accuracy: 0.9315\n",
            "Epoch 32/2000\n",
            "8/8 [==============================] - 0s 13ms/step - loss: 0.1691 - accuracy: 0.9423 - val_loss: 0.1851 - val_accuracy: 0.9315\n",
            "Epoch 33/2000\n",
            "8/8 [==============================] - 0s 8ms/step - loss: 0.1683 - accuracy: 0.9430 - val_loss: 0.1871 - val_accuracy: 0.9308\n",
            "Epoch 34/2000\n",
            "8/8 [==============================] - 0s 14ms/step - loss: 0.1679 - accuracy: 0.9423 - val_loss: 0.1832 - val_accuracy: 0.9315\n",
            "Epoch 35/2000\n",
            "8/8 [==============================] - 0s 10ms/step - loss: 0.1673 - accuracy: 0.9428 - val_loss: 0.1839 - val_accuracy: 0.9323\n",
            "Epoch 36/2000\n",
            "8/8 [==============================] - 0s 10ms/step - loss: 0.1665 - accuracy: 0.9433 - val_loss: 0.1813 - val_accuracy: 0.9315\n",
            "Epoch 37/2000\n",
            "8/8 [==============================] - 0s 8ms/step - loss: 0.1652 - accuracy: 0.9435 - val_loss: 0.1824 - val_accuracy: 0.9323\n",
            "Epoch 38/2000\n",
            "8/8 [==============================] - 0s 11ms/step - loss: 0.1643 - accuracy: 0.9433 - val_loss: 0.1795 - val_accuracy: 0.9323\n",
            "Epoch 39/2000\n",
            "8/8 [==============================] - 0s 8ms/step - loss: 0.1634 - accuracy: 0.9430 - val_loss: 0.1799 - val_accuracy: 0.9331\n",
            "Epoch 40/2000\n",
            "8/8 [==============================] - 0s 11ms/step - loss: 0.1630 - accuracy: 0.9435 - val_loss: 0.1778 - val_accuracy: 0.9323\n",
            "Epoch 41/2000\n",
            "8/8 [==============================] - 0s 8ms/step - loss: 0.1621 - accuracy: 0.9430 - val_loss: 0.1782 - val_accuracy: 0.9331\n",
            "Epoch 42/2000\n",
            "8/8 [==============================] - 0s 12ms/step - loss: 0.1615 - accuracy: 0.9430 - val_loss: 0.1765 - val_accuracy: 0.9315\n",
            "Epoch 43/2000\n",
            "8/8 [==============================] - 0s 13ms/step - loss: 0.1610 - accuracy: 0.9433 - val_loss: 0.1760 - val_accuracy: 0.9331\n",
            "Epoch 44/2000\n",
            "8/8 [==============================] - 0s 14ms/step - loss: 0.1597 - accuracy: 0.9435 - val_loss: 0.1736 - val_accuracy: 0.9323\n",
            "Epoch 45/2000\n",
            "8/8 [==============================] - 0s 8ms/step - loss: 0.1593 - accuracy: 0.9451 - val_loss: 0.1752 - val_accuracy: 0.9331\n",
            "Epoch 46/2000\n",
            "8/8 [==============================] - 0s 13ms/step - loss: 0.1597 - accuracy: 0.9428 - val_loss: 0.1728 - val_accuracy: 0.9331\n",
            "Epoch 47/2000\n",
            "8/8 [==============================] - 0s 13ms/step - loss: 0.1589 - accuracy: 0.9456 - val_loss: 0.1713 - val_accuracy: 0.9323\n",
            "Epoch 48/2000\n",
            "8/8 [==============================] - 0s 10ms/step - loss: 0.1592 - accuracy: 0.9435 - val_loss: 0.1733 - val_accuracy: 0.9331\n",
            "Epoch 49/2000\n",
            "8/8 [==============================] - 0s 13ms/step - loss: 0.1564 - accuracy: 0.9461 - val_loss: 0.1692 - val_accuracy: 0.9369\n",
            "Epoch 50/2000\n",
            "8/8 [==============================] - 0s 7ms/step - loss: 0.1558 - accuracy: 0.9438 - val_loss: 0.1713 - val_accuracy: 0.9331\n",
            "Epoch 51/2000\n",
            "8/8 [==============================] - 0s 13ms/step - loss: 0.1549 - accuracy: 0.9446 - val_loss: 0.1682 - val_accuracy: 0.9354\n",
            "Epoch 52/2000\n",
            "8/8 [==============================] - 0s 11ms/step - loss: 0.1539 - accuracy: 0.9453 - val_loss: 0.1692 - val_accuracy: 0.9323\n",
            "Epoch 53/2000\n",
            "8/8 [==============================] - 0s 12ms/step - loss: 0.1532 - accuracy: 0.9461 - val_loss: 0.1667 - val_accuracy: 0.9377\n",
            "Epoch 54/2000\n",
            "8/8 [==============================] - 0s 13ms/step - loss: 0.1529 - accuracy: 0.9456 - val_loss: 0.1655 - val_accuracy: 0.9377\n",
            "Epoch 55/2000\n",
            "8/8 [==============================] - 0s 10ms/step - loss: 0.1517 - accuracy: 0.9464 - val_loss: 0.1660 - val_accuracy: 0.9369\n",
            "Epoch 56/2000\n",
            "8/8 [==============================] - 0s 8ms/step - loss: 0.1515 - accuracy: 0.9469 - val_loss: 0.1665 - val_accuracy: 0.9323\n",
            "Epoch 57/2000\n",
            "8/8 [==============================] - 0s 11ms/step - loss: 0.1504 - accuracy: 0.9474 - val_loss: 0.1641 - val_accuracy: 0.9377\n",
            "Epoch 58/2000\n",
            "8/8 [==============================] - 0s 13ms/step - loss: 0.1495 - accuracy: 0.9477 - val_loss: 0.1638 - val_accuracy: 0.9377\n",
            "Epoch 59/2000\n",
            "8/8 [==============================] - 0s 11ms/step - loss: 0.1494 - accuracy: 0.9459 - val_loss: 0.1618 - val_accuracy: 0.9377\n",
            "Epoch 60/2000\n",
            "8/8 [==============================] - 0s 11ms/step - loss: 0.1479 - accuracy: 0.9477 - val_loss: 0.1612 - val_accuracy: 0.9377\n",
            "Epoch 61/2000\n",
            "8/8 [==============================] - 0s 12ms/step - loss: 0.1471 - accuracy: 0.9484 - val_loss: 0.1609 - val_accuracy: 0.9392\n",
            "Epoch 62/2000\n",
            "8/8 [==============================] - 0s 13ms/step - loss: 0.1463 - accuracy: 0.9477 - val_loss: 0.1595 - val_accuracy: 0.9385\n",
            "Epoch 63/2000\n",
            "8/8 [==============================] - 0s 9ms/step - loss: 0.1459 - accuracy: 0.9474 - val_loss: 0.1596 - val_accuracy: 0.9385\n",
            "Epoch 64/2000\n",
            "8/8 [==============================] - 0s 12ms/step - loss: 0.1448 - accuracy: 0.9479 - val_loss: 0.1570 - val_accuracy: 0.9392\n",
            "Epoch 65/2000\n",
            "8/8 [==============================] - 0s 9ms/step - loss: 0.1447 - accuracy: 0.9497 - val_loss: 0.1603 - val_accuracy: 0.9392\n",
            "Epoch 66/2000\n",
            "8/8 [==============================] - 0s 10ms/step - loss: 0.1441 - accuracy: 0.9479 - val_loss: 0.1549 - val_accuracy: 0.9392\n",
            "Epoch 67/2000\n",
            "8/8 [==============================] - 0s 10ms/step - loss: 0.1430 - accuracy: 0.9477 - val_loss: 0.1592 - val_accuracy: 0.9423\n",
            "Epoch 68/2000\n",
            "8/8 [==============================] - 0s 11ms/step - loss: 0.1440 - accuracy: 0.9482 - val_loss: 0.1526 - val_accuracy: 0.9385\n",
            "Epoch 69/2000\n",
            "8/8 [==============================] - 0s 9ms/step - loss: 0.1425 - accuracy: 0.9515 - val_loss: 0.1566 - val_accuracy: 0.9408\n",
            "Epoch 70/2000\n",
            "8/8 [==============================] - 0s 13ms/step - loss: 0.1405 - accuracy: 0.9497 - val_loss: 0.1504 - val_accuracy: 0.9400\n",
            "Epoch 71/2000\n",
            "8/8 [==============================] - 0s 10ms/step - loss: 0.1384 - accuracy: 0.9505 - val_loss: 0.1548 - val_accuracy: 0.9431\n",
            "Epoch 72/2000\n",
            "8/8 [==============================] - 0s 12ms/step - loss: 0.1386 - accuracy: 0.9502 - val_loss: 0.1484 - val_accuracy: 0.9408\n",
            "Epoch 73/2000\n",
            "8/8 [==============================] - 0s 8ms/step - loss: 0.1366 - accuracy: 0.9512 - val_loss: 0.1495 - val_accuracy: 0.9423\n",
            "Epoch 74/2000\n",
            "8/8 [==============================] - 0s 12ms/step - loss: 0.1352 - accuracy: 0.9523 - val_loss: 0.1443 - val_accuracy: 0.9400\n",
            "Epoch 75/2000\n",
            "8/8 [==============================] - 0s 10ms/step - loss: 0.1320 - accuracy: 0.9523 - val_loss: 0.1448 - val_accuracy: 0.9446\n",
            "Epoch 76/2000\n",
            "8/8 [==============================] - 0s 15ms/step - loss: 0.1294 - accuracy: 0.9520 - val_loss: 0.1377 - val_accuracy: 0.9446\n",
            "Epoch 77/2000\n",
            "8/8 [==============================] - 0s 13ms/step - loss: 0.1271 - accuracy: 0.9530 - val_loss: 0.1343 - val_accuracy: 0.9462\n",
            "Epoch 78/2000\n",
            "8/8 [==============================] - 0s 11ms/step - loss: 0.1234 - accuracy: 0.9525 - val_loss: 0.1322 - val_accuracy: 0.9492\n",
            "Epoch 79/2000\n",
            "8/8 [==============================] - 0s 8ms/step - loss: 0.1212 - accuracy: 0.9546 - val_loss: 0.1353 - val_accuracy: 0.9477\n",
            "Epoch 80/2000\n",
            "8/8 [==============================] - 0s 12ms/step - loss: 0.1200 - accuracy: 0.9536 - val_loss: 0.1289 - val_accuracy: 0.9523\n",
            "Epoch 81/2000\n",
            "8/8 [==============================] - 0s 10ms/step - loss: 0.1186 - accuracy: 0.9554 - val_loss: 0.1325 - val_accuracy: 0.9492\n",
            "Epoch 82/2000\n",
            "8/8 [==============================] - 0s 10ms/step - loss: 0.1186 - accuracy: 0.9559 - val_loss: 0.1357 - val_accuracy: 0.9477\n",
            "Epoch 83/2000\n",
            "8/8 [==============================] - 0s 8ms/step - loss: 0.1199 - accuracy: 0.9569 - val_loss: 0.1352 - val_accuracy: 0.9477\n",
            "Epoch 84/2000\n",
            "8/8 [==============================] - 0s 10ms/step - loss: 0.1169 - accuracy: 0.9559 - val_loss: 0.1273 - val_accuracy: 0.9515\n",
            "Epoch 85/2000\n",
            "8/8 [==============================] - 0s 7ms/step - loss: 0.1151 - accuracy: 0.9561 - val_loss: 0.1286 - val_accuracy: 0.9500\n",
            "Epoch 86/2000\n",
            "8/8 [==============================] - 0s 14ms/step - loss: 0.1151 - accuracy: 0.9571 - val_loss: 0.1267 - val_accuracy: 0.9515\n",
            "Epoch 87/2000\n",
            "8/8 [==============================] - 0s 14ms/step - loss: 0.1130 - accuracy: 0.9582 - val_loss: 0.1218 - val_accuracy: 0.9562\n",
            "Epoch 88/2000\n",
            "8/8 [==============================] - 0s 10ms/step - loss: 0.1110 - accuracy: 0.9587 - val_loss: 0.1218 - val_accuracy: 0.9546\n",
            "Epoch 89/2000\n",
            "8/8 [==============================] - 0s 7ms/step - loss: 0.1104 - accuracy: 0.9579 - val_loss: 0.1238 - val_accuracy: 0.9523\n",
            "Epoch 90/2000\n",
            "8/8 [==============================] - 0s 11ms/step - loss: 0.1098 - accuracy: 0.9589 - val_loss: 0.1210 - val_accuracy: 0.9562\n",
            "Epoch 91/2000\n",
            "8/8 [==============================] - 0s 11ms/step - loss: 0.1089 - accuracy: 0.9587 - val_loss: 0.1272 - val_accuracy: 0.9515\n",
            "Epoch 92/2000\n",
            "8/8 [==============================] - 0s 10ms/step - loss: 0.1095 - accuracy: 0.9600 - val_loss: 0.1232 - val_accuracy: 0.9515\n",
            "Epoch 93/2000\n",
            "8/8 [==============================] - 0s 11ms/step - loss: 0.1091 - accuracy: 0.9600 - val_loss: 0.1167 - val_accuracy: 0.9569\n",
            "Epoch 94/2000\n",
            "8/8 [==============================] - 0s 13ms/step - loss: 0.1069 - accuracy: 0.9589 - val_loss: 0.1155 - val_accuracy: 0.9569\n",
            "Epoch 95/2000\n",
            "8/8 [==============================] - 0s 10ms/step - loss: 0.1059 - accuracy: 0.9600 - val_loss: 0.1145 - val_accuracy: 0.9623\n",
            "Epoch 96/2000\n",
            "8/8 [==============================] - 0s 11ms/step - loss: 0.1048 - accuracy: 0.9602 - val_loss: 0.1145 - val_accuracy: 0.9623\n",
            "Epoch 97/2000\n",
            "8/8 [==============================] - 0s 8ms/step - loss: 0.1042 - accuracy: 0.9623 - val_loss: 0.1150 - val_accuracy: 0.9592\n",
            "Epoch 98/2000\n",
            "8/8 [==============================] - 0s 10ms/step - loss: 0.1042 - accuracy: 0.9623 - val_loss: 0.1192 - val_accuracy: 0.9554\n",
            "Epoch 99/2000\n",
            "8/8 [==============================] - 0s 14ms/step - loss: 0.1043 - accuracy: 0.9625 - val_loss: 0.1144 - val_accuracy: 0.9600\n",
            "Epoch 100/2000\n",
            "8/8 [==============================] - 0s 8ms/step - loss: 0.1014 - accuracy: 0.9646 - val_loss: 0.1167 - val_accuracy: 0.9577\n",
            "Epoch 101/2000\n",
            "8/8 [==============================] - 0s 11ms/step - loss: 0.1012 - accuracy: 0.9615 - val_loss: 0.1118 - val_accuracy: 0.9623\n",
            "Epoch 102/2000\n",
            "8/8 [==============================] - 0s 14ms/step - loss: 0.1001 - accuracy: 0.9615 - val_loss: 0.1113 - val_accuracy: 0.9615\n",
            "Epoch 103/2000\n",
            "8/8 [==============================] - 0s 19ms/step - loss: 0.0989 - accuracy: 0.9651 - val_loss: 0.1104 - val_accuracy: 0.9623\n",
            "Epoch 104/2000\n",
            "8/8 [==============================] - 0s 12ms/step - loss: 0.0982 - accuracy: 0.9656 - val_loss: 0.1143 - val_accuracy: 0.9585\n",
            "Epoch 105/2000\n",
            "8/8 [==============================] - 0s 18ms/step - loss: 0.0985 - accuracy: 0.9636 - val_loss: 0.1080 - val_accuracy: 0.9662\n",
            "Epoch 106/2000\n",
            "8/8 [==============================] - 0s 12ms/step - loss: 0.0985 - accuracy: 0.9630 - val_loss: 0.1082 - val_accuracy: 0.9631\n",
            "Epoch 107/2000\n",
            "8/8 [==============================] - 0s 16ms/step - loss: 0.0970 - accuracy: 0.9643 - val_loss: 0.1067 - val_accuracy: 0.9669\n",
            "Epoch 108/2000\n",
            "8/8 [==============================] - 0s 18ms/step - loss: 0.0965 - accuracy: 0.9654 - val_loss: 0.1062 - val_accuracy: 0.9669\n",
            "Epoch 109/2000\n",
            "8/8 [==============================] - 0s 14ms/step - loss: 0.0958 - accuracy: 0.9664 - val_loss: 0.1055 - val_accuracy: 0.9685\n",
            "Epoch 110/2000\n",
            "8/8 [==============================] - 0s 17ms/step - loss: 0.0960 - accuracy: 0.9666 - val_loss: 0.1046 - val_accuracy: 0.9669\n",
            "Epoch 111/2000\n",
            "8/8 [==============================] - 0s 18ms/step - loss: 0.0964 - accuracy: 0.9659 - val_loss: 0.1042 - val_accuracy: 0.9685\n",
            "Epoch 112/2000\n",
            "8/8 [==============================] - 0s 11ms/step - loss: 0.0956 - accuracy: 0.9651 - val_loss: 0.1056 - val_accuracy: 0.9692\n",
            "Epoch 113/2000\n",
            "8/8 [==============================] - 0s 18ms/step - loss: 0.0945 - accuracy: 0.9659 - val_loss: 0.1036 - val_accuracy: 0.9685\n",
            "Epoch 114/2000\n",
            "8/8 [==============================] - 0s 18ms/step - loss: 0.0936 - accuracy: 0.9664 - val_loss: 0.1024 - val_accuracy: 0.9685\n",
            "Epoch 115/2000\n",
            "8/8 [==============================] - 0s 15ms/step - loss: 0.0922 - accuracy: 0.9656 - val_loss: 0.1025 - val_accuracy: 0.9685\n",
            "Epoch 116/2000\n",
            "8/8 [==============================] - 0s 22ms/step - loss: 0.0915 - accuracy: 0.9677 - val_loss: 0.1015 - val_accuracy: 0.9669\n",
            "Epoch 117/2000\n",
            "8/8 [==============================] - 0s 13ms/step - loss: 0.0931 - accuracy: 0.9669 - val_loss: 0.1025 - val_accuracy: 0.9685\n",
            "Epoch 118/2000\n",
            "8/8 [==============================] - 0s 12ms/step - loss: 0.0916 - accuracy: 0.9700 - val_loss: 0.1150 - val_accuracy: 0.9554\n",
            "Epoch 119/2000\n",
            "8/8 [==============================] - 0s 13ms/step - loss: 0.0938 - accuracy: 0.9692 - val_loss: 0.1067 - val_accuracy: 0.9631\n",
            "Epoch 120/2000\n",
            "8/8 [==============================] - 0s 18ms/step - loss: 0.0925 - accuracy: 0.9690 - val_loss: 0.1014 - val_accuracy: 0.9654\n",
            "Epoch 121/2000\n",
            "8/8 [==============================] - 0s 17ms/step - loss: 0.0912 - accuracy: 0.9679 - val_loss: 0.0989 - val_accuracy: 0.9692\n",
            "Epoch 122/2000\n",
            "8/8 [==============================] - 0s 15ms/step - loss: 0.0887 - accuracy: 0.9700 - val_loss: 0.0979 - val_accuracy: 0.9685\n",
            "Epoch 123/2000\n",
            "8/8 [==============================] - 0s 11ms/step - loss: 0.0874 - accuracy: 0.9697 - val_loss: 0.0996 - val_accuracy: 0.9677\n",
            "Epoch 124/2000\n",
            "8/8 [==============================] - 0s 16ms/step - loss: 0.0869 - accuracy: 0.9707 - val_loss: 0.0974 - val_accuracy: 0.9708\n",
            "Epoch 125/2000\n",
            "8/8 [==============================] - 0s 17ms/step - loss: 0.0867 - accuracy: 0.9684 - val_loss: 0.0969 - val_accuracy: 0.9700\n",
            "Epoch 126/2000\n",
            "8/8 [==============================] - 0s 17ms/step - loss: 0.0860 - accuracy: 0.9700 - val_loss: 0.0967 - val_accuracy: 0.9685\n",
            "Epoch 127/2000\n",
            "8/8 [==============================] - 0s 20ms/step - loss: 0.0866 - accuracy: 0.9700 - val_loss: 0.0955 - val_accuracy: 0.9715\n",
            "Epoch 128/2000\n",
            "8/8 [==============================] - 0s 17ms/step - loss: 0.0856 - accuracy: 0.9710 - val_loss: 0.0953 - val_accuracy: 0.9708\n",
            "Epoch 129/2000\n",
            "8/8 [==============================] - 0s 18ms/step - loss: 0.0851 - accuracy: 0.9718 - val_loss: 0.0946 - val_accuracy: 0.9715\n",
            "Epoch 130/2000\n",
            "8/8 [==============================] - 0s 13ms/step - loss: 0.0847 - accuracy: 0.9713 - val_loss: 0.0955 - val_accuracy: 0.9677\n",
            "Epoch 131/2000\n",
            "8/8 [==============================] - 0s 18ms/step - loss: 0.0842 - accuracy: 0.9728 - val_loss: 0.0931 - val_accuracy: 0.9715\n",
            "Epoch 132/2000\n",
            "8/8 [==============================] - 0s 12ms/step - loss: 0.0836 - accuracy: 0.9710 - val_loss: 0.0943 - val_accuracy: 0.9685\n",
            "Epoch 133/2000\n",
            "8/8 [==============================] - 0s 12ms/step - loss: 0.0843 - accuracy: 0.9723 - val_loss: 0.0979 - val_accuracy: 0.9654\n",
            "Epoch 134/2000\n",
            "8/8 [==============================] - 0s 18ms/step - loss: 0.0828 - accuracy: 0.9713 - val_loss: 0.0923 - val_accuracy: 0.9723\n",
            "Epoch 135/2000\n",
            "8/8 [==============================] - 0s 17ms/step - loss: 0.0824 - accuracy: 0.9731 - val_loss: 0.0924 - val_accuracy: 0.9692\n",
            "Epoch 136/2000\n",
            "8/8 [==============================] - 0s 12ms/step - loss: 0.0841 - accuracy: 0.9715 - val_loss: 0.0963 - val_accuracy: 0.9677\n",
            "Epoch 137/2000\n",
            "8/8 [==============================] - 0s 13ms/step - loss: 0.0833 - accuracy: 0.9728 - val_loss: 0.0992 - val_accuracy: 0.9646\n",
            "Epoch 138/2000\n",
            "8/8 [==============================] - 0s 10ms/step - loss: 0.0820 - accuracy: 0.9731 - val_loss: 0.0924 - val_accuracy: 0.9692\n",
            "Epoch 139/2000\n",
            "8/8 [==============================] - 0s 10ms/step - loss: 0.0825 - accuracy: 0.9736 - val_loss: 0.0926 - val_accuracy: 0.9700\n",
            "Epoch 140/2000\n",
            "8/8 [==============================] - 0s 50ms/step - loss: 0.0804 - accuracy: 0.9736 - val_loss: 0.0902 - val_accuracy: 0.9731\n",
            "Epoch 141/2000\n",
            "8/8 [==============================] - 0s 37ms/step - loss: 0.0823 - accuracy: 0.9728 - val_loss: 0.0888 - val_accuracy: 0.9746\n",
            "Epoch 142/2000\n",
            "8/8 [==============================] - 0s 49ms/step - loss: 0.0792 - accuracy: 0.9731 - val_loss: 0.0882 - val_accuracy: 0.9754\n",
            "Epoch 143/2000\n",
            "8/8 [==============================] - 0s 35ms/step - loss: 0.0787 - accuracy: 0.9738 - val_loss: 0.0911 - val_accuracy: 0.9700\n",
            "Epoch 144/2000\n",
            "8/8 [==============================] - 0s 35ms/step - loss: 0.0784 - accuracy: 0.9756 - val_loss: 0.0886 - val_accuracy: 0.9723\n",
            "Epoch 145/2000\n",
            "8/8 [==============================] - 0s 37ms/step - loss: 0.0792 - accuracy: 0.9736 - val_loss: 0.0884 - val_accuracy: 0.9715\n",
            "Epoch 146/2000\n",
            "8/8 [==============================] - 0s 41ms/step - loss: 0.0783 - accuracy: 0.9738 - val_loss: 0.0867 - val_accuracy: 0.9754\n",
            "Epoch 147/2000\n",
            "8/8 [==============================] - 0s 17ms/step - loss: 0.0775 - accuracy: 0.9743 - val_loss: 0.0870 - val_accuracy: 0.9731\n",
            "Epoch 148/2000\n",
            "8/8 [==============================] - 0s 35ms/step - loss: 0.0774 - accuracy: 0.9754 - val_loss: 0.0858 - val_accuracy: 0.9746\n",
            "Epoch 149/2000\n",
            "8/8 [==============================] - 0s 34ms/step - loss: 0.0763 - accuracy: 0.9746 - val_loss: 0.0852 - val_accuracy: 0.9754\n",
            "Epoch 150/2000\n",
            "8/8 [==============================] - 0s 15ms/step - loss: 0.0766 - accuracy: 0.9743 - val_loss: 0.0936 - val_accuracy: 0.9654\n",
            "Epoch 151/2000\n",
            "8/8 [==============================] - 0s 10ms/step - loss: 0.0811 - accuracy: 0.9715 - val_loss: 0.0881 - val_accuracy: 0.9700\n",
            "Epoch 152/2000\n",
            "8/8 [==============================] - 0s 8ms/step - loss: 0.0762 - accuracy: 0.9749 - val_loss: 0.0910 - val_accuracy: 0.9669\n",
            "Epoch 153/2000\n",
            "8/8 [==============================] - 0s 12ms/step - loss: 0.0755 - accuracy: 0.9759 - val_loss: 0.0843 - val_accuracy: 0.9754\n",
            "Epoch 154/2000\n",
            "8/8 [==============================] - 0s 8ms/step - loss: 0.0749 - accuracy: 0.9759 - val_loss: 0.0849 - val_accuracy: 0.9738\n",
            "Epoch 155/2000\n",
            "8/8 [==============================] - 0s 10ms/step - loss: 0.0752 - accuracy: 0.9746 - val_loss: 0.0857 - val_accuracy: 0.9708\n",
            "Epoch 156/2000\n",
            "8/8 [==============================] - 0s 11ms/step - loss: 0.0761 - accuracy: 0.9746 - val_loss: 0.0900 - val_accuracy: 0.9662\n",
            "Epoch 157/2000\n",
            "8/8 [==============================] - 0s 10ms/step - loss: 0.0756 - accuracy: 0.9764 - val_loss: 0.0846 - val_accuracy: 0.9715\n",
            "Epoch 158/2000\n",
            "8/8 [==============================] - 0s 14ms/step - loss: 0.0730 - accuracy: 0.9766 - val_loss: 0.0832 - val_accuracy: 0.9754\n",
            "Epoch 159/2000\n",
            "8/8 [==============================] - 0s 12ms/step - loss: 0.0727 - accuracy: 0.9777 - val_loss: 0.0831 - val_accuracy: 0.9754\n",
            "Epoch 160/2000\n",
            "8/8 [==============================] - 0s 10ms/step - loss: 0.0723 - accuracy: 0.9766 - val_loss: 0.0839 - val_accuracy: 0.9731\n",
            "Epoch 161/2000\n",
            "8/8 [==============================] - 0s 15ms/step - loss: 0.0744 - accuracy: 0.9746 - val_loss: 0.0811 - val_accuracy: 0.9762\n",
            "Epoch 162/2000\n",
            "8/8 [==============================] - 0s 11ms/step - loss: 0.0734 - accuracy: 0.9769 - val_loss: 0.0801 - val_accuracy: 0.9777\n",
            "Epoch 163/2000\n",
            "8/8 [==============================] - 0s 8ms/step - loss: 0.0720 - accuracy: 0.9772 - val_loss: 0.0811 - val_accuracy: 0.9754\n",
            "Epoch 164/2000\n",
            "8/8 [==============================] - 0s 11ms/step - loss: 0.0717 - accuracy: 0.9772 - val_loss: 0.0829 - val_accuracy: 0.9723\n",
            "Epoch 165/2000\n",
            "8/8 [==============================] - 0s 10ms/step - loss: 0.0725 - accuracy: 0.9751 - val_loss: 0.0882 - val_accuracy: 0.9685\n",
            "Epoch 166/2000\n",
            "8/8 [==============================] - 0s 13ms/step - loss: 0.0715 - accuracy: 0.9777 - val_loss: 0.0791 - val_accuracy: 0.9754\n",
            "Epoch 167/2000\n",
            "8/8 [==============================] - 0s 11ms/step - loss: 0.0703 - accuracy: 0.9772 - val_loss: 0.0782 - val_accuracy: 0.9769\n",
            "Epoch 168/2000\n",
            "8/8 [==============================] - 0s 13ms/step - loss: 0.0699 - accuracy: 0.9777 - val_loss: 0.0794 - val_accuracy: 0.9754\n",
            "Epoch 169/2000\n",
            "8/8 [==============================] - 0s 11ms/step - loss: 0.0700 - accuracy: 0.9784 - val_loss: 0.0784 - val_accuracy: 0.9769\n",
            "Epoch 170/2000\n",
            "8/8 [==============================] - 0s 10ms/step - loss: 0.0712 - accuracy: 0.9772 - val_loss: 0.0824 - val_accuracy: 0.9723\n",
            "Epoch 171/2000\n",
            "8/8 [==============================] - 0s 8ms/step - loss: 0.0701 - accuracy: 0.9772 - val_loss: 0.0805 - val_accuracy: 0.9731\n",
            "Epoch 172/2000\n",
            "8/8 [==============================] - 0s 11ms/step - loss: 0.0691 - accuracy: 0.9782 - val_loss: 0.0795 - val_accuracy: 0.9731\n",
            "Epoch 173/2000\n",
            "8/8 [==============================] - 0s 11ms/step - loss: 0.0683 - accuracy: 0.9774 - val_loss: 0.0764 - val_accuracy: 0.9769\n",
            "Epoch 174/2000\n",
            "8/8 [==============================] - 0s 11ms/step - loss: 0.0682 - accuracy: 0.9777 - val_loss: 0.0777 - val_accuracy: 0.9754\n",
            "Epoch 175/2000\n",
            "8/8 [==============================] - 0s 11ms/step - loss: 0.0699 - accuracy: 0.9782 - val_loss: 0.0753 - val_accuracy: 0.9777\n",
            "Epoch 176/2000\n",
            "8/8 [==============================] - 0s 8ms/step - loss: 0.0711 - accuracy: 0.9766 - val_loss: 0.0995 - val_accuracy: 0.9638\n",
            "Epoch 177/2000\n",
            "8/8 [==============================] - 0s 8ms/step - loss: 0.0741 - accuracy: 0.9741 - val_loss: 0.0888 - val_accuracy: 0.9662\n",
            "Epoch 178/2000\n",
            "8/8 [==============================] - 0s 14ms/step - loss: 0.0749 - accuracy: 0.9743 - val_loss: 0.0746 - val_accuracy: 0.9792\n",
            "Epoch 179/2000\n",
            "8/8 [==============================] - 0s 8ms/step - loss: 0.0691 - accuracy: 0.9754 - val_loss: 0.0785 - val_accuracy: 0.9738\n",
            "Epoch 180/2000\n",
            "8/8 [==============================] - 0s 12ms/step - loss: 0.0691 - accuracy: 0.9764 - val_loss: 0.0752 - val_accuracy: 0.9762\n",
            "Epoch 181/2000\n",
            "8/8 [==============================] - 0s 9ms/step - loss: 0.0679 - accuracy: 0.9784 - val_loss: 0.0747 - val_accuracy: 0.9769\n",
            "Epoch 182/2000\n",
            "8/8 [==============================] - 0s 11ms/step - loss: 0.0664 - accuracy: 0.9797 - val_loss: 0.0746 - val_accuracy: 0.9769\n",
            "Epoch 183/2000\n",
            "8/8 [==============================] - 0s 10ms/step - loss: 0.0669 - accuracy: 0.9779 - val_loss: 0.0778 - val_accuracy: 0.9723\n",
            "Epoch 184/2000\n",
            "8/8 [==============================] - 0s 12ms/step - loss: 0.0669 - accuracy: 0.9784 - val_loss: 0.0784 - val_accuracy: 0.9723\n",
            "Epoch 185/2000\n",
            "8/8 [==============================] - 0s 10ms/step - loss: 0.0664 - accuracy: 0.9774 - val_loss: 0.0765 - val_accuracy: 0.9723\n",
            "Epoch 186/2000\n",
            "8/8 [==============================] - 0s 14ms/step - loss: 0.0660 - accuracy: 0.9784 - val_loss: 0.0721 - val_accuracy: 0.9792\n",
            "Epoch 187/2000\n",
            "8/8 [==============================] - 0s 11ms/step - loss: 0.0646 - accuracy: 0.9790 - val_loss: 0.0719 - val_accuracy: 0.9785\n",
            "Epoch 188/2000\n",
            "8/8 [==============================] - 0s 8ms/step - loss: 0.0639 - accuracy: 0.9784 - val_loss: 0.0739 - val_accuracy: 0.9746\n",
            "Epoch 189/2000\n",
            "8/8 [==============================] - 0s 9ms/step - loss: 0.0643 - accuracy: 0.9784 - val_loss: 0.0729 - val_accuracy: 0.9777\n",
            "Epoch 190/2000\n",
            "8/8 [==============================] - 0s 9ms/step - loss: 0.0634 - accuracy: 0.9787 - val_loss: 0.0722 - val_accuracy: 0.9762\n",
            "Epoch 191/2000\n",
            "8/8 [==============================] - 0s 15ms/step - loss: 0.0652 - accuracy: 0.9769 - val_loss: 0.0715 - val_accuracy: 0.9785\n",
            "Epoch 192/2000\n",
            "8/8 [==============================] - 0s 12ms/step - loss: 0.0634 - accuracy: 0.9784 - val_loss: 0.0712 - val_accuracy: 0.9769\n",
            "Epoch 193/2000\n",
            "8/8 [==============================] - 0s 12ms/step - loss: 0.0634 - accuracy: 0.9790 - val_loss: 0.0701 - val_accuracy: 0.9792\n",
            "Epoch 194/2000\n",
            "8/8 [==============================] - 0s 12ms/step - loss: 0.0628 - accuracy: 0.9800 - val_loss: 0.0696 - val_accuracy: 0.9800\n",
            "Epoch 195/2000\n",
            "8/8 [==============================] - 0s 9ms/step - loss: 0.0622 - accuracy: 0.9805 - val_loss: 0.0718 - val_accuracy: 0.9754\n",
            "Epoch 196/2000\n",
            "8/8 [==============================] - 0s 8ms/step - loss: 0.0641 - accuracy: 0.9802 - val_loss: 0.0706 - val_accuracy: 0.9785\n",
            "Epoch 197/2000\n",
            "8/8 [==============================] - 0s 9ms/step - loss: 0.0627 - accuracy: 0.9792 - val_loss: 0.0728 - val_accuracy: 0.9746\n",
            "Epoch 198/2000\n",
            "8/8 [==============================] - 0s 8ms/step - loss: 0.0653 - accuracy: 0.9797 - val_loss: 0.0776 - val_accuracy: 0.9746\n",
            "Epoch 199/2000\n",
            "8/8 [==============================] - 0s 14ms/step - loss: 0.0648 - accuracy: 0.9802 - val_loss: 0.0688 - val_accuracy: 0.9792\n",
            "Epoch 200/2000\n",
            "8/8 [==============================] - 0s 11ms/step - loss: 0.0621 - accuracy: 0.9813 - val_loss: 0.0706 - val_accuracy: 0.9762\n",
            "Epoch 201/2000\n",
            "8/8 [==============================] - 0s 10ms/step - loss: 0.0615 - accuracy: 0.9805 - val_loss: 0.0765 - val_accuracy: 0.9715\n",
            "Epoch 202/2000\n",
            "8/8 [==============================] - 0s 9ms/step - loss: 0.0634 - accuracy: 0.9800 - val_loss: 0.0720 - val_accuracy: 0.9754\n",
            "Epoch 203/2000\n",
            "8/8 [==============================] - 0s 16ms/step - loss: 0.0629 - accuracy: 0.9779 - val_loss: 0.0681 - val_accuracy: 0.9792\n",
            "Epoch 204/2000\n",
            "8/8 [==============================] - 0s 8ms/step - loss: 0.0617 - accuracy: 0.9808 - val_loss: 0.0688 - val_accuracy: 0.9777\n",
            "Epoch 205/2000\n",
            "8/8 [==============================] - 0s 12ms/step - loss: 0.0612 - accuracy: 0.9805 - val_loss: 0.0677 - val_accuracy: 0.9792\n",
            "Epoch 206/2000\n",
            "8/8 [==============================] - 0s 11ms/step - loss: 0.0609 - accuracy: 0.9808 - val_loss: 0.0678 - val_accuracy: 0.9785\n",
            "Epoch 207/2000\n",
            "8/8 [==============================] - 0s 14ms/step - loss: 0.0624 - accuracy: 0.9800 - val_loss: 0.0676 - val_accuracy: 0.9762\n",
            "Epoch 208/2000\n",
            "8/8 [==============================] - 0s 14ms/step - loss: 0.0598 - accuracy: 0.9808 - val_loss: 0.0667 - val_accuracy: 0.9800\n",
            "Epoch 209/2000\n",
            "8/8 [==============================] - 0s 11ms/step - loss: 0.0595 - accuracy: 0.9805 - val_loss: 0.0668 - val_accuracy: 0.9785\n",
            "Epoch 210/2000\n",
            "8/8 [==============================] - 0s 12ms/step - loss: 0.0595 - accuracy: 0.9810 - val_loss: 0.0664 - val_accuracy: 0.9792\n",
            "Epoch 211/2000\n",
            "8/8 [==============================] - 0s 9ms/step - loss: 0.0601 - accuracy: 0.9813 - val_loss: 0.0676 - val_accuracy: 0.9777\n",
            "Epoch 212/2000\n",
            "8/8 [==============================] - 0s 9ms/step - loss: 0.0604 - accuracy: 0.9823 - val_loss: 0.0690 - val_accuracy: 0.9762\n",
            "Epoch 213/2000\n",
            "8/8 [==============================] - 0s 9ms/step - loss: 0.0604 - accuracy: 0.9813 - val_loss: 0.0670 - val_accuracy: 0.9785\n",
            "Epoch 214/2000\n",
            "8/8 [==============================] - 0s 12ms/step - loss: 0.0623 - accuracy: 0.9797 - val_loss: 0.0727 - val_accuracy: 0.9769\n",
            "Epoch 215/2000\n",
            "8/8 [==============================] - 0s 11ms/step - loss: 0.0631 - accuracy: 0.9787 - val_loss: 0.0709 - val_accuracy: 0.9777\n",
            "Epoch 216/2000\n",
            "8/8 [==============================] - 0s 9ms/step - loss: 0.0603 - accuracy: 0.9797 - val_loss: 0.0675 - val_accuracy: 0.9785\n",
            "Epoch 217/2000\n",
            "8/8 [==============================] - 0s 10ms/step - loss: 0.0592 - accuracy: 0.9808 - val_loss: 0.0720 - val_accuracy: 0.9762\n",
            "Epoch 218/2000\n",
            "8/8 [==============================] - 0s 8ms/step - loss: 0.0598 - accuracy: 0.9808 - val_loss: 0.0707 - val_accuracy: 0.9762\n",
            "Epoch 219/2000\n",
            "8/8 [==============================] - 0s 13ms/step - loss: 0.0598 - accuracy: 0.9813 - val_loss: 0.0657 - val_accuracy: 0.9785\n",
            "Epoch 220/2000\n",
            "8/8 [==============================] - 0s 10ms/step - loss: 0.0572 - accuracy: 0.9818 - val_loss: 0.0660 - val_accuracy: 0.9792\n",
            "Epoch 221/2000\n",
            "8/8 [==============================] - 0s 11ms/step - loss: 0.0593 - accuracy: 0.9808 - val_loss: 0.0686 - val_accuracy: 0.9785\n",
            "Epoch 222/2000\n",
            "8/8 [==============================] - 0s 11ms/step - loss: 0.0604 - accuracy: 0.9813 - val_loss: 0.0691 - val_accuracy: 0.9777\n",
            "Epoch 223/2000\n",
            "8/8 [==============================] - 0s 13ms/step - loss: 0.0615 - accuracy: 0.9810 - val_loss: 0.0640 - val_accuracy: 0.9800\n",
            "Epoch 224/2000\n",
            "8/8 [==============================] - 0s 8ms/step - loss: 0.0618 - accuracy: 0.9810 - val_loss: 0.0657 - val_accuracy: 0.9785\n",
            "Epoch 225/2000\n",
            "8/8 [==============================] - 0s 8ms/step - loss: 0.0574 - accuracy: 0.9810 - val_loss: 0.0673 - val_accuracy: 0.9777\n",
            "Epoch 226/2000\n",
            "8/8 [==============================] - 0s 13ms/step - loss: 0.0561 - accuracy: 0.9813 - val_loss: 0.0629 - val_accuracy: 0.9808\n",
            "Epoch 227/2000\n",
            "8/8 [==============================] - 0s 10ms/step - loss: 0.0554 - accuracy: 0.9818 - val_loss: 0.0643 - val_accuracy: 0.9785\n",
            "Epoch 228/2000\n",
            "8/8 [==============================] - 0s 21ms/step - loss: 0.0574 - accuracy: 0.9836 - val_loss: 0.0627 - val_accuracy: 0.9808\n",
            "Epoch 229/2000\n",
            "8/8 [==============================] - 0s 16ms/step - loss: 0.0581 - accuracy: 0.9802 - val_loss: 0.0631 - val_accuracy: 0.9785\n",
            "Epoch 230/2000\n",
            "8/8 [==============================] - 0s 14ms/step - loss: 0.0559 - accuracy: 0.9810 - val_loss: 0.0645 - val_accuracy: 0.9785\n",
            "Epoch 231/2000\n",
            "8/8 [==============================] - 0s 13ms/step - loss: 0.0561 - accuracy: 0.9828 - val_loss: 0.0629 - val_accuracy: 0.9815\n",
            "Epoch 232/2000\n",
            "8/8 [==============================] - 0s 13ms/step - loss: 0.0558 - accuracy: 0.9828 - val_loss: 0.0645 - val_accuracy: 0.9800\n",
            "Epoch 233/2000\n",
            "8/8 [==============================] - 0s 13ms/step - loss: 0.0556 - accuracy: 0.9828 - val_loss: 0.0635 - val_accuracy: 0.9792\n",
            "Epoch 234/2000\n",
            "8/8 [==============================] - 0s 12ms/step - loss: 0.0558 - accuracy: 0.9810 - val_loss: 0.0645 - val_accuracy: 0.9800\n",
            "Epoch 235/2000\n",
            "8/8 [==============================] - 0s 16ms/step - loss: 0.0555 - accuracy: 0.9820 - val_loss: 0.0635 - val_accuracy: 0.9808\n",
            "Epoch 236/2000\n",
            "8/8 [==============================] - 0s 13ms/step - loss: 0.0548 - accuracy: 0.9826 - val_loss: 0.0636 - val_accuracy: 0.9800\n",
            "Epoch 237/2000\n",
            "8/8 [==============================] - 0s 18ms/step - loss: 0.0554 - accuracy: 0.9826 - val_loss: 0.0612 - val_accuracy: 0.9808\n",
            "Epoch 238/2000\n",
            "8/8 [==============================] - 0s 14ms/step - loss: 0.0547 - accuracy: 0.9836 - val_loss: 0.0643 - val_accuracy: 0.9792\n",
            "Epoch 239/2000\n",
            "8/8 [==============================] - 0s 13ms/step - loss: 0.0560 - accuracy: 0.9826 - val_loss: 0.0619 - val_accuracy: 0.9800\n",
            "Epoch 240/2000\n",
            "8/8 [==============================] - 0s 14ms/step - loss: 0.0538 - accuracy: 0.9831 - val_loss: 0.0622 - val_accuracy: 0.9800\n",
            "Epoch 241/2000\n",
            "8/8 [==============================] - 0s 16ms/step - loss: 0.0545 - accuracy: 0.9826 - val_loss: 0.0608 - val_accuracy: 0.9823\n",
            "Epoch 242/2000\n",
            "8/8 [==============================] - 0s 13ms/step - loss: 0.0559 - accuracy: 0.9831 - val_loss: 0.0616 - val_accuracy: 0.9800\n",
            "Epoch 243/2000\n",
            "8/8 [==============================] - 0s 14ms/step - loss: 0.0564 - accuracy: 0.9800 - val_loss: 0.0645 - val_accuracy: 0.9792\n",
            "Epoch 244/2000\n",
            "8/8 [==============================] - 0s 14ms/step - loss: 0.0551 - accuracy: 0.9831 - val_loss: 0.0611 - val_accuracy: 0.9808\n",
            "Epoch 245/2000\n",
            "8/8 [==============================] - 0s 11ms/step - loss: 0.0529 - accuracy: 0.9833 - val_loss: 0.0609 - val_accuracy: 0.9800\n",
            "Epoch 246/2000\n",
            "8/8 [==============================] - 0s 18ms/step - loss: 0.0526 - accuracy: 0.9833 - val_loss: 0.0601 - val_accuracy: 0.9823\n",
            "Epoch 247/2000\n",
            "8/8 [==============================] - 0s 17ms/step - loss: 0.0523 - accuracy: 0.9836 - val_loss: 0.0599 - val_accuracy: 0.9838\n",
            "Epoch 248/2000\n",
            "8/8 [==============================] - 0s 13ms/step - loss: 0.0527 - accuracy: 0.9846 - val_loss: 0.0606 - val_accuracy: 0.9808\n",
            "Epoch 249/2000\n",
            "8/8 [==============================] - 0s 17ms/step - loss: 0.0524 - accuracy: 0.9841 - val_loss: 0.0598 - val_accuracy: 0.9815\n",
            "Epoch 250/2000\n",
            "8/8 [==============================] - 0s 12ms/step - loss: 0.0528 - accuracy: 0.9833 - val_loss: 0.0626 - val_accuracy: 0.9800\n",
            "Epoch 251/2000\n",
            "8/8 [==============================] - 0s 13ms/step - loss: 0.0553 - accuracy: 0.9823 - val_loss: 0.0628 - val_accuracy: 0.9800\n",
            "Epoch 252/2000\n",
            "8/8 [==============================] - 0s 15ms/step - loss: 0.0529 - accuracy: 0.9849 - val_loss: 0.0633 - val_accuracy: 0.9800\n",
            "Epoch 253/2000\n",
            "8/8 [==============================] - 0s 15ms/step - loss: 0.0527 - accuracy: 0.9838 - val_loss: 0.0615 - val_accuracy: 0.9792\n",
            "Epoch 254/2000\n",
            "8/8 [==============================] - 0s 20ms/step - loss: 0.0524 - accuracy: 0.9828 - val_loss: 0.0592 - val_accuracy: 0.9831\n",
            "Epoch 255/2000\n",
            "8/8 [==============================] - 0s 14ms/step - loss: 0.0528 - accuracy: 0.9836 - val_loss: 0.0601 - val_accuracy: 0.9808\n",
            "Epoch 256/2000\n",
            "8/8 [==============================] - 0s 19ms/step - loss: 0.0520 - accuracy: 0.9828 - val_loss: 0.0589 - val_accuracy: 0.9846\n",
            "Epoch 257/2000\n",
            "8/8 [==============================] - 0s 18ms/step - loss: 0.0511 - accuracy: 0.9841 - val_loss: 0.0589 - val_accuracy: 0.9838\n",
            "Epoch 258/2000\n",
            "8/8 [==============================] - 0s 17ms/step - loss: 0.0514 - accuracy: 0.9833 - val_loss: 0.0584 - val_accuracy: 0.9838\n",
            "Epoch 259/2000\n",
            "8/8 [==============================] - 0s 13ms/step - loss: 0.0515 - accuracy: 0.9833 - val_loss: 0.0587 - val_accuracy: 0.9838\n",
            "Epoch 260/2000\n",
            "8/8 [==============================] - 0s 16ms/step - loss: 0.0523 - accuracy: 0.9833 - val_loss: 0.0582 - val_accuracy: 0.9846\n",
            "Epoch 261/2000\n",
            "8/8 [==============================] - 0s 13ms/step - loss: 0.0506 - accuracy: 0.9833 - val_loss: 0.0614 - val_accuracy: 0.9792\n",
            "Epoch 262/2000\n",
            "8/8 [==============================] - 0s 13ms/step - loss: 0.0507 - accuracy: 0.9838 - val_loss: 0.0582 - val_accuracy: 0.9838\n",
            "Epoch 263/2000\n",
            "8/8 [==============================] - 0s 13ms/step - loss: 0.0505 - accuracy: 0.9843 - val_loss: 0.0582 - val_accuracy: 0.9838\n",
            "Epoch 264/2000\n",
            "8/8 [==============================] - 0s 18ms/step - loss: 0.0508 - accuracy: 0.9838 - val_loss: 0.0579 - val_accuracy: 0.9838\n",
            "Epoch 265/2000\n",
            "8/8 [==============================] - 0s 15ms/step - loss: 0.0499 - accuracy: 0.9838 - val_loss: 0.0583 - val_accuracy: 0.9838\n",
            "Epoch 266/2000\n",
            "8/8 [==============================] - 0s 12ms/step - loss: 0.0503 - accuracy: 0.9843 - val_loss: 0.0625 - val_accuracy: 0.9785\n",
            "Epoch 267/2000\n",
            "8/8 [==============================] - 0s 16ms/step - loss: 0.0547 - accuracy: 0.9833 - val_loss: 0.0579 - val_accuracy: 0.9838\n",
            "Epoch 268/2000\n",
            "8/8 [==============================] - 0s 10ms/step - loss: 0.0502 - accuracy: 0.9843 - val_loss: 0.0606 - val_accuracy: 0.9800\n",
            "Epoch 269/2000\n",
            "8/8 [==============================] - 0s 12ms/step - loss: 0.0501 - accuracy: 0.9833 - val_loss: 0.0576 - val_accuracy: 0.9846\n",
            "Epoch 270/2000\n",
            "8/8 [==============================] - 0s 16ms/step - loss: 0.0495 - accuracy: 0.9846 - val_loss: 0.0573 - val_accuracy: 0.9838\n",
            "Epoch 271/2000\n",
            "8/8 [==============================] - 0s 14ms/step - loss: 0.0492 - accuracy: 0.9843 - val_loss: 0.0571 - val_accuracy: 0.9846\n",
            "Epoch 272/2000\n",
            "8/8 [==============================] - 0s 12ms/step - loss: 0.0500 - accuracy: 0.9854 - val_loss: 0.0569 - val_accuracy: 0.9846\n",
            "Epoch 273/2000\n",
            "8/8 [==============================] - 0s 8ms/step - loss: 0.0502 - accuracy: 0.9849 - val_loss: 0.0570 - val_accuracy: 0.9838\n",
            "Epoch 274/2000\n",
            "8/8 [==============================] - 0s 11ms/step - loss: 0.0489 - accuracy: 0.9856 - val_loss: 0.0568 - val_accuracy: 0.9831\n",
            "Epoch 275/2000\n",
            "8/8 [==============================] - 0s 9ms/step - loss: 0.0513 - accuracy: 0.9836 - val_loss: 0.0570 - val_accuracy: 0.9838\n",
            "Epoch 276/2000\n",
            "8/8 [==============================] - 0s 9ms/step - loss: 0.0533 - accuracy: 0.9838 - val_loss: 0.0574 - val_accuracy: 0.9823\n",
            "Epoch 277/2000\n",
            "8/8 [==============================] - 0s 8ms/step - loss: 0.0492 - accuracy: 0.9859 - val_loss: 0.0609 - val_accuracy: 0.9808\n",
            "Epoch 278/2000\n",
            "8/8 [==============================] - 0s 9ms/step - loss: 0.0510 - accuracy: 0.9849 - val_loss: 0.0639 - val_accuracy: 0.9785\n",
            "Epoch 279/2000\n",
            "8/8 [==============================] - 0s 11ms/step - loss: 0.0490 - accuracy: 0.9869 - val_loss: 0.0566 - val_accuracy: 0.9846\n",
            "Epoch 280/2000\n",
            "8/8 [==============================] - 0s 9ms/step - loss: 0.0484 - accuracy: 0.9859 - val_loss: 0.0602 - val_accuracy: 0.9800\n",
            "Epoch 281/2000\n",
            "8/8 [==============================] - 0s 12ms/step - loss: 0.0497 - accuracy: 0.9854 - val_loss: 0.0563 - val_accuracy: 0.9846\n",
            "Epoch 282/2000\n",
            "8/8 [==============================] - 0s 11ms/step - loss: 0.0480 - accuracy: 0.9846 - val_loss: 0.0561 - val_accuracy: 0.9846\n",
            "Epoch 283/2000\n",
            "8/8 [==============================] - 0s 10ms/step - loss: 0.0483 - accuracy: 0.9841 - val_loss: 0.0570 - val_accuracy: 0.9800\n",
            "Epoch 284/2000\n",
            "8/8 [==============================] - 0s 9ms/step - loss: 0.0481 - accuracy: 0.9861 - val_loss: 0.0569 - val_accuracy: 0.9800\n",
            "Epoch 285/2000\n",
            "8/8 [==============================] - 0s 14ms/step - loss: 0.0481 - accuracy: 0.9843 - val_loss: 0.0561 - val_accuracy: 0.9846\n",
            "Epoch 286/2000\n",
            "8/8 [==============================] - 0s 12ms/step - loss: 0.0479 - accuracy: 0.9843 - val_loss: 0.0559 - val_accuracy: 0.9846\n",
            "Epoch 287/2000\n",
            "8/8 [==============================] - 0s 13ms/step - loss: 0.0482 - accuracy: 0.9843 - val_loss: 0.0558 - val_accuracy: 0.9838\n",
            "Epoch 288/2000\n",
            "8/8 [==============================] - 0s 8ms/step - loss: 0.0488 - accuracy: 0.9849 - val_loss: 0.0659 - val_accuracy: 0.9808\n",
            "Epoch 289/2000\n",
            "8/8 [==============================] - 0s 11ms/step - loss: 0.0523 - accuracy: 0.9838 - val_loss: 0.0583 - val_accuracy: 0.9808\n",
            "Epoch 290/2000\n",
            "8/8 [==============================] - 0s 11ms/step - loss: 0.0483 - accuracy: 0.9861 - val_loss: 0.0583 - val_accuracy: 0.9800\n",
            "Epoch 291/2000\n",
            "8/8 [==============================] - 0s 10ms/step - loss: 0.0476 - accuracy: 0.9849 - val_loss: 0.0563 - val_accuracy: 0.9838\n",
            "Epoch 292/2000\n",
            "8/8 [==============================] - 0s 14ms/step - loss: 0.0486 - accuracy: 0.9856 - val_loss: 0.0555 - val_accuracy: 0.9846\n",
            "Epoch 293/2000\n",
            "8/8 [==============================] - 0s 14ms/step - loss: 0.0471 - accuracy: 0.9854 - val_loss: 0.0553 - val_accuracy: 0.9846\n",
            "Epoch 294/2000\n",
            "8/8 [==============================] - 0s 10ms/step - loss: 0.0473 - accuracy: 0.9851 - val_loss: 0.0561 - val_accuracy: 0.9831\n",
            "Epoch 295/2000\n",
            "8/8 [==============================] - 0s 9ms/step - loss: 0.0470 - accuracy: 0.9846 - val_loss: 0.0565 - val_accuracy: 0.9815\n",
            "Epoch 296/2000\n",
            "8/8 [==============================] - 0s 12ms/step - loss: 0.0476 - accuracy: 0.9846 - val_loss: 0.0551 - val_accuracy: 0.9823\n",
            "Epoch 297/2000\n",
            "8/8 [==============================] - 0s 10ms/step - loss: 0.0477 - accuracy: 0.9851 - val_loss: 0.0576 - val_accuracy: 0.9808\n",
            "Epoch 298/2000\n",
            "8/8 [==============================] - 0s 8ms/step - loss: 0.0485 - accuracy: 0.9859 - val_loss: 0.0590 - val_accuracy: 0.9815\n",
            "Epoch 299/2000\n",
            "8/8 [==============================] - 0s 10ms/step - loss: 0.0483 - accuracy: 0.9861 - val_loss: 0.0590 - val_accuracy: 0.9815\n",
            "Epoch 300/2000\n",
            "8/8 [==============================] - 0s 9ms/step - loss: 0.0485 - accuracy: 0.9849 - val_loss: 0.0563 - val_accuracy: 0.9823\n",
            "Epoch 301/2000\n",
            "8/8 [==============================] - 0s 8ms/step - loss: 0.0480 - accuracy: 0.9864 - val_loss: 0.0585 - val_accuracy: 0.9800\n",
            "Epoch 302/2000\n",
            "8/8 [==============================] - 0s 9ms/step - loss: 0.0472 - accuracy: 0.9869 - val_loss: 0.0586 - val_accuracy: 0.9808\n",
            "Epoch 303/2000\n",
            "8/8 [==============================] - 0s 9ms/step - loss: 0.0495 - accuracy: 0.9851 - val_loss: 0.0629 - val_accuracy: 0.9785\n",
            "Epoch 304/2000\n",
            "8/8 [==============================] - 0s 12ms/step - loss: 0.0466 - accuracy: 0.9849 - val_loss: 0.0548 - val_accuracy: 0.9831\n",
            "Epoch 305/2000\n",
            "8/8 [==============================] - 0s 11ms/step - loss: 0.0472 - accuracy: 0.9872 - val_loss: 0.0622 - val_accuracy: 0.9823\n",
            "Epoch 306/2000\n",
            "8/8 [==============================] - 0s 12ms/step - loss: 0.0479 - accuracy: 0.9861 - val_loss: 0.0550 - val_accuracy: 0.9838\n",
            "Epoch 307/2000\n",
            "8/8 [==============================] - 0s 10ms/step - loss: 0.0464 - accuracy: 0.9849 - val_loss: 0.0557 - val_accuracy: 0.9823\n",
            "Epoch 308/2000\n",
            "8/8 [==============================] - 0s 10ms/step - loss: 0.0460 - accuracy: 0.9869 - val_loss: 0.0582 - val_accuracy: 0.9800\n",
            "Epoch 309/2000\n",
            "8/8 [==============================] - 0s 11ms/step - loss: 0.0467 - accuracy: 0.9867 - val_loss: 0.0541 - val_accuracy: 0.9823\n",
            "Epoch 310/2000\n",
            "8/8 [==============================] - 0s 11ms/step - loss: 0.0463 - accuracy: 0.9861 - val_loss: 0.0571 - val_accuracy: 0.9800\n",
            "Epoch 311/2000\n",
            "8/8 [==============================] - 0s 11ms/step - loss: 0.0468 - accuracy: 0.9856 - val_loss: 0.0652 - val_accuracy: 0.9762\n",
            "Epoch 312/2000\n",
            "8/8 [==============================] - 0s 9ms/step - loss: 0.0475 - accuracy: 0.9872 - val_loss: 0.0606 - val_accuracy: 0.9808\n",
            "Epoch 313/2000\n",
            "8/8 [==============================] - 0s 9ms/step - loss: 0.0471 - accuracy: 0.9861 - val_loss: 0.0552 - val_accuracy: 0.9831\n",
            "Epoch 314/2000\n",
            "8/8 [==============================] - 0s 14ms/step - loss: 0.0492 - accuracy: 0.9846 - val_loss: 0.0538 - val_accuracy: 0.9823\n",
            "Epoch 315/2000\n",
            "8/8 [==============================] - 0s 10ms/step - loss: 0.0525 - accuracy: 0.9849 - val_loss: 0.0549 - val_accuracy: 0.9815\n",
            "Epoch 316/2000\n",
            "8/8 [==============================] - 0s 8ms/step - loss: 0.0480 - accuracy: 0.9843 - val_loss: 0.0644 - val_accuracy: 0.9815\n",
            "Epoch 317/2000\n",
            "8/8 [==============================] - 0s 8ms/step - loss: 0.0513 - accuracy: 0.9851 - val_loss: 0.0664 - val_accuracy: 0.9792\n",
            "Epoch 318/2000\n",
            "8/8 [==============================] - 0s 10ms/step - loss: 0.0516 - accuracy: 0.9838 - val_loss: 0.0578 - val_accuracy: 0.9815\n",
            "Epoch 319/2000\n",
            "8/8 [==============================] - 0s 11ms/step - loss: 0.0480 - accuracy: 0.9851 - val_loss: 0.0537 - val_accuracy: 0.9831\n",
            "Epoch 320/2000\n",
            "8/8 [==============================] - 0s 11ms/step - loss: 0.0461 - accuracy: 0.9846 - val_loss: 0.0541 - val_accuracy: 0.9838\n",
            "Epoch 321/2000\n",
            "8/8 [==============================] - 0s 8ms/step - loss: 0.0444 - accuracy: 0.9864 - val_loss: 0.0556 - val_accuracy: 0.9815\n",
            "Epoch 322/2000\n",
            "8/8 [==============================] - 0s 9ms/step - loss: 0.0459 - accuracy: 0.9867 - val_loss: 0.0605 - val_accuracy: 0.9792\n",
            "Epoch 323/2000\n",
            "8/8 [==============================] - 0s 10ms/step - loss: 0.0462 - accuracy: 0.9856 - val_loss: 0.0567 - val_accuracy: 0.9800\n",
            "Epoch 324/2000\n",
            "8/8 [==============================] - 0s 8ms/step - loss: 0.0481 - accuracy: 0.9854 - val_loss: 0.0545 - val_accuracy: 0.9831\n",
            "Epoch 325/2000\n",
            "8/8 [==============================] - 0s 12ms/step - loss: 0.0468 - accuracy: 0.9843 - val_loss: 0.0532 - val_accuracy: 0.9831\n",
            "Epoch 326/2000\n",
            "8/8 [==============================] - 0s 10ms/step - loss: 0.0440 - accuracy: 0.9864 - val_loss: 0.0547 - val_accuracy: 0.9815\n",
            "Epoch 327/2000\n",
            "8/8 [==============================] - 0s 11ms/step - loss: 0.0454 - accuracy: 0.9849 - val_loss: 0.0529 - val_accuracy: 0.9831\n",
            "Epoch 328/2000\n",
            "8/8 [==============================] - 0s 11ms/step - loss: 0.0439 - accuracy: 0.9861 - val_loss: 0.0537 - val_accuracy: 0.9838\n",
            "Epoch 329/2000\n",
            "8/8 [==============================] - 0s 9ms/step - loss: 0.0441 - accuracy: 0.9864 - val_loss: 0.0531 - val_accuracy: 0.9838\n",
            "Epoch 330/2000\n",
            "8/8 [==============================] - 0s 10ms/step - loss: 0.0439 - accuracy: 0.9872 - val_loss: 0.0571 - val_accuracy: 0.9808\n",
            "Epoch 331/2000\n",
            "8/8 [==============================] - 0s 11ms/step - loss: 0.0447 - accuracy: 0.9869 - val_loss: 0.0532 - val_accuracy: 0.9831\n",
            "Epoch 332/2000\n",
            "8/8 [==============================] - 0s 11ms/step - loss: 0.0439 - accuracy: 0.9867 - val_loss: 0.0572 - val_accuracy: 0.9808\n",
            "Epoch 333/2000\n",
            "8/8 [==============================] - 0s 9ms/step - loss: 0.0449 - accuracy: 0.9864 - val_loss: 0.0533 - val_accuracy: 0.9831\n",
            "Epoch 334/2000\n",
            "8/8 [==============================] - 0s 10ms/step - loss: 0.0449 - accuracy: 0.9854 - val_loss: 0.0608 - val_accuracy: 0.9808\n",
            "Epoch 335/2000\n",
            "8/8 [==============================] - 0s 13ms/step - loss: 0.0463 - accuracy: 0.9872 - val_loss: 0.0527 - val_accuracy: 0.9838\n",
            "Epoch 336/2000\n",
            "8/8 [==============================] - 0s 9ms/step - loss: 0.0450 - accuracy: 0.9867 - val_loss: 0.0551 - val_accuracy: 0.9808\n",
            "Epoch 337/2000\n",
            "8/8 [==============================] - 0s 8ms/step - loss: 0.0451 - accuracy: 0.9869 - val_loss: 0.0596 - val_accuracy: 0.9792\n",
            "Epoch 338/2000\n",
            "8/8 [==============================] - 0s 7ms/step - loss: 0.0463 - accuracy: 0.9861 - val_loss: 0.0559 - val_accuracy: 0.9808\n",
            "Epoch 339/2000\n",
            "8/8 [==============================] - 0s 10ms/step - loss: 0.0469 - accuracy: 0.9851 - val_loss: 0.0551 - val_accuracy: 0.9808\n",
            "Epoch 340/2000\n",
            "8/8 [==============================] - 0s 10ms/step - loss: 0.0460 - accuracy: 0.9877 - val_loss: 0.0601 - val_accuracy: 0.9800\n",
            "Epoch 341/2000\n",
            "8/8 [==============================] - 0s 9ms/step - loss: 0.0444 - accuracy: 0.9867 - val_loss: 0.0534 - val_accuracy: 0.9823\n",
            "Epoch 342/2000\n",
            "8/8 [==============================] - 0s 8ms/step - loss: 0.0432 - accuracy: 0.9854 - val_loss: 0.0527 - val_accuracy: 0.9831\n",
            "Epoch 343/2000\n",
            "8/8 [==============================] - 0s 11ms/step - loss: 0.0427 - accuracy: 0.9867 - val_loss: 0.0524 - val_accuracy: 0.9838\n",
            "Epoch 344/2000\n",
            "8/8 [==============================] - 0s 13ms/step - loss: 0.0431 - accuracy: 0.9861 - val_loss: 0.0520 - val_accuracy: 0.9838\n",
            "Epoch 345/2000\n",
            "8/8 [==============================] - 0s 11ms/step - loss: 0.0429 - accuracy: 0.9864 - val_loss: 0.0522 - val_accuracy: 0.9838\n",
            "Epoch 346/2000\n",
            "8/8 [==============================] - 0s 10ms/step - loss: 0.0430 - accuracy: 0.9874 - val_loss: 0.0530 - val_accuracy: 0.9838\n",
            "Epoch 347/2000\n",
            "8/8 [==============================] - 0s 12ms/step - loss: 0.0459 - accuracy: 0.9869 - val_loss: 0.0518 - val_accuracy: 0.9838\n",
            "Epoch 348/2000\n",
            "8/8 [==============================] - 0s 8ms/step - loss: 0.0446 - accuracy: 0.9877 - val_loss: 0.0670 - val_accuracy: 0.9769\n",
            "Epoch 349/2000\n",
            "8/8 [==============================] - 0s 8ms/step - loss: 0.0473 - accuracy: 0.9859 - val_loss: 0.0697 - val_accuracy: 0.9769\n",
            "Epoch 350/2000\n",
            "8/8 [==============================] - 0s 9ms/step - loss: 0.0493 - accuracy: 0.9849 - val_loss: 0.0607 - val_accuracy: 0.9792\n",
            "Epoch 351/2000\n",
            "8/8 [==============================] - 0s 7ms/step - loss: 0.0468 - accuracy: 0.9856 - val_loss: 0.0530 - val_accuracy: 0.9815\n",
            "Epoch 352/2000\n",
            "8/8 [==============================] - 0s 8ms/step - loss: 0.0460 - accuracy: 0.9867 - val_loss: 0.0522 - val_accuracy: 0.9846\n",
            "Epoch 353/2000\n",
            "8/8 [==============================] - 0s 8ms/step - loss: 0.0439 - accuracy: 0.9861 - val_loss: 0.0578 - val_accuracy: 0.9823\n",
            "Epoch 354/2000\n",
            "8/8 [==============================] - 0s 13ms/step - loss: 0.0443 - accuracy: 0.9869 - val_loss: 0.0515 - val_accuracy: 0.9838\n",
            "Epoch 355/2000\n",
            "8/8 [==============================] - 0s 10ms/step - loss: 0.0436 - accuracy: 0.9874 - val_loss: 0.0539 - val_accuracy: 0.9854\n",
            "Epoch 356/2000\n",
            "8/8 [==============================] - 0s 8ms/step - loss: 0.0452 - accuracy: 0.9867 - val_loss: 0.0568 - val_accuracy: 0.9823\n",
            "Epoch 357/2000\n",
            "8/8 [==============================] - 0s 8ms/step - loss: 0.0434 - accuracy: 0.9872 - val_loss: 0.0519 - val_accuracy: 0.9846\n",
            "Epoch 358/2000\n",
            "8/8 [==============================] - 0s 12ms/step - loss: 0.0421 - accuracy: 0.9867 - val_loss: 0.0513 - val_accuracy: 0.9846\n",
            "Epoch 359/2000\n",
            "8/8 [==============================] - 0s 9ms/step - loss: 0.0422 - accuracy: 0.9874 - val_loss: 0.0513 - val_accuracy: 0.9846\n",
            "Epoch 360/2000\n",
            "8/8 [==============================] - 0s 8ms/step - loss: 0.0418 - accuracy: 0.9864 - val_loss: 0.0519 - val_accuracy: 0.9838\n",
            "Epoch 361/2000\n",
            "8/8 [==============================] - 0s 11ms/step - loss: 0.0426 - accuracy: 0.9872 - val_loss: 0.0523 - val_accuracy: 0.9846\n",
            "Epoch 362/2000\n",
            "8/8 [==============================] - 0s 9ms/step - loss: 0.0428 - accuracy: 0.9872 - val_loss: 0.0514 - val_accuracy: 0.9838\n",
            "Epoch 363/2000\n",
            "8/8 [==============================] - 0s 8ms/step - loss: 0.0423 - accuracy: 0.9869 - val_loss: 0.0517 - val_accuracy: 0.9838\n",
            "Epoch 364/2000\n",
            "8/8 [==============================] - 0s 11ms/step - loss: 0.0424 - accuracy: 0.9872 - val_loss: 0.0512 - val_accuracy: 0.9846\n",
            "Epoch 365/2000\n",
            "8/8 [==============================] - 0s 11ms/step - loss: 0.0433 - accuracy: 0.9854 - val_loss: 0.0536 - val_accuracy: 0.9823\n",
            "Epoch 366/2000\n",
            "8/8 [==============================] - 0s 9ms/step - loss: 0.0428 - accuracy: 0.9869 - val_loss: 0.0519 - val_accuracy: 0.9838\n",
            "Epoch 367/2000\n",
            "8/8 [==============================] - 0s 10ms/step - loss: 0.0423 - accuracy: 0.9874 - val_loss: 0.0554 - val_accuracy: 0.9815\n",
            "Epoch 368/2000\n",
            "8/8 [==============================] - 0s 10ms/step - loss: 0.0443 - accuracy: 0.9856 - val_loss: 0.0624 - val_accuracy: 0.9792\n",
            "Epoch 369/2000\n",
            "8/8 [==============================] - 0s 10ms/step - loss: 0.0455 - accuracy: 0.9859 - val_loss: 0.0547 - val_accuracy: 0.9808\n",
            "Epoch 370/2000\n",
            "8/8 [==============================] - 0s 8ms/step - loss: 0.0432 - accuracy: 0.9864 - val_loss: 0.0523 - val_accuracy: 0.9823\n",
            "Epoch 371/2000\n",
            "8/8 [==============================] - 0s 10ms/step - loss: 0.0411 - accuracy: 0.9872 - val_loss: 0.0516 - val_accuracy: 0.9838\n",
            "Epoch 372/2000\n",
            "8/8 [==============================] - 0s 11ms/step - loss: 0.0420 - accuracy: 0.9890 - val_loss: 0.0510 - val_accuracy: 0.9846\n",
            "Epoch 373/2000\n",
            "8/8 [==============================] - 0s 9ms/step - loss: 0.0433 - accuracy: 0.9882 - val_loss: 0.0521 - val_accuracy: 0.9815\n",
            "Epoch 374/2000\n",
            "8/8 [==============================] - 0s 10ms/step - loss: 0.0421 - accuracy: 0.9872 - val_loss: 0.0513 - val_accuracy: 0.9838\n",
            "Epoch 375/2000\n",
            "8/8 [==============================] - 0s 11ms/step - loss: 0.0409 - accuracy: 0.9867 - val_loss: 0.0509 - val_accuracy: 0.9846\n",
            "Epoch 376/2000\n",
            "8/8 [==============================] - 0s 11ms/step - loss: 0.0417 - accuracy: 0.9867 - val_loss: 0.0533 - val_accuracy: 0.9808\n",
            "Epoch 377/2000\n",
            "8/8 [==============================] - 0s 8ms/step - loss: 0.0414 - accuracy: 0.9872 - val_loss: 0.0546 - val_accuracy: 0.9823\n",
            "Epoch 378/2000\n",
            "8/8 [==============================] - 0s 11ms/step - loss: 0.0427 - accuracy: 0.9869 - val_loss: 0.0512 - val_accuracy: 0.9838\n",
            "Epoch 379/2000\n",
            "8/8 [==============================] - 0s 14ms/step - loss: 0.0428 - accuracy: 0.9861 - val_loss: 0.0508 - val_accuracy: 0.9846\n",
            "Epoch 380/2000\n",
            "8/8 [==============================] - 0s 9ms/step - loss: 0.0422 - accuracy: 0.9872 - val_loss: 0.0508 - val_accuracy: 0.9838\n",
            "Epoch 381/2000\n",
            "8/8 [==============================] - 0s 9ms/step - loss: 0.0429 - accuracy: 0.9885 - val_loss: 0.0514 - val_accuracy: 0.9846\n",
            "Epoch 382/2000\n",
            "8/8 [==============================] - 0s 13ms/step - loss: 0.0421 - accuracy: 0.9877 - val_loss: 0.0506 - val_accuracy: 0.9846\n",
            "Epoch 383/2000\n",
            "8/8 [==============================] - 0s 8ms/step - loss: 0.0410 - accuracy: 0.9867 - val_loss: 0.0507 - val_accuracy: 0.9846\n",
            "Epoch 384/2000\n",
            "8/8 [==============================] - 0s 8ms/step - loss: 0.0407 - accuracy: 0.9869 - val_loss: 0.0508 - val_accuracy: 0.9854\n",
            "Epoch 385/2000\n",
            "8/8 [==============================] - 0s 11ms/step - loss: 0.0407 - accuracy: 0.9872 - val_loss: 0.0510 - val_accuracy: 0.9838\n",
            "Epoch 386/2000\n",
            "8/8 [==============================] - 0s 13ms/step - loss: 0.0410 - accuracy: 0.9874 - val_loss: 0.0508 - val_accuracy: 0.9854\n",
            "Epoch 387/2000\n",
            "8/8 [==============================] - 0s 13ms/step - loss: 0.0407 - accuracy: 0.9877 - val_loss: 0.0525 - val_accuracy: 0.9862\n",
            "Epoch 388/2000\n",
            "8/8 [==============================] - 0s 15ms/step - loss: 0.0436 - accuracy: 0.9869 - val_loss: 0.0527 - val_accuracy: 0.9862\n",
            "Epoch 389/2000\n",
            "8/8 [==============================] - 0s 11ms/step - loss: 0.0433 - accuracy: 0.9874 - val_loss: 0.0508 - val_accuracy: 0.9854\n",
            "Epoch 390/2000\n",
            "8/8 [==============================] - 0s 14ms/step - loss: 0.0431 - accuracy: 0.9867 - val_loss: 0.0511 - val_accuracy: 0.9838\n",
            "Epoch 391/2000\n",
            "8/8 [==============================] - 0s 16ms/step - loss: 0.0437 - accuracy: 0.9872 - val_loss: 0.0507 - val_accuracy: 0.9854\n",
            "Epoch 392/2000\n",
            "8/8 [==============================] - 0s 12ms/step - loss: 0.0412 - accuracy: 0.9874 - val_loss: 0.0521 - val_accuracy: 0.9854\n",
            "Epoch 393/2000\n",
            "8/8 [==============================] - 0s 13ms/step - loss: 0.0428 - accuracy: 0.9869 - val_loss: 0.0520 - val_accuracy: 0.9854\n",
            "Epoch 394/2000\n",
            "8/8 [==============================] - 0s 11ms/step - loss: 0.0429 - accuracy: 0.9874 - val_loss: 0.0546 - val_accuracy: 0.9800\n",
            "Epoch 395/2000\n",
            "8/8 [==============================] - 0s 15ms/step - loss: 0.0419 - accuracy: 0.9874 - val_loss: 0.0506 - val_accuracy: 0.9854\n",
            "Epoch 396/2000\n",
            "8/8 [==============================] - 0s 16ms/step - loss: 0.0403 - accuracy: 0.9879 - val_loss: 0.0504 - val_accuracy: 0.9854\n",
            "Epoch 397/2000\n",
            "8/8 [==============================] - 0s 14ms/step - loss: 0.0405 - accuracy: 0.9872 - val_loss: 0.0531 - val_accuracy: 0.9846\n",
            "Epoch 398/2000\n",
            "8/8 [==============================] - 0s 13ms/step - loss: 0.0416 - accuracy: 0.9874 - val_loss: 0.0525 - val_accuracy: 0.9862\n",
            "Epoch 399/2000\n",
            "8/8 [==============================] - 0s 14ms/step - loss: 0.0424 - accuracy: 0.9872 - val_loss: 0.0508 - val_accuracy: 0.9846\n",
            "Epoch 400/2000\n",
            "8/8 [==============================] - 0s 14ms/step - loss: 0.0416 - accuracy: 0.9882 - val_loss: 0.0564 - val_accuracy: 0.9808\n",
            "Epoch 401/2000\n",
            "8/8 [==============================] - 0s 16ms/step - loss: 0.0407 - accuracy: 0.9872 - val_loss: 0.0507 - val_accuracy: 0.9831\n",
            "Epoch 402/2000\n",
            "8/8 [==============================] - 0s 13ms/step - loss: 0.0401 - accuracy: 0.9877 - val_loss: 0.0513 - val_accuracy: 0.9846\n",
            "Epoch 403/2000\n",
            "8/8 [==============================] - 0s 14ms/step - loss: 0.0401 - accuracy: 0.9879 - val_loss: 0.0506 - val_accuracy: 0.9854\n",
            "Epoch 404/2000\n",
            "8/8 [==============================] - 0s 14ms/step - loss: 0.0401 - accuracy: 0.9874 - val_loss: 0.0507 - val_accuracy: 0.9838\n",
            "Epoch 405/2000\n",
            "8/8 [==============================] - 0s 12ms/step - loss: 0.0411 - accuracy: 0.9877 - val_loss: 0.0505 - val_accuracy: 0.9854\n",
            "Epoch 406/2000\n",
            "8/8 [==============================] - 0s 11ms/step - loss: 0.0400 - accuracy: 0.9890 - val_loss: 0.0555 - val_accuracy: 0.9808\n",
            "Epoch 407/2000\n",
            "8/8 [==============================] - 0s 14ms/step - loss: 0.0409 - accuracy: 0.9874 - val_loss: 0.0507 - val_accuracy: 0.9838\n",
            "Epoch 408/2000\n",
            "8/8 [==============================] - 0s 15ms/step - loss: 0.0401 - accuracy: 0.9869 - val_loss: 0.0510 - val_accuracy: 0.9846\n",
            "Epoch 409/2000\n",
            "8/8 [==============================] - 0s 13ms/step - loss: 0.0398 - accuracy: 0.9879 - val_loss: 0.0512 - val_accuracy: 0.9838\n",
            "Epoch 410/2000\n",
            "8/8 [==============================] - 0s 17ms/step - loss: 0.0423 - accuracy: 0.9879 - val_loss: 0.0592 - val_accuracy: 0.9800\n",
            "Epoch 411/2000\n",
            "8/8 [==============================] - 0s 13ms/step - loss: 0.0426 - accuracy: 0.9874 - val_loss: 0.0545 - val_accuracy: 0.9854\n",
            "Epoch 412/2000\n",
            "8/8 [==============================] - 0s 14ms/step - loss: 0.0419 - accuracy: 0.9872 - val_loss: 0.0511 - val_accuracy: 0.9838\n",
            "Epoch 413/2000\n",
            "8/8 [==============================] - 0s 13ms/step - loss: 0.0455 - accuracy: 0.9854 - val_loss: 0.0527 - val_accuracy: 0.9862\n",
            "Epoch 414/2000\n",
            "8/8 [==============================] - 0s 13ms/step - loss: 0.0470 - accuracy: 0.9867 - val_loss: 0.0526 - val_accuracy: 0.9831\n",
            "Epoch 415/2000\n",
            "8/8 [==============================] - 0s 13ms/step - loss: 0.0399 - accuracy: 0.9882 - val_loss: 0.0508 - val_accuracy: 0.9854\n",
            "Epoch 416/2000\n",
            "8/8 [==============================] - 0s 16ms/step - loss: 0.0405 - accuracy: 0.9877 - val_loss: 0.0538 - val_accuracy: 0.9831\n"
          ]
        }
      ]
    },
    {
      "cell_type": "code",
      "source": [
        "score = model.evaluate(x_te, y_te)\n",
        "print('Test accuracy: ', score[1])"
      ],
      "metadata": {
        "colab": {
          "base_uri": "https://localhost:8080/"
        },
        "id": "5GhRJooZIrjs",
        "outputId": "e4f5acef-5d45-4801-ff02-140e44494838"
      },
      "execution_count": null,
      "outputs": [
        {
          "output_type": "stream",
          "name": "stdout",
          "text": [
            "41/41 [==============================] - 0s 8ms/step - loss: 0.0666 - accuracy: 0.9800\n",
            "Test accuracy:  0.9800000190734863\n"
          ]
        }
      ]
    },
    {
      "cell_type": "code",
      "source": [],
      "metadata": {
        "id": "Pw-veoOQJNHs"
      },
      "execution_count": null,
      "outputs": []
    }
  ]
}
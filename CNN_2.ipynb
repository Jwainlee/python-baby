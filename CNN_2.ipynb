{
  "nbformat": 4,
  "nbformat_minor": 0,
  "metadata": {
    "colab": {
      "provenance": [],
      "authorship_tag": "ABX9TyNsSpR11dWDQBgVE/bCKOGI",
      "include_colab_link": true
    },
    "kernelspec": {
      "name": "python3",
      "display_name": "Python 3"
    },
    "language_info": {
      "name": "python"
    }
  },
  "cells": [
    {
      "cell_type": "markdown",
      "metadata": {
        "id": "view-in-github",
        "colab_type": "text"
      },
      "source": [
        "<a href=\"https://colab.research.google.com/github/Jwainlee/python-baby/blob/main/CNN_2.ipynb\" target=\"_parent\"><img src=\"https://colab.research.google.com/assets/colab-badge.svg\" alt=\"Open In Colab\"/></a>"
      ]
    },
    {
      "cell_type": "markdown",
      "source": [
        ">CNN(Convolution Neural Network)"
      ],
      "metadata": {
        "id": "R8W_B_LByqVM"
      }
    },
    {
      "cell_type": "markdown",
      "source": [
        "**Convolution Layer**"
      ],
      "metadata": {
        "id": "HM3pgiy20sSN"
      }
    },
    {
      "cell_type": "markdown",
      "source": [
        "Conv1D, Conv2D, Conv3D, SeparableConv1D, SeparableConv2D, DepthwiseConv2D, Conv2DTranspose, Conv3DTransopse"
      ],
      "metadata": {
        "id": "ZTnAdfIU0fYN"
      }
    },
    {
      "cell_type": "code",
      "source": [
        "import tensorflow as tf\n",
        "from tensorflow import keras"
      ],
      "metadata": {
        "id": "_b4zTYak1GXF"
      },
      "execution_count": 2,
      "outputs": []
    },
    {
      "cell_type": "code",
      "source": [
        "shape = (4, 28, 28, 3)\n",
        "x = tf.random.normal(shape)\n",
        "y = tf.keras.layers.Conv2D(2, 3, activation = 'relu', input_shape = shape[1:])(x)\n",
        "print(y.shape)"
      ],
      "metadata": {
        "colab": {
          "base_uri": "https://localhost:8080/"
        },
        "id": "2U9fyQ0i0oTL",
        "outputId": "df4d6b2f-03e1-45e6-90b4-930c72209d70"
      },
      "execution_count": 4,
      "outputs": [
        {
          "output_type": "stream",
          "name": "stdout",
          "text": [
            "(4, 26, 26, 2)\n"
          ]
        }
      ]
    },
    {
      "cell_type": "code",
      "source": [
        "shape[1:]"
      ],
      "metadata": {
        "colab": {
          "base_uri": "https://localhost:8080/"
        },
        "id": "BgytHP1h2NOq",
        "outputId": "58a090b2-6ec6-4a32-8da6-3df9184937a7"
      },
      "execution_count": 7,
      "outputs": [
        {
          "output_type": "execute_result",
          "data": {
            "text/plain": [
              "(28, 28, 3)"
            ]
          },
          "metadata": {},
          "execution_count": 7
        }
      ]
    },
    {
      "cell_type": "markdown",
      "source": [
        "**Pooling Layer**"
      ],
      "metadata": {
        "id": "yshwu7HS0ziZ"
      }
    },
    {
      "cell_type": "markdown",
      "source": [
        "MaxPooling1D, MaxPooling2D, AveragePooling1D, AveragePooling2D, GlobalMaxPooling1D, GlobalMaxPooling2D, GlobalAveragePooling1D, GlobalAveragePooling2D"
      ],
      "metadata": {
        "id": "KvXIN0BL0lvx"
      }
    },
    {
      "cell_type": "code",
      "source": [
        "x = tf.constant([[1, 2, 3], [4, 5, 6], [7, 8, 9]])\n",
        "print(x.shape)\n",
        "x = tf.reshape(x, [1, 3, 3, 1])\n",
        "print(x)\n",
        "max_pool_2d = tf.keras.layers.MaxPooling2D(pool_size = (2, 2), strides = (1, 1), padding = 'valid')\n",
        "print(max_pool_2d(x))"
      ],
      "metadata": {
        "colab": {
          "base_uri": "https://localhost:8080/"
        },
        "id": "eHvfszac2uWx",
        "outputId": "e5ee0252-fcb1-4e41-f653-6e3f46ff2ff6"
      },
      "execution_count": 21,
      "outputs": [
        {
          "output_type": "stream",
          "name": "stdout",
          "text": [
            "(3, 3)\n",
            "tf.Tensor(\n",
            "[[[[1]\n",
            "   [2]\n",
            "   [3]]\n",
            "\n",
            "  [[4]\n",
            "   [5]\n",
            "   [6]]\n",
            "\n",
            "  [[7]\n",
            "   [8]\n",
            "   [9]]]], shape=(1, 3, 3, 1), dtype=int32)\n",
            "tf.Tensor(\n",
            "[[[[5]\n",
            "   [6]]\n",
            "\n",
            "  [[8]\n",
            "   [9]]]], shape=(1, 2, 2, 1), dtype=int32)\n"
          ]
        }
      ]
    },
    {
      "cell_type": "code",
      "source": [],
      "metadata": {
        "id": "lSypd9xp4uao"
      },
      "execution_count": null,
      "outputs": []
    }
  ]
}
{
  "nbformat": 4,
  "nbformat_minor": 0,
  "metadata": {
    "colab": {
      "provenance": [],
      "toc_visible": true,
      "authorship_tag": "ABX9TyMhi17u8q2eb2XFPQVIqELK",
      "include_colab_link": true
    },
    "kernelspec": {
      "name": "python3",
      "display_name": "Python 3"
    },
    "language_info": {
      "name": "python"
    }
  },
  "cells": [
    {
      "cell_type": "markdown",
      "metadata": {
        "id": "view-in-github",
        "colab_type": "text"
      },
      "source": [
        "<a href=\"https://colab.research.google.com/github/Jwainlee/python-baby/blob/main/%ED%99%95%EB%A5%A0%EB%B6%84%ED%8F%AC.ipynb\" target=\"_parent\"><img src=\"https://colab.research.google.com/assets/colab-badge.svg\" alt=\"Open In Colab\"/></a>"
      ]
    },
    {
      "cell_type": "code",
      "execution_count": 2,
      "metadata": {
        "id": "iyEjtb7n6c5q"
      },
      "outputs": [],
      "source": [
        "import statistics as stat\n",
        "import numpy as np\n",
        "import random\n",
        "random.seed(123)\n",
        "\n",
        "coin = []\n",
        "for i in range(10):\n",
        "  r = random.randint(0, 1)\n",
        "  coin.append(r)"
      ]
    },
    {
      "cell_type": "code",
      "source": [
        "print('확률변수 평균: ', stat.mean(coin))\n",
        "print('확률변수 최빈값: ', stat.mode(coin))\n",
        "print('앞면의 수: ', np.count_nonzero(coin))"
      ],
      "metadata": {
        "colab": {
          "base_uri": "https://localhost:8080/"
        },
        "id": "9_Q2prlX6x-f",
        "outputId": "266ee357-0063-4ba5-d38a-094c1312cd06"
      },
      "execution_count": 8,
      "outputs": [
        {
          "output_type": "stream",
          "name": "stdout",
          "text": [
            "확률변수 평균:  0.6\n",
            "확률변수 최빈값:  1\n",
            "앞면의 수:  6\n"
          ]
        }
      ]
    },
    {
      "cell_type": "code",
      "source": [
        "sample_weight = [random.uniform(65,85) for i in range(100)]\n",
        "print(sample_weight)"
      ],
      "metadata": {
        "colab": {
          "base_uri": "https://localhost:8080/"
        },
        "id": "VjLUsRvL7NsA",
        "outputId": "915513c0-58dd-4b51-8107-a43478422f20"
      },
      "execution_count": 9,
      "outputs": [
        {
          "output_type": "stream",
          "name": "stdout",
          "text": [
            "[82.04173237858737, 68.1932479344394, 71.74433314218551, 71.67592789257911, 69.90326705035223, 65.03341107158445, 73.72551586830437, 66.75226999500846, 76.95198928975981, 66.39753922918365, 71.30917947471727, 73.96643416613887, 83.10797304568997, 66.85529122756991, 67.84350128863002, 80.80143688717604, 65.42471949633979, 83.22301096180641, 76.46816171361854, 70.30643410523126, 81.75675288390269, 80.37589494959967, 71.8692431631193, 81.02993182584066, 69.13724941332222, 77.17805052381107, 75.54149904322833, 81.1867704928761, 71.30526304431976, 72.96476302935798, 80.38558179827848, 75.2550426772813, 78.69674437322013, 77.76706528610998, 78.33315262146363, 82.80197141073805, 74.72272940287128, 78.36940443806294, 72.49043263644967, 65.63682613482203, 80.08346343717744, 68.62929831830081, 81.40380368867662, 83.27291823728459, 78.16148314802159, 68.40253775341816, 71.73832305583413, 72.82386614142605, 66.46581556247374, 74.13534140402908, 76.46337029021063, 71.72212198619668, 68.78123739156153, 66.76314589852151, 77.56635045461586, 65.25658218505227, 72.03827366196403, 69.58259528960568, 75.6399498136353, 79.47326702238483, 83.1830655127356, 77.77601678486202, 84.83586199503831, 84.28118344607763, 77.5998141944849, 69.66746368172319, 74.67622965286293, 68.5517946114781, 84.83915545588434, 73.88999840298149, 80.0330031605506, 65.88259712012888, 67.69455201273267, 68.86353940084707, 70.12724694593085, 72.04095060899353, 70.43859704653504, 73.68537167225307, 73.40714633470108, 67.17241668963203, 66.25217549656634, 72.10122893855758, 66.77577809734724, 73.66400627754322, 65.17122429545739, 75.71602037213128, 66.46967985430105, 78.8841182939847, 73.08414534168494, 84.70696349776655, 70.250800394381, 74.45021480814087, 80.01629882478538, 71.69661081046932, 71.96734041330103, 77.78255874456225, 84.39372154531756, 82.67760276245781, 73.3807563877473, 79.35435814704321]\n"
          ]
        }
      ]
    },
    {
      "cell_type": "code",
      "source": [
        "print(stat.mean(sample_weight))\n",
        "print(stat.median(sample_weight))\n",
        "print(stat.variance(sample_weight))\n",
        "print(stat.stdev(sample_weight))"
      ],
      "metadata": {
        "colab": {
          "base_uri": "https://localhost:8080/"
        },
        "id": "XYqJnx3_71y7",
        "outputId": "83f5416d-a40a-46d4-8a7b-6ebdeb3d81d0"
      },
      "execution_count": 10,
      "outputs": [
        {
          "output_type": "stream",
          "name": "stdout",
          "text": [
            "74.24375098141948\n",
            "73.67468897489815\n",
            "32.552662443191096\n",
            "5.705494057764945\n"
          ]
        }
      ]
    },
    {
      "cell_type": "code",
      "source": [
        "import pandas as pd\n",
        "w = pd.Series(sample_weight)\n",
        "print(w.mean())\n",
        "print(w.median())\n",
        "print(w.var())"
      ],
      "metadata": {
        "colab": {
          "base_uri": "https://localhost:8080/"
        },
        "id": "7_EcYH8f8D3D",
        "outputId": "67ecbc62-bbc4-4bb1-a6b2-7fea8c9bc443"
      },
      "execution_count": 19,
      "outputs": [
        {
          "output_type": "stream",
          "name": "stdout",
          "text": [
            "74.24375098141948\n",
            "73.67468897489815\n",
            "32.552662443191096\n"
          ]
        }
      ]
    },
    {
      "cell_type": "code",
      "source": [
        "sample_height = [random.gauss(175, 5) for i in range(100)]\n",
        "print(sample_height)"
      ],
      "metadata": {
        "colab": {
          "base_uri": "https://localhost:8080/"
        },
        "id": "L8TYh5998KaL",
        "outputId": "2b004aa1-133a-42c9-fed7-7c30228b55a4"
      },
      "execution_count": 20,
      "outputs": [
        {
          "output_type": "stream",
          "name": "stdout",
          "text": [
            "[172.92014337540135, 170.64756614530242, 175.1905730005827, 177.0111203984963, 176.24245573700136, 173.81712379006578, 168.83317646360618, 174.2722250138612, 179.43513725983593, 180.80304357127696, 182.46872477996874, 170.63499128354877, 173.00430644100064, 176.66668687299273, 180.9583510469691, 174.0535867078708, 168.8216418807348, 168.4523124544443, 173.64825547172117, 176.17304128104522, 179.87758897108301, 180.60424184296042, 169.07495088967804, 183.20492969010084, 174.13380822589457, 161.0013943081919, 172.922809700559, 171.28629421056593, 175.30580129759414, 173.8425310272694, 164.96632506089128, 173.63043164302286, 172.29342607685106, 174.748971591964, 168.72121061208637, 174.99516685515258, 167.80565098032827, 182.7582648968816, 172.86467612062984, 178.36095691890824, 171.63187028546196, 174.86657453318313, 172.79585240064463, 179.53108835399263, 176.89458225399224, 174.22585134091472, 176.08847227739724, 178.1529548817445, 185.51830373775786, 174.68697972687895, 177.21606239212358, 181.0552775681533, 178.75691048605933, 177.2250189291818, 171.63442478706182, 180.2199634959868, 183.21710102293616, 171.0937959306718, 166.42066456612807, 173.12845666236242, 166.9435301675975, 175.81475892941236, 175.6493707746154, 171.20246092126385, 178.26380588069898, 169.30101277996695, 169.99975282398933, 175.43718485968046, 175.95371297842198, 180.8201120527183, 179.98312428373856, 180.05288212409292, 182.09530392251887, 169.72605916798415, 170.48041889137252, 171.30118686260718, 174.14664844056585, 172.5926690404247, 184.4098572454422, 178.2174457888053, 170.1950340382327, 180.67328707013553, 170.85931285631844, 177.2506243744574, 175.58260162111807, 170.45393891833476, 175.2162248958175, 165.73575918980418, 180.80239365488, 187.467909641637, 179.7820856635724, 176.97877001223983, 165.5974200442697, 174.97194974734214, 177.90913832108959, 180.69876205970166, 167.35191752111157, 183.29796747850435, 177.82316631746733, 177.72988696320195]\n"
          ]
        }
      ]
    },
    {
      "cell_type": "code",
      "source": [
        "print(stat.variance(sample_height))\n",
        "print(stat.stdev(sample_height))"
      ],
      "metadata": {
        "colab": {
          "base_uri": "https://localhost:8080/"
        },
        "id": "wfmp12sB8uVB",
        "outputId": "76c6a966-f4c8-47e9-9b6f-80665a439df7"
      },
      "execution_count": 24,
      "outputs": [
        {
          "output_type": "stream",
          "name": "stdout",
          "text": [
            "25.458810647735543\n",
            "5.045672467346205\n"
          ]
        }
      ]
    },
    {
      "cell_type": "code",
      "source": [
        "from scipy import stats\n",
        "import matplotlib.pyplot as plt\n",
        "import matplotlib\n",
        "\n",
        "x = np.array([0,1])\n",
        "p = 0.4\n",
        "obj = stats.bernoulli(p)"
      ],
      "metadata": {
        "id": "tzy3w7ij8_8w"
      },
      "execution_count": 29,
      "outputs": []
    },
    {
      "cell_type": "code",
      "source": [
        "x_pmf = obj.pmf(x)\n",
        "print(x_pmf)"
      ],
      "metadata": {
        "colab": {
          "base_uri": "https://localhost:8080/"
        },
        "id": "u6ANGatU9pIY",
        "outputId": "b56402d1-60e4-47ab-e85b-4d6f2822ba84"
      },
      "execution_count": 30,
      "outputs": [
        {
          "output_type": "stream",
          "name": "stdout",
          "text": [
            "[0.6 0.4]\n"
          ]
        }
      ]
    },
    {
      "cell_type": "code",
      "source": [
        "print('성공확률: ', obj.pmf(1))\n",
        "print('실패확률: ', obj.pmf(0))"
      ],
      "metadata": {
        "colab": {
          "base_uri": "https://localhost:8080/"
        },
        "id": "qGOTV7ip-vj0",
        "outputId": "8f6f91dd-a88c-41c4-dbec-6f37c2a893d0"
      },
      "execution_count": 31,
      "outputs": [
        {
          "output_type": "stream",
          "name": "stdout",
          "text": [
            "성공확률:  0.4\n",
            "실패확률:  0.6\n"
          ]
        }
      ]
    },
    {
      "cell_type": "code",
      "source": [
        "plt.bar(x, x_pmf)\n",
        "plt.xlim(-1, 2)\n",
        "plt.ylim(0, 1)\n",
        "plt.xticks([0, 1], ['x = 0', 'x = 1'])\n",
        "plt.xlabel('x')\n",
        "plt.ylabel('P(x)')\n",
        "plt.title('Pmf of Bernoulli')\n",
        "plt.show()"
      ],
      "metadata": {
        "colab": {
          "base_uri": "https://localhost:8080/",
          "height": 472
        },
        "id": "o4E9aMAH-88U",
        "outputId": "40ec78fa-f504-4056-f9f6-1eeef4de0225"
      },
      "execution_count": 33,
      "outputs": [
        {
          "output_type": "display_data",
          "data": {
            "text/plain": [
              "<Figure size 640x480 with 1 Axes>"
            ],
            "image/png": "[encoded data removed]"
          },
          "metadata": {}
        }
      ]
    },
    {
      "cell_type": "code",
      "source": [
        "def ber(p):\n",
        "  def pmf(x):\n",
        "    return p ** x * (1 - p) ** (1 - x)\n",
        "  return pmf"
      ],
      "metadata": {
        "id": "t77085Tp_dns"
      },
      "execution_count": 34,
      "outputs": []
    },
    {
      "cell_type": "code",
      "source": [
        "pmf = ber(0.4)\n",
        "\n",
        "x = np.array([0, 1])\n",
        "pmf = pmf(x)\n",
        "print(pmf)"
      ],
      "metadata": {
        "colab": {
          "base_uri": "https://localhost:8080/"
        },
        "id": "teHL6vxO_2Te",
        "outputId": "894a861d-5598-479f-b342-21e7fc48dba9"
      },
      "execution_count": 42,
      "outputs": [
        {
          "output_type": "stream",
          "name": "stdout",
          "text": [
            "[0.6 0.4]\n"
          ]
        }
      ]
    },
    {
      "cell_type": "code",
      "source": [
        "x_cdf = obj.cdf(x)\n",
        "# x_cdf = stats.bernoulli.cdf(x, p)\n",
        "print(x_cdf)\n",
        "\n",
        "x = [-0.5, 0, 0.5, 1.5]\n",
        "cdf = x_cdf.tolist() * 2\n",
        "cdf = sorted(cdf)\n",
        "print(cdf)"
      ],
      "metadata": {
        "colab": {
          "base_uri": "https://localhost:8080/"
        },
        "id": "5fhyNjCaAdjG",
        "outputId": "c413995b-4096-475d-8df2-ff737d687310"
      },
      "execution_count": 43,
      "outputs": [
        {
          "output_type": "stream",
          "name": "stdout",
          "text": [
            "[0.6 1. ]\n",
            "[0.6, 0.6, 1.0, 1.0]\n"
          ]
        }
      ]
    },
    {
      "cell_type": "code",
      "source": [
        "print(x)\n",
        "print(cdf)"
      ],
      "metadata": {
        "colab": {
          "base_uri": "https://localhost:8080/"
        },
        "id": "n74duRGMCaW-",
        "outputId": "19b8a0fd-faff-4749-ea3f-6a6c49709c2f"
      },
      "execution_count": 44,
      "outputs": [
        {
          "output_type": "stream",
          "name": "stdout",
          "text": [
            "[-0.5, 0, 0.5, 1.5]\n",
            "[0.6, 0.6, 1.0, 1.0]\n"
          ]
        }
      ]
    },
    {
      "cell_type": "code",
      "source": [
        "plt.plot(x, cdf, drawstyle = 'steps-post')\n",
        "plt.xlim(-0.5, 1.5)\n",
        "plt.ylim(0, 1.5)\n",
        "plt.xticks([0, 1], ['x = 0', 'x = 1'])\n",
        "plt.title('cdf')\n",
        "plt.xlabel('x')\n",
        "plt.ylabel('F(x)')\n",
        "plt.show()"
      ],
      "metadata": {
        "colab": {
          "base_uri": "https://localhost:8080/",
          "height": 472
        },
        "id": "bxYgfeP8A0OC",
        "outputId": "3b1e486f-9965-42c1-8d18-c569274c724e"
      },
      "execution_count": 45,
      "outputs": [
        {
          "output_type": "display_data",
          "data": {
            "text/plain": [
              "<Figure size 640x480 with 1 Axes>"
            ],
            "image/png": "[encoded data removed]"
          },
          "metadata": {}
        }
      ]
    },
    {
      "cell_type": "code",
      "source": [
        "ex = p\n",
        "print('기댓값: ', ex)\n",
        "\n",
        "varx = p * (1 - p)\n",
        "print('분산: ', varx)\n",
        "print('\\n')\n",
        "\n",
        "print(stats.describe(x))"
      ],
      "metadata": {
        "colab": {
          "base_uri": "https://localhost:8080/"
        },
        "id": "3C-IZBgoB4lS",
        "outputId": "6581dc4b-2dd8-46ff-af89-07bf55545c1b"
      },
      "execution_count": 46,
      "outputs": [
        {
          "output_type": "stream",
          "name": "stdout",
          "text": [
            "기댓값:  0.4\n",
            "분산:  0.24\n",
            "\n",
            "\n",
            "DescribeResult(nobs=4, minmax=(-0.5, 1.5), mean=0.375, variance=0.7291666666666666, skewness=0.4346507595746657, kurtosis=-1.1542857142857144)\n"
          ]
        }
      ]
    },
    {
      "cell_type": "code",
      "source": [
        "from scipy import stats\n",
        "import numpy as np\n",
        "import matplotlib.pyplot as plt\n",
        "import matplotlib"
      ],
      "metadata": {
        "id": "SY6iCOZEE9vy"
      },
      "execution_count": 49,
      "outputs": []
    },
    {
      "cell_type": "code",
      "source": [
        "n, p = 10, 0.5\n",
        "obj = stats.binom(n, p)\n",
        "print(obj)\n",
        "\n",
        "x = np.arange(n + 1)\n",
        "print(x)\n",
        "\n",
        "x_pmf = obj.pmf(x)\n",
        "print(x_pmf)\n",
        "print('all fail: ', obj.pmf(0))\n",
        "print('5 suc: ', obj.pmf(5))\n",
        "print('all suc: ', obj.pmf(10))"
      ],
      "metadata": {
        "colab": {
          "base_uri": "https://localhost:8080/"
        },
        "id": "brVuvUGFFTnq",
        "outputId": "695adb14-a116-424d-e608-eb063b9f4dcc"
      },
      "execution_count": 58,
      "outputs": [
        {
          "output_type": "stream",
          "name": "stdout",
          "text": [
            "<scipy.stats._distn_infrastructure.rv_discrete_frozen object at 0x7f038cbf53c0>\n",
            "[ 0  1  2  3  4  5  6  7  8  9 10]\n",
            "[0.00097656 0.00976563 0.04394531 0.1171875  0.20507812 0.24609375\n",
            " 0.20507812 0.1171875  0.04394531 0.00976563 0.00097656]\n",
            "all fail:  0.0009765625\n",
            "5 suc:  0.24609375000000003\n",
            "all suc:  0.0009765625\n"
          ]
        }
      ]
    },
    {
      "cell_type": "code",
      "source": [
        "plt.bar(x, x_pmf)\n",
        "plt.xlabel('x')\n",
        "plt.ylabel('p(x)')\n",
        "plt.title('Pmf of binom')\n",
        "plt.show()"
      ],
      "metadata": {
        "colab": {
          "base_uri": "https://localhost:8080/",
          "height": 472
        },
        "id": "y20-O_WVGYpn",
        "outputId": "c1063363-446a-4a8c-a4e8-587cba2ee779"
      },
      "execution_count": 59,
      "outputs": [
        {
          "output_type": "display_data",
          "data": {
            "text/plain": [
              "<Figure size 640x480 with 1 Axes>"
            ],
            "image/png": "[encoded data removed]"
          },
          "metadata": {}
        }
      ]
    },
    {
      "cell_type": "code",
      "source": [],
      "metadata": {
        "id": "vVfMVWw1HE7z"
      },
      "execution_count": null,
      "outputs": []
    }
  ]
}
{
  "nbformat": 4,
  "nbformat_minor": 0,
  "metadata": {
    "colab": {
      "provenance": [],
      "toc_visible": true,
      "authorship_tag": "ABX9TyOxSI5Us5XrSENbZI9BPPzG",
      "include_colab_link": true
    },
    "kernelspec": {
      "name": "python3",
      "display_name": "Python 3"
    },
    "language_info": {
      "name": "python"
    }
  },
  "cells": [
    {
      "cell_type": "markdown",
      "metadata": {
        "id": "view-in-github",
        "colab_type": "text"
      },
      "source": [
        "<a href=\"https://colab.research.google.com/github/Jwainlee/python-baby/blob/main/%ED%99%95%EB%A5%A0%EB%B6%84%ED%8F%AC.ipynb\" target=\"_parent\"><img src=\"https://colab.research.google.com/assets/colab-badge.svg\" alt=\"Open In Colab\"/></a>"
      ]
    },
    {
      "cell_type": "code",
      "execution_count": 5,
      "metadata": {
        "id": "iyEjtb7n6c5q"
      },
      "outputs": [],
      "source": [
        "import statistics as stat\n",
        "import numpy as np\n",
        "import random\n",
        "random.seed(123)\n",
        "\n",
        "coin = []\n",
        "for i in range(10):\n",
        "  r = random.randint(0, 1)\n",
        "  coin.append(r)"
      ]
    },
    {
      "cell_type": "code",
      "source": [
        "print('확률변수 평균: ', stat.mean(coin))\n",
        "print('확률변수 최빈값: ', stat.mode(coin))\n",
        "print('앞면의 수: ', np.count_nonzero(coin))"
      ],
      "metadata": {
        "colab": {
          "base_uri": "https://localhost:8080/"
        },
        "id": "9_Q2prlX6x-f",
        "outputId": "071a8dd9-57a5-4170-b5cf-4e94acb19b13"
      },
      "execution_count": 6,
      "outputs": [
        {
          "output_type": "stream",
          "name": "stdout",
          "text": [
            "확률변수 평균:  0.6\n",
            "확률변수 최빈값:  1\n",
            "앞면의 수:  6\n"
          ]
        }
      ]
    },
    {
      "cell_type": "code",
      "source": [
        "sample_weight = [random.uniform(65,85) for i in range(100)]\n",
        "print(sample_weight)"
      ],
      "metadata": {
        "colab": {
          "base_uri": "https://localhost:8080/"
        },
        "id": "VjLUsRvL7NsA",
        "outputId": "96c5ba46-9d0f-48c2-e795-5cfe3dbfde67"
      },
      "execution_count": 7,
      "outputs": [
        {
          "output_type": "stream",
          "name": "stdout",
          "text": [
            "[82.04173237858737, 68.1932479344394, 71.74433314218551, 71.67592789257911, 69.90326705035223, 65.03341107158445, 73.72551586830437, 66.75226999500846, 76.95198928975981, 66.39753922918365, 71.30917947471727, 73.96643416613887, 83.10797304568997, 66.85529122756991, 67.84350128863002, 80.80143688717604, 65.42471949633979, 83.22301096180641, 76.46816171361854, 70.30643410523126, 81.75675288390269, 80.37589494959967, 71.8692431631193, 81.02993182584066, 69.13724941332222, 77.17805052381107, 75.54149904322833, 81.1867704928761, 71.30526304431976, 72.96476302935798, 80.38558179827848, 75.2550426772813, 78.69674437322013, 77.76706528610998, 78.33315262146363, 82.80197141073805, 74.72272940287128, 78.36940443806294, 72.49043263644967, 65.63682613482203, 80.08346343717744, 68.62929831830081, 81.40380368867662, 83.27291823728459, 78.16148314802159, 68.40253775341816, 71.73832305583413, 72.82386614142605, 66.46581556247374, 74.13534140402908, 76.46337029021063, 71.72212198619668, 68.78123739156153, 66.76314589852151, 77.56635045461586, 65.25658218505227, 72.03827366196403, 69.58259528960568, 75.6399498136353, 79.47326702238483, 83.1830655127356, 77.77601678486202, 84.83586199503831, 84.28118344607763, 77.5998141944849, 69.66746368172319, 74.67622965286293, 68.5517946114781, 84.83915545588434, 73.88999840298149, 80.0330031605506, 65.88259712012888, 67.69455201273267, 68.86353940084707, 70.12724694593085, 72.04095060899353, 70.43859704653504, 73.68537167225307, 73.40714633470108, 67.17241668963203, 66.25217549656634, 72.10122893855758, 66.77577809734724, 73.66400627754322, 65.17122429545739, 75.71602037213128, 66.46967985430105, 78.8841182939847, 73.08414534168494, 84.70696349776655, 70.250800394381, 74.45021480814087, 80.01629882478538, 71.69661081046932, 71.96734041330103, 77.78255874456225, 84.39372154531756, 82.67760276245781, 73.3807563877473, 79.35435814704321]\n"
          ]
        }
      ]
    },
    {
      "cell_type": "code",
      "source": [
        "print(stat.mean(sample_weight))\n",
        "print(stat.median(sample_weight))\n",
        "print(stat.variance(sample_weight))\n",
        "print(stat.stdev(sample_weight))"
      ],
      "metadata": {
        "colab": {
          "base_uri": "https://localhost:8080/"
        },
        "id": "XYqJnx3_71y7",
        "outputId": "4dab7a3a-a339-4301-a826-5f3c410292bc"
      },
      "execution_count": 8,
      "outputs": [
        {
          "output_type": "stream",
          "name": "stdout",
          "text": [
            "74.24375098141948\n",
            "73.67468897489815\n",
            "32.552662443191096\n",
            "5.705494057764945\n"
          ]
        }
      ]
    },
    {
      "cell_type": "code",
      "source": [
        "import pandas as pd\n",
        "w = pd.Series(sample_weight)\n",
        "print(w.mean())\n",
        "print(w.median())\n",
        "print(w.var())"
      ],
      "metadata": {
        "colab": {
          "base_uri": "https://localhost:8080/"
        },
        "id": "7_EcYH8f8D3D",
        "outputId": "a3446b23-6bc9-4202-9f79-61ab014b015d"
      },
      "execution_count": 9,
      "outputs": [
        {
          "output_type": "stream",
          "name": "stdout",
          "text": [
            "74.24375098141948\n",
            "73.67468897489815\n",
            "32.552662443191096\n"
          ]
        }
      ]
    },
    {
      "cell_type": "code",
      "source": [
        "sample_height = [random.gauss(175, 5) for i in range(100)]\n",
        "print(sample_height)"
      ],
      "metadata": {
        "colab": {
          "base_uri": "https://localhost:8080/"
        },
        "id": "L8TYh5998KaL",
        "outputId": "3399f0f3-bbb6-457b-c383-d0f3bc8aa4ee"
      },
      "execution_count": 10,
      "outputs": [
        {
          "output_type": "stream",
          "name": "stdout",
          "text": [
            "[172.92014337540135, 170.64756614530242, 175.1905730005827, 177.0111203984963, 176.24245573700136, 173.81712379006578, 168.83317646360618, 174.2722250138612, 179.43513725983593, 180.80304357127696, 182.46872477996874, 170.63499128354877, 173.00430644100064, 176.66668687299273, 180.9583510469691, 174.0535867078708, 168.8216418807348, 168.4523124544443, 173.64825547172117, 176.17304128104522, 179.87758897108301, 180.60424184296042, 169.07495088967804, 183.20492969010084, 174.13380822589457, 161.0013943081919, 172.922809700559, 171.28629421056593, 175.30580129759414, 173.8425310272694, 164.96632506089128, 173.63043164302286, 172.29342607685106, 174.748971591964, 168.72121061208637, 174.99516685515258, 167.80565098032827, 182.7582648968816, 172.86467612062984, 178.36095691890824, 171.63187028546196, 174.86657453318313, 172.79585240064463, 179.53108835399263, 176.89458225399224, 174.22585134091472, 176.08847227739724, 178.1529548817445, 185.51830373775786, 174.68697972687895, 177.21606239212358, 181.0552775681533, 178.75691048605933, 177.2250189291818, 171.63442478706182, 180.2199634959868, 183.21710102293616, 171.0937959306718, 166.42066456612807, 173.12845666236242, 166.9435301675975, 175.81475892941236, 175.6493707746154, 171.20246092126385, 178.26380588069898, 169.30101277996695, 169.99975282398933, 175.43718485968046, 175.95371297842198, 180.8201120527183, 179.98312428373856, 180.05288212409292, 182.09530392251887, 169.72605916798415, 170.48041889137252, 171.30118686260718, 174.14664844056585, 172.5926690404247, 184.4098572454422, 178.2174457888053, 170.1950340382327, 180.67328707013553, 170.85931285631844, 177.2506243744574, 175.58260162111807, 170.45393891833476, 175.2162248958175, 165.73575918980418, 180.80239365488, 187.467909641637, 179.7820856635724, 176.97877001223983, 165.5974200442697, 174.97194974734214, 177.90913832108959, 180.69876205970166, 167.35191752111157, 183.29796747850435, 177.82316631746733, 177.72988696320195]\n"
          ]
        }
      ]
    },
    {
      "cell_type": "code",
      "source": [
        "print(stat.variance(sample_height))\n",
        "print(stat.stdev(sample_height))"
      ],
      "metadata": {
        "colab": {
          "base_uri": "https://localhost:8080/"
        },
        "id": "wfmp12sB8uVB",
        "outputId": "4fb0ea32-a845-45fb-e023-1024ffeaa252"
      },
      "execution_count": 11,
      "outputs": [
        {
          "output_type": "stream",
          "name": "stdout",
          "text": [
            "25.458810647735543\n",
            "5.045672467346205\n"
          ]
        }
      ]
    },
    {
      "cell_type": "code",
      "source": [
        "from scipy import stats\n",
        "import matplotlib.pyplot as plt\n",
        "import matplotlib\n",
        "\n",
        "x = np.array([0,1])\n",
        "p = 0.4\n",
        "obj = stats.bernoulli(p)"
      ],
      "metadata": {
        "id": "tzy3w7ij8_8w"
      },
      "execution_count": 12,
      "outputs": []
    },
    {
      "cell_type": "code",
      "source": [
        "x_pmf = obj.pmf(x)\n",
        "print(x_pmf)"
      ],
      "metadata": {
        "colab": {
          "base_uri": "https://localhost:8080/"
        },
        "id": "u6ANGatU9pIY",
        "outputId": "cf2a7f65-1964-4600-963d-2ee2dbd9ab60"
      },
      "execution_count": 13,
      "outputs": [
        {
          "output_type": "stream",
          "name": "stdout",
          "text": [
            "[0.6 0.4]\n"
          ]
        }
      ]
    },
    {
      "cell_type": "code",
      "source": [
        "print('성공확률: ', obj.pmf(1))\n",
        "print('실패확률: ', obj.pmf(0))"
      ],
      "metadata": {
        "colab": {
          "base_uri": "https://localhost:8080/"
        },
        "id": "qGOTV7ip-vj0",
        "outputId": "346d0a4f-3831-4663-8641-e1c201f5d6f0"
      },
      "execution_count": 14,
      "outputs": [
        {
          "output_type": "stream",
          "name": "stdout",
          "text": [
            "성공확률:  0.4\n",
            "실패확률:  0.6\n"
          ]
        }
      ]
    },
    {
      "cell_type": "code",
      "source": [
        "plt.bar(x, x_pmf)\n",
        "plt.xlim(-1, 2)\n",
        "plt.ylim(0, 1)\n",
        "plt.xticks([0, 1], ['x = 0', 'x = 1'])\n",
        "plt.xlabel('x')\n",
        "plt.ylabel('P(x)')\n",
        "plt.title('Pmf of Bernoulli')\n",
        "plt.show()"
      ],
      "metadata": {
        "colab": {
          "base_uri": "https://localhost:8080/",
          "height": 472
        },
        "id": "o4E9aMAH-88U",
        "outputId": "05b91142-4902-495a-f14a-a5c6352abf3a"
      },
      "execution_count": 15,
      "outputs": [
        {
          "output_type": "display_data",
          "data": {
            "text/plain": [
              "<Figure size 640x480 with 1 Axes>"
            ],
            "image/png": "[encoded data removed]"
          },
          "metadata": {}
        }
      ]
    },
    {
      "cell_type": "code",
      "source": [
        "def ber(p):\n",
        "  def pmf(x):\n",
        "    return p ** x * (1 - p) ** (1 - x)\n",
        "  return pmf"
      ],
      "metadata": {
        "id": "t77085Tp_dns"
      },
      "execution_count": 16,
      "outputs": []
    },
    {
      "cell_type": "code",
      "source": [
        "pmf = ber(0.4)\n",
        "\n",
        "x = np.array([0, 1])\n",
        "pmf = pmf(x)\n",
        "print(pmf)"
      ],
      "metadata": {
        "colab": {
          "base_uri": "https://localhost:8080/"
        },
        "id": "teHL6vxO_2Te",
        "outputId": "6c421367-644f-4b31-afb0-4a16b51ee464"
      },
      "execution_count": 17,
      "outputs": [
        {
          "output_type": "stream",
          "name": "stdout",
          "text": [
            "[0.6 0.4]\n"
          ]
        }
      ]
    },
    {
      "cell_type": "code",
      "source": [
        "x_cdf = obj.cdf(x)\n",
        "# x_cdf = stats.bernoulli.cdf(x, p)\n",
        "print(x_cdf)\n",
        "\n",
        "x = [-0.5, 0, 0.5, 1.5]\n",
        "cdf = x_cdf.tolist() * 2\n",
        "cdf = sorted(cdf)\n",
        "print(cdf)"
      ],
      "metadata": {
        "colab": {
          "base_uri": "https://localhost:8080/"
        },
        "id": "5fhyNjCaAdjG",
        "outputId": "7b12d419-4820-46b1-ed49-71061063884d"
      },
      "execution_count": 18,
      "outputs": [
        {
          "output_type": "stream",
          "name": "stdout",
          "text": [
            "[0.6 1. ]\n",
            "[0.6, 0.6, 1.0, 1.0]\n"
          ]
        }
      ]
    },
    {
      "cell_type": "code",
      "source": [
        "print(x)\n",
        "print(cdf)"
      ],
      "metadata": {
        "colab": {
          "base_uri": "https://localhost:8080/"
        },
        "id": "n74duRGMCaW-",
        "outputId": "5d548ad1-d883-4318-cecc-089b40e0cd52"
      },
      "execution_count": 19,
      "outputs": [
        {
          "output_type": "stream",
          "name": "stdout",
          "text": [
            "[-0.5, 0, 0.5, 1.5]\n",
            "[0.6, 0.6, 1.0, 1.0]\n"
          ]
        }
      ]
    },
    {
      "cell_type": "code",
      "source": [
        "plt.plot(x, cdf, drawstyle = 'steps-post')\n",
        "plt.xlim(-0.5, 1.5)\n",
        "plt.ylim(0, 1.5)\n",
        "plt.xticks([0, 1], ['x = 0', 'x = 1'])\n",
        "plt.title('cdf')\n",
        "plt.xlabel('x')\n",
        "plt.ylabel('F(x)')\n",
        "plt.show()"
      ],
      "metadata": {
        "colab": {
          "base_uri": "https://localhost:8080/",
          "height": 472
        },
        "id": "bxYgfeP8A0OC",
        "outputId": "b91eaf46-c29d-4a04-c233-81e30dc5f2d6"
      },
      "execution_count": 20,
      "outputs": [
        {
          "output_type": "display_data",
          "data": {
            "text/plain": [
              "<Figure size 640x480 with 1 Axes>"
            ],
            "image/png": "[encoded data removed]"
          },
          "metadata": {}
        }
      ]
    },
    {
      "cell_type": "code",
      "source": [
        "ex = p\n",
        "print('기댓값: ', ex)\n",
        "\n",
        "varx = p * (1 - p)\n",
        "print('분산: ', varx)\n",
        "print('\\n')\n",
        "\n",
        "print(stats.describe(x))"
      ],
      "metadata": {
        "colab": {
          "base_uri": "https://localhost:8080/"
        },
        "id": "3C-IZBgoB4lS",
        "outputId": "d55880ce-c629-472a-c2f3-a75f314009d0"
      },
      "execution_count": 21,
      "outputs": [
        {
          "output_type": "stream",
          "name": "stdout",
          "text": [
            "기댓값:  0.4\n",
            "분산:  0.24\n",
            "\n",
            "\n",
            "DescribeResult(nobs=4, minmax=(-0.5, 1.5), mean=0.375, variance=0.7291666666666666, skewness=0.4346507595746657, kurtosis=-1.1542857142857144)\n"
          ]
        }
      ]
    },
    {
      "cell_type": "markdown",
      "source": [
        "# 이항분포"
      ],
      "metadata": {
        "id": "EjzCBkLSDF0u"
      }
    },
    {
      "cell_type": "code",
      "source": [
        "from scipy import stats\n",
        "import numpy as np\n",
        "import matplotlib.pyplot as plt\n",
        "import matplotlib"
      ],
      "metadata": {
        "id": "SY6iCOZEE9vy"
      },
      "execution_count": 22,
      "outputs": []
    },
    {
      "cell_type": "code",
      "source": [
        "n, p = 10, 0.5\n",
        "obj = stats.binom(n, p)\n",
        "print(obj)\n",
        "\n",
        "x = np.arange(n + 1)\n",
        "print(x)\n",
        "\n",
        "x_pmf = obj.pmf(x)\n",
        "print(x_pmf)\n",
        "print('all fail: ', obj.pmf(0))\n",
        "print('5 suc: ', obj.pmf(5))\n",
        "print('all suc: ', obj.pmf(10))"
      ],
      "metadata": {
        "colab": {
          "base_uri": "https://localhost:8080/"
        },
        "id": "brVuvUGFFTnq",
        "outputId": "2e90c062-9553-42b5-85a2-37aa90a9e953"
      },
      "execution_count": 23,
      "outputs": [
        {
          "output_type": "stream",
          "name": "stdout",
          "text": [
            "<scipy.stats._distn_infrastructure.rv_discrete_frozen object at 0x7f34e73f79d0>\n",
            "[ 0  1  2  3  4  5  6  7  8  9 10]\n",
            "[0.00097656 0.00976563 0.04394531 0.1171875  0.20507812 0.24609375\n",
            " 0.20507812 0.1171875  0.04394531 0.00976563 0.00097656]\n",
            "all fail:  0.0009765625\n",
            "5 suc:  0.24609375000000003\n",
            "all suc:  0.0009765625\n"
          ]
        }
      ]
    },
    {
      "cell_type": "code",
      "source": [
        "plt.bar(x, x_pmf)\n",
        "plt.xlabel('x')\n",
        "plt.ylabel('p(x)')\n",
        "plt.title('Pmf of binom')\n",
        "plt.show()"
      ],
      "metadata": {
        "colab": {
          "base_uri": "https://localhost:8080/",
          "height": 472
        },
        "id": "y20-O_WVGYpn",
        "outputId": "adc04cf5-d6a0-48df-cc12-55086069c4b9"
      },
      "execution_count": 24,
      "outputs": [
        {
          "output_type": "display_data",
          "data": {
            "text/plain": [
              "<Figure size 640x480 with 1 Axes>"
            ],
            "image/png": "[encoded data removed]"
          },
          "metadata": {}
        }
      ]
    },
    {
      "cell_type": "code",
      "source": [
        "from scipy.special import comb\n",
        "import numpy as np\n",
        "\n",
        "def bin(n, p):\n",
        "  fx = []\n",
        "  for x in range(n + 1):\n",
        "    nCx = comb(n, x)\n",
        "    fx.append(nCx * p ** x * (1 - p) ** (n - x))\n",
        "  return fx"
      ],
      "metadata": {
        "id": "vVfMVWw1HE7z"
      },
      "execution_count": 25,
      "outputs": []
    },
    {
      "cell_type": "code",
      "source": [
        "fx = np.array(bin(n, p))\n",
        "plt.text(8, 0.20, 'n, p = 10, 0.5')\n",
        "plt.xlabel('x')\n",
        "plt.ylabel('P(x)')\n",
        "plt.title('Binomial pdf')\n",
        "\n",
        "x = np.arange(n + 1)\n",
        "plt.bar(x, fx, color = 'darkblue')\n",
        "print('n = 10, p = 0.5')\n",
        "plt.show()"
      ],
      "metadata": {
        "colab": {
          "base_uri": "https://localhost:8080/",
          "height": 490
        },
        "id": "fdHfVyZJ6KS9",
        "outputId": "eb22c1f2-0283-404f-8813-c9c59e91db8d"
      },
      "execution_count": 28,
      "outputs": [
        {
          "output_type": "stream",
          "name": "stdout",
          "text": [
            "n = 10, p = 0.5\n"
          ]
        },
        {
          "output_type": "display_data",
          "data": {
            "text/plain": [
              "<Figure size 640x480 with 1 Axes>"
            ],
            "image/png": "[encoded data removed]"
          },
          "metadata": {}
        }
      ]
    },
    {
      "cell_type": "code",
      "source": [
        "print(np.array([0,1]))\n",
        "print(np.arange(10))"
      ],
      "metadata": {
        "colab": {
          "base_uri": "https://localhost:8080/"
        },
        "id": "PK2ul4df6u0D",
        "outputId": "465f5cdf-87ca-4cf3-ec7b-29dae89cace9"
      },
      "execution_count": 35,
      "outputs": [
        {
          "output_type": "stream",
          "name": "stdout",
          "text": [
            "[0 1]\n",
            "[0 1 2 3 4 5 6 7 8 9]\n"
          ]
        }
      ]
    },
    {
      "cell_type": "code",
      "source": [
        "fx"
      ],
      "metadata": {
        "colab": {
          "base_uri": "https://localhost:8080/"
        },
        "id": "0tQtCeiJ7mj-",
        "outputId": "be2f08fa-f84e-4b8d-9a66-0a5ba2a55c6f"
      },
      "execution_count": 36,
      "outputs": [
        {
          "output_type": "execute_result",
          "data": {
            "text/plain": [
              "array([0.00097656, 0.00976562, 0.04394531, 0.1171875 , 0.20507812,\n",
              "       0.24609375, 0.20507812, 0.1171875 , 0.04394531, 0.00976562,\n",
              "       0.00097656])"
            ]
          },
          "metadata": {},
          "execution_count": 36
        }
      ]
    },
    {
      "cell_type": "code",
      "source": [
        "f = bin(n, p)\n",
        "plt.text(8, 0.20, 'n, p = 10, 0.5')\n",
        "plt.xlabel('x')\n",
        "plt.ylabel('P(x)')\n",
        "plt.title('Binomial pdf')\n",
        "\n",
        "x = np.arange(n + 1)\n",
        "plt.bar(x, f, color = 'darkblue')\n",
        "print('n = 10, p = 0.5')\n",
        "plt.show()"
      ],
      "metadata": {
        "colab": {
          "base_uri": "https://localhost:8080/",
          "height": 490
        },
        "id": "amHG2-VN8E1e",
        "outputId": "a71a73fa-d40d-4b26-af57-a8364966bc74"
      },
      "execution_count": 39,
      "outputs": [
        {
          "output_type": "stream",
          "name": "stdout",
          "text": [
            "n = 10, p = 0.5\n"
          ]
        },
        {
          "output_type": "display_data",
          "data": {
            "text/plain": [
              "<Figure size 640x480 with 1 Axes>"
            ],
            "image/png": "[encoded data removed]"
          },
          "metadata": {}
        }
      ]
    },
    {
      "cell_type": "code",
      "source": [
        "fig = plt.figure()\n",
        "chart = fig.add_subplot()\n",
        "\n",
        "n = 100\n",
        "x = np.arange(n + 1)\n",
        "p = [0.3, 0.5, 0.7]\n",
        "c = ['blue', 'red', 'green']\n",
        "\n",
        "for p, c in zip(p, c):\n",
        "  fx = np.array(bin(n, p))\n",
        "  chart.bar(x, fx, color = c)\n",
        "plt.title('PDF')\n",
        "plt.show()"
      ],
      "metadata": {
        "colab": {
          "base_uri": "https://localhost:8080/",
          "height": 452
        },
        "id": "p0eLLI1P8aiU",
        "outputId": "76737a94-9503-4201-d043-7653240c15aa"
      },
      "execution_count": 45,
      "outputs": [
        {
          "output_type": "display_data",
          "data": {
            "text/plain": [
              "<Figure size 640x480 with 1 Axes>"
            ],
            "image/png": "[encoded data removed]"
          },
          "metadata": {}
        }
      ]
    },
    {
      "cell_type": "code",
      "source": [
        "n, p =10, 0.5\n",
        "obj = stats.binom(n, p)\n",
        "x = np.arange(n + 1)\n",
        "\n",
        "x_cdf = obj.cdf(x)\n",
        "\n",
        "plt.plot(x, x_cdf)\n",
        "plt.text(7.6, 0.1, 'n = 10, p = 0.5')\n",
        "plt.xlabel('x')\n",
        "plt.ylabel('CDF')\n",
        "plt.title('CDF of Binomial')\n",
        "plt.show()"
      ],
      "metadata": {
        "colab": {
          "base_uri": "https://localhost:8080/",
          "height": 472
        },
        "id": "Otg11o5i9jTZ",
        "outputId": "7a9403a3-5c4e-4830-87b4-71ca11986f4f"
      },
      "execution_count": 47,
      "outputs": [
        {
          "output_type": "display_data",
          "data": {
            "text/plain": [
              "<Figure size 640x480 with 1 Axes>"
            ],
            "image/png": "[encoded data removed]"
          },
          "metadata": {}
        }
      ]
    },
    {
      "cell_type": "code",
      "source": [
        "Ex = n * p\n",
        "var = n * p * (1 - p)\n",
        "\n",
        "print('기댓값: ', Ex)\n",
        "print('분산: ', var)"
      ],
      "metadata": {
        "colab": {
          "base_uri": "https://localhost:8080/"
        },
        "id": "aZzOXS9G-e8G",
        "outputId": "c127dda9-f6f0-4028-f54b-9c9faf5eb126"
      },
      "execution_count": 49,
      "outputs": [
        {
          "output_type": "stream",
          "name": "stdout",
          "text": [
            "기댓값:  5.0\n",
            "분산:  2.5\n"
          ]
        }
      ]
    },
    {
      "cell_type": "code",
      "source": [
        "stats.describe(x)"
      ],
      "metadata": {
        "colab": {
          "base_uri": "https://localhost:8080/"
        },
        "id": "smpYIuII-ncl",
        "outputId": "892429bf-2550-42d2-fd7f-d21624c54282"
      },
      "execution_count": 50,
      "outputs": [
        {
          "output_type": "execute_result",
          "data": {
            "text/plain": [
              "DescribeResult(nobs=11, minmax=(0, 10), mean=5.0, variance=11.0, skewness=0.0, kurtosis=-1.22)"
            ]
          },
          "metadata": {},
          "execution_count": 50
        }
      ]
    },
    {
      "cell_type": "markdown",
      "source": [
        "**이항분포 표본추출**"
      ],
      "metadata": {
        "id": "6Y-O3eL2_IeR"
      }
    },
    {
      "cell_type": "code",
      "source": [
        "from scipy import stats\n",
        "# 1번씩 10번\n",
        "sample1 = stats.binom.rvs(n = 1, p = 0.5, size = 10)\n",
        "print(sample1)\n",
        "\n",
        "# 5번씩 10번\n",
        "sample2 = stats.binom.rvs(n = 5, p = 0.5, size = 10)\n",
        "print(sample2)"
      ],
      "metadata": {
        "colab": {
          "base_uri": "https://localhost:8080/"
        },
        "id": "52tkH0hn-90C",
        "outputId": "ebb8bf34-e574-4b21-b200-a6da457ed8f5"
      },
      "execution_count": 56,
      "outputs": [
        {
          "output_type": "stream",
          "name": "stdout",
          "text": [
            "[1 0 0 0 0 0 1 1 1 0]\n",
            "[2 1 2 3 4 3 3 2 3 2]\n"
          ]
        }
      ]
    },
    {
      "cell_type": "code",
      "source": [
        "sample3 = stats.binom.rvs(n = 6, p = 1/6, size = 10)\n",
        "print(sample3)"
      ],
      "metadata": {
        "colab": {
          "base_uri": "https://localhost:8080/"
        },
        "id": "w4W0gWvU_yT1",
        "outputId": "e92287fc-62db-407e-c558-77e92adb1ecd"
      },
      "execution_count": 57,
      "outputs": [
        {
          "output_type": "stream",
          "name": "stdout",
          "text": [
            "[1 2 1 3 2 1 0 2 2 1]\n"
          ]
        }
      ]
    },
    {
      "cell_type": "markdown",
      "source": [
        "이항검정"
      ],
      "metadata": {
        "id": "MoXBQuxoBXUB"
      }
    },
    {
      "cell_type": "code",
      "source": [
        "p = 0.4\n",
        "size = 100\n",
        "x_bern = stats.bernoulli.rvs(p = p, size = size, random_state = None)\n",
        "\n",
        "x_binom = stats.binom.rvs(n = 1, p = p, size = size)\n",
        "\n",
        "print(np.count_nonzero(x_bern))\n",
        "print(np.count_nonzero(x_binom))"
      ],
      "metadata": {
        "colab": {
          "base_uri": "https://localhost:8080/"
        },
        "id": "TBlremkNAeXx",
        "outputId": "53172702-f61a-408c-edec-5bf5e251a32a"
      },
      "execution_count": 59,
      "outputs": [
        {
          "output_type": "stream",
          "name": "stdout",
          "text": [
            "50\n",
            "48\n"
          ]
        }
      ]
    },
    {
      "cell_type": "code",
      "source": [
        "x = np.count_nonzero(x_bern)\n",
        "pvalue = stats.binom_test(x = x, n = size, p = p, alternative = 'two-sided')\n",
        "print('x = %d, pvalue = %.5f' %(x, pvalue))"
      ],
      "metadata": {
        "colab": {
          "base_uri": "https://localhost:8080/"
        },
        "id": "TicY8yPyBKoU",
        "outputId": "ec0be3ce-3f08-42e1-d3b4-3465c77ee6e4"
      },
      "execution_count": 61,
      "outputs": [
        {
          "output_type": "stream",
          "name": "stdout",
          "text": [
            "x = 50, pvalue = 0.05188\n"
          ]
        },
        {
          "output_type": "stream",
          "name": "stderr",
          "text": [
            "<ipython-input-61-b5f7b9f85a33>:2: DeprecationWarning: 'binom_test' is deprecated in favour of 'binomtest' from version 1.7.0 and will be removed in Scipy 1.12.0.\n",
            "  pvalue = stats.binom_test(x = x, n = size, p = p, alternative = 'two-sided')\n"
          ]
        }
      ]
    },
    {
      "cell_type": "code",
      "source": [
        "alpha = 0.05\n",
        "\n",
        "if pvalue > alpha:\n",
        "  print(f'p-value({pvalue}): 기존 성공률 40%와 차이가 없다.')\n",
        "else:\n",
        "  print(f'p-value({pvalue}): 기존 성공률 40%와 차이가 있다.')"
      ],
      "metadata": {
        "colab": {
          "base_uri": "https://localhost:8080/"
        },
        "id": "JzNf0UDQB2C7",
        "outputId": "a765bc6d-cd38-4722-c985-6da1930145a5"
      },
      "execution_count": 63,
      "outputs": [
        {
          "output_type": "stream",
          "name": "stdout",
          "text": [
            "p-value(0.05188202087350216): 기존 성공률 40%와 차이가 없다.\n"
          ]
        }
      ]
    },
    {
      "cell_type": "markdown",
      "source": [
        "# 정규분포와 표준정규분포"
      ],
      "metadata": {
        "id": "57QIPzNCC3xy"
      }
    },
    {
      "cell_type": "code",
      "source": [
        "import numpy as np\n",
        "import matplotlib.pyplot as plt\n",
        "\n",
        "height = np.random.normal(173, 5, 2000)\n",
        "print(height.shape)\n",
        "\n",
        "height2 = np.random.normal(173, 5, (500, 4))\n",
        "print(height2)"
      ],
      "metadata": {
        "colab": {
          "base_uri": "https://localhost:8080/"
        },
        "id": "v4tO4apXCWtg",
        "outputId": "2bdef4dc-350e-42f7-f0d2-7f3f93687de0"
      },
      "execution_count": 66,
      "outputs": [
        {
          "output_type": "stream",
          "name": "stdout",
          "text": [
            "(2000,)\n",
            "[[178.8315914  184.25278748 175.65144682 183.43014144]\n",
            " [173.56361844 177.31367522 163.36024062 181.01107598]\n",
            " [180.49769193 164.59671481 177.16056365 172.46319281]\n",
            " ...\n",
            " [165.09639526 176.65998263 167.42799473 168.69803064]\n",
            " [169.82742473 178.6224135  173.06350596 161.49921384]\n",
            " [174.39008661 173.33105133 166.90408686 176.95654234]]\n"
          ]
        }
      ]
    },
    {
      "cell_type": "code",
      "source": [
        "print(height.mean())\n",
        "print(height2.mean())"
      ],
      "metadata": {
        "colab": {
          "base_uri": "https://localhost:8080/"
        },
        "id": "sG5HeLk5C8TD",
        "outputId": "4c55cd60-193c-456b-e53d-60f8e41cf6bc"
      },
      "execution_count": 70,
      "outputs": [
        {
          "output_type": "stream",
          "name": "stdout",
          "text": [
            "172.88803530838155\n",
            "172.81958790637552\n"
          ]
        }
      ]
    },
    {
      "cell_type": "code",
      "source": [
        "plt.hist(height, bins = 100, density = True, histtype = 'step')\n",
        "plt.show()"
      ],
      "metadata": {
        "colab": {
          "base_uri": "https://localhost:8080/",
          "height": 430
        },
        "id": "9zQA9JQcEMiB",
        "outputId": "09458a27-7804-4c58-9451-8cb3a8b0f1f8"
      },
      "execution_count": 78,
      "outputs": [
        {
          "output_type": "display_data",
          "data": {
            "text/plain": [
              "<Figure size 640x480 with 1 Axes>"
            ],
            "image/png": "[encoded data removed]"
          },
          "metadata": {}
        }
      ]
    },
    {
      "cell_type": "code",
      "source": [
        "standNormal = np.random.randn(500, 3)\n",
        "print(standNormal.mean())\n",
        "\n",
        "standNormal2 = np.random.normal(0, 1, (500, 3))\n",
        "print(standNormal2.mean())"
      ],
      "metadata": {
        "colab": {
          "base_uri": "https://localhost:8080/"
        },
        "id": "TY3Bm1VYEY-z",
        "outputId": "30e26d24-b7f7-4177-bff8-cf172f9cdd84"
      },
      "execution_count": 79,
      "outputs": [
        {
          "output_type": "stream",
          "name": "stdout",
          "text": [
            "0.014264667566987573\n",
            "-0.022284458037890947\n"
          ]
        }
      ]
    },
    {
      "cell_type": "code",
      "source": [
        "standNormal[:,0].shape"
      ],
      "metadata": {
        "colab": {
          "base_uri": "https://localhost:8080/"
        },
        "id": "ULVx6cOnFxJX",
        "outputId": "1d15f393-de1c-414d-ec43-b59da6e19ce7"
      },
      "execution_count": 81,
      "outputs": [
        {
          "output_type": "execute_result",
          "data": {
            "text/plain": [
              "(500,)"
            ]
          },
          "metadata": {},
          "execution_count": 81
        }
      ]
    },
    {
      "cell_type": "code",
      "source": [
        "plt.hist(standNormal[:,0], bins = 100, density = True, histtype = 'step', label = 'col1')\n",
        "plt.hist(standNormal[:,1], bins = 100, density = True, histtype = 'step', label = 'col2')\n",
        "plt.hist(standNormal[:,2], bins = 100, density = True, histtype = 'step', label = 'col3')\n",
        "plt.legend(loc = 'best')\n",
        "plt.show()"
      ],
      "metadata": {
        "colab": {
          "base_uri": "https://localhost:8080/",
          "height": 430
        },
        "id": "0Cp4-IaCFzu4",
        "outputId": "5807821c-e843-4d3a-ac46-24836cb59357"
      },
      "execution_count": 83,
      "outputs": [
        {
          "output_type": "display_data",
          "data": {
            "text/plain": [
              "<Figure size 640x480 with 1 Axes>"
            ],
            "image/png": "[encoded data removed]"
          },
          "metadata": {}
        }
      ]
    },
    {
      "cell_type": "markdown",
      "source": [
        "**확률분포 함수**"
      ],
      "metadata": {
        "id": "5ZXbV-V2Hm1C"
      }
    },
    {
      "cell_type": "code",
      "source": [
        "from scipy import stats\n",
        "import numpy as np\n",
        "import matplotlib.pyplot as plt\n",
        "\n",
        "norm_obj = stats.norm(loc = 0, scale = 1)\n",
        "print(norm_obj)\n",
        "\n",
        "n = 1000\n",
        "x = norm_obj.rvs(n)\n",
        "print(x)"
      ],
      "metadata": {
        "colab": {
          "base_uri": "https://localhost:8080/"
        },
        "id": "g3iKQG-FHq9F",
        "outputId": "e10f68bf-b882-4910-8163-57de860cedc9"
      },
      "execution_count": 86,
      "outputs": [
        {
          "output_type": "stream",
          "name": "stdout",
          "text": [
            "<scipy.stats._distn_infrastructure.rv_continuous_frozen object at 0x7f34e3f5ae90>\n",
            "[ 1.22182747e-01  3.87363808e-01  1.99850713e-01 -7.28385248e-01\n",
            " -2.08990290e+00  1.38524139e-01  1.64790906e+00  3.56704420e-01\n",
            " -4.38068817e-01 -8.03814813e-01 -6.25260136e-01  5.13325083e-01\n",
            "  7.15101901e-01 -6.85016059e-01  2.66362534e-01  1.39601658e-01\n",
            "  4.87014323e-01 -5.44082258e-01 -4.06074692e-01 -1.77045705e+00\n",
            "  5.93768868e-02 -1.19786430e+00 -5.94577616e-01  7.15747715e-02\n",
            " -1.99519556e-01 -4.84576575e-01  1.10706399e+00 -5.31302478e-01\n",
            "  4.75292419e-01 -3.95871901e-01  7.67683307e-01  1.31816804e-01\n",
            " -7.01185739e-01 -5.36738028e-02 -2.28036544e+00 -8.26948197e-02\n",
            "  4.47166207e-01  7.47263559e-01  1.13411300e+00 -6.52196885e-01\n",
            " -8.19672848e-01 -7.41339600e-01  3.53170900e-01  3.46892934e-01\n",
            " -6.89739866e-01 -2.96397102e-01 -4.37916201e-01 -1.23275108e-01\n",
            "  1.07899534e+00  1.00671990e+00 -9.53808585e-01 -4.02242560e-01\n",
            " -1.97007488e+00  1.51255763e-01 -6.61144443e-01  6.20486203e-01\n",
            " -4.82885651e-01  1.95690014e+00 -1.26641533e+00 -1.16474203e+00\n",
            " -8.34764158e-01 -1.21891766e+00  8.16995449e-01 -7.05378991e-01\n",
            "  1.00442978e+00  3.39248502e-01 -3.44725915e-01 -4.04685049e-01\n",
            " -7.65441690e-01 -1.02043454e-01 -8.26341057e-01 -4.18300675e-01\n",
            " -9.47661105e-01  2.60755977e-01  1.57618245e+00  6.77870414e-01\n",
            "  1.50673558e+00  8.10591512e-01 -6.26911094e-01  7.86656853e-02\n",
            " -2.11497574e+00 -2.22844235e-01 -9.86898030e-01  1.01242428e+00\n",
            "  1.85987623e+00 -6.36523443e-01 -2.07284636e+00  7.83553431e-01\n",
            " -5.37892318e-01  1.64006200e+00  6.15311835e-01  2.21416013e-01\n",
            " -5.62542944e-01  8.24669098e-01 -6.78774319e-01 -2.17563042e-01\n",
            " -9.89315106e-02 -1.01311626e+00 -1.28782096e+00 -1.86888022e+00\n",
            "  1.97147456e+00 -5.23580440e-01 -3.29843462e-01 -9.62047837e-01\n",
            "  4.11453968e-01  1.34403945e+00  9.48474932e-01  1.06352945e+00\n",
            " -2.61487130e-01  8.44015536e-01  2.87887044e-01 -4.68317803e-01\n",
            " -1.28826474e+00 -7.22184974e-01 -9.06762752e-01 -4.75620237e-01\n",
            " -3.98693948e-01 -5.01265627e-01  8.12830716e-01  1.61703551e+00\n",
            " -2.84261009e+00 -4.97254273e-01 -4.75280246e-01 -3.13911294e-02\n",
            " -1.08959213e+00  1.94913076e+00 -1.95081167e+00  3.40587422e-01\n",
            "  5.69202718e-01  9.49791377e-01 -4.48002807e-01 -1.15803718e-01\n",
            " -3.13120052e-01 -3.66379310e-01 -1.18161391e+00 -8.95300331e-01\n",
            " -9.09857179e-01 -2.55304707e+00 -7.75260139e-01  4.33801973e-01\n",
            " -1.37142783e+00 -5.14406399e-01  1.98883662e-01 -1.23810476e+00\n",
            " -3.82128673e-01 -2.58531815e-01 -7.24906622e-01  9.59194669e-01\n",
            "  1.72791105e-01 -2.05577326e-01  8.28497336e-01 -7.83738350e-01\n",
            " -1.75700102e+00 -5.40689958e-01  1.45980028e-01  1.07272396e+00\n",
            "  1.25822692e+00  4.39464271e-01  2.18564119e+00  1.68476367e+00\n",
            " -1.62975617e-01  1.01380178e+00 -1.63155745e-01  1.41814968e+00\n",
            " -2.54761906e-01 -6.66264555e-01 -1.83786647e+00 -1.37518549e+00\n",
            " -1.39298451e+00 -1.36794938e-01  1.27423632e+00 -7.26468276e-01\n",
            "  2.89470477e-01  9.16041900e-01  3.42474999e-01  8.39640552e-02\n",
            " -6.02259698e-01  1.70513508e+00  1.77253799e+00  7.45319997e-01\n",
            "  1.55024451e+00  1.23395932e+00 -1.52863565e-02 -5.11096796e-01\n",
            "  1.82708552e+00 -8.35043955e-01  6.27828705e-01  5.12323810e-02\n",
            "  9.63881624e-01  5.92991729e-02  2.98749625e-01 -2.04641874e+00\n",
            " -7.49513614e-01 -2.82354826e-01 -6.31838202e-01  3.59851935e-01\n",
            " -9.66248307e-01  3.06002021e-01  9.23680836e-01 -4.70004089e-01\n",
            "  2.48982898e-01 -8.10750710e-01 -9.00360149e-01 -1.14480021e+00\n",
            " -1.39308636e+00 -2.58805226e-01 -9.79151973e-01 -8.62471515e-02\n",
            "  7.15763199e-01 -1.48845886e+00  3.42551314e-01 -4.10976976e-01\n",
            " -8.80491645e-02 -9.73444422e-02 -7.92629413e-01 -3.53626260e-03\n",
            "  2.89168416e-01 -1.04513707e+00 -1.03510692e+00  3.90807781e-01\n",
            " -1.15806906e+00  1.13538604e+00 -1.64805580e+00  2.00909885e+00\n",
            "  1.28765625e+00 -4.82390639e-01 -1.35948853e+00  3.51612052e-01\n",
            " -2.26103340e-01 -9.10364519e-01 -2.38918768e-01  1.36159158e+00\n",
            "  4.06104318e-01 -9.98740123e-01 -1.22762156e+00  1.50088174e+00\n",
            "  8.67993445e-01  9.68050704e-01 -2.69762142e-01 -3.75089379e-01\n",
            "  3.26576445e-01  9.56268896e-01  5.71265352e-01  1.21901004e+00\n",
            " -8.90451415e-03  1.92535558e+00  7.05958473e-01  1.42304744e+00\n",
            " -5.23282198e-01 -6.04793365e-01  5.38081210e-03 -7.59844728e-02\n",
            " -2.62605412e+00  1.29872755e+00  1.05861948e+00 -4.35484708e-01\n",
            " -2.27267153e-02 -9.27967772e-01  4.25456454e-01 -5.41775113e-01\n",
            " -9.44714068e-03 -1.41170390e+00 -3.15652061e-01 -6.52853606e-01\n",
            " -1.75689355e-01 -1.12314242e+00  1.54534388e+00  1.23526116e-01\n",
            "  2.49397475e+00  2.67455592e-02  9.91773725e-01 -6.60819921e-01\n",
            " -1.84695304e+00 -1.02521337e+00  1.32632843e+00 -1.23606819e+00\n",
            " -6.94079061e-01 -6.92093730e-01 -6.31634771e-01 -1.60333220e-01\n",
            " -7.10202838e-01 -5.55045723e-01  1.28690897e-01 -1.36517933e+00\n",
            " -7.64942157e-01 -1.51390315e+00 -1.08533163e-01  2.58948695e-01\n",
            "  4.85976031e-01  1.92850301e+00 -3.83832486e-01 -1.18144958e+00\n",
            " -5.57345325e-01 -4.83898425e-02  8.37531454e-01  2.15292370e-01\n",
            " -1.00805422e-01  4.07494172e-01 -2.24711816e+00  9.93993970e-01\n",
            "  5.09464618e-01 -7.10297899e-01 -6.41773293e-01  2.88310750e-02\n",
            " -5.24724873e-01 -1.81489724e-01 -6.33804386e-02  4.70048210e-01\n",
            " -1.50853964e-01  7.96277822e-01 -5.61507393e-01 -1.24927516e+00\n",
            "  1.05042025e+00  1.45376442e+00  1.26076822e+00 -1.15743700e-01\n",
            "  1.42024716e+00 -3.36946671e-01 -4.84189414e-01 -1.70780992e+00\n",
            " -9.44035430e-01  1.31428637e+00 -3.34733576e-01  3.06354164e-01\n",
            " -1.25049738e+00 -3.21411916e-01  2.23851037e+00 -3.64007813e-01\n",
            "  1.19291870e+00  7.31611818e-02 -1.03307689e+00  6.56781549e-01\n",
            " -4.38918754e-01  3.52151471e-01  2.82864033e+00 -7.28110402e-01\n",
            " -1.32202137e-01  2.19437416e+00 -1.38688374e+00  5.32782735e-01\n",
            "  5.90896989e-01  2.49474480e-01  1.14541084e+00 -3.67263438e-01\n",
            "  3.75968406e-01 -6.05278605e-01  2.59765416e-01 -4.97041703e-01\n",
            "  1.23457689e+00  2.47543308e-01 -1.62656074e-01  3.39519251e-01\n",
            " -1.32589528e-01  1.22203602e-01  5.26849291e-01 -5.67562725e-01\n",
            "  1.46170918e+00 -1.79758129e+00  6.02419593e-01 -1.51057001e-01\n",
            " -1.82181091e+00 -3.50751007e-01  9.22244253e-01 -1.58006841e+00\n",
            " -5.86457326e-01  1.81195412e+00  5.43646648e-01  1.06396497e+00\n",
            " -2.99411627e-01  7.77067282e-01  6.42297644e-02 -1.41074472e-01\n",
            " -6.19197993e-01  9.44246670e-02 -5.28530416e-01 -2.15998255e+00\n",
            " -8.69287581e-01  1.60034958e+00 -1.88849689e+00 -9.62437712e-01\n",
            "  9.84180479e-01 -6.24923469e-01 -9.65404633e-01  1.85369066e-01\n",
            "  9.43343159e-01 -1.06871950e+00 -1.16731369e+00  3.28418666e-01\n",
            " -7.26344178e-01  1.95730009e-01  1.98880489e+00 -1.75971008e-01\n",
            "  2.47708025e-01 -1.22369251e-01  3.04711741e-01  1.31809413e+00\n",
            "  2.36442130e+00 -1.02484380e+00 -1.17903803e+00  8.78698397e-01\n",
            "  5.09644642e-01 -1.20539611e+00  1.39068675e+00 -9.47698105e-01\n",
            "  1.57484078e+00  8.23401307e-01 -5.58618448e-01  1.83980305e-01\n",
            " -3.26483416e-01  1.29604287e+00  4.48022039e-01 -1.03087027e+00\n",
            "  7.47876165e-01  1.51926624e+00  1.79601536e+00  3.67893404e-02\n",
            "  6.98044030e-01 -1.27256116e-01 -1.65102317e+00 -2.01286269e-01\n",
            "  6.16787043e-01  4.21278230e-01 -5.62273259e-01 -3.74891076e-01\n",
            " -8.35759601e-01  2.74769093e-01 -2.18181789e-01 -9.21415396e-01\n",
            "  7.57278771e-01  4.10227603e-01  2.52711430e-01 -5.81711860e-01\n",
            "  2.77456043e-01 -3.63176267e-01  3.32401018e-01  8.28323901e-01\n",
            "  1.46624520e+00  1.75562030e+00 -8.37106817e-02  1.45301269e+00\n",
            "  1.06764962e+00  7.00762479e-01 -7.60017811e-01  4.17576956e-01\n",
            "  2.94253455e+00  2.98798147e-01  1.12893747e+00 -2.62472122e-01\n",
            " -1.06930265e-01 -2.65769084e-01 -1.40232225e+00  1.48071115e-01\n",
            "  8.81368489e-01 -7.55648541e-01  2.58710347e+00  1.25799141e+00\n",
            "  4.33822518e-03  6.04778975e-01 -6.51717793e-01  1.06561251e+00\n",
            " -7.20354638e-01 -1.35566822e+00 -2.56292579e+00 -1.86100613e-01\n",
            "  1.09814527e+00 -8.57853706e-01 -4.61570396e-01  1.05252757e+00\n",
            "  8.20229669e-01 -9.94310444e-01 -1.38979071e-01  4.93839705e-01\n",
            "  3.01315711e-01  2.58789084e-01 -9.90482580e-01  7.21647364e-01\n",
            " -2.65531635e-01  3.11837754e-01 -4.86380190e-01  1.26272073e-01\n",
            "  2.51227796e-01  6.78706316e-01 -4.68040609e-01  8.93060805e-02\n",
            "  6.05826409e-01 -9.58967174e-01 -4.48753108e-02 -1.01204393e+00\n",
            "  4.14485091e-01 -1.43820064e+00 -1.27417251e+00 -1.71525876e+00\n",
            " -3.02691581e-01 -9.09390032e-01  1.25099194e+00 -2.20094987e+00\n",
            "  1.75687723e-01 -9.03424105e-01  2.95622927e-01  1.00132440e+00\n",
            " -2.09047758e+00  1.57885505e+00 -1.46795352e+00 -6.77586841e-01\n",
            "  5.84805556e-01  1.54527211e+00 -5.39444169e-01  2.84677206e+00\n",
            "  8.50076960e-01  1.25129578e+00  9.40133489e-01 -5.84675606e-01\n",
            " -2.32044908e-02 -5.68070359e-01 -1.11389111e+00  7.35783602e-01\n",
            " -4.42615519e-01 -6.96395064e-01 -1.52965810e+00 -1.18760452e+00\n",
            " -9.89832809e-01 -1.78456684e+00 -1.16868815e+00  5.40021565e-02\n",
            "  8.35509470e-02 -1.17110182e+00 -7.16291575e-01  1.20954774e-01\n",
            "  3.27915205e-01 -2.81227489e-01 -7.98436325e-01  2.77094201e-01\n",
            "  6.01803362e-01  2.58929398e-01 -1.61977782e+00  5.63963947e-01\n",
            " -7.50040783e-01  4.07519943e-01 -7.60760600e-01  8.59237899e-01\n",
            "  4.46530833e-01 -9.74508210e-01 -3.43249532e-01 -2.26554118e-01\n",
            " -7.44022568e-01  2.14201437e-01 -1.13277984e+00  9.42824323e-01\n",
            "  8.07572286e-01  1.52628321e+00 -6.10779913e-01 -1.96062206e+00\n",
            "  3.78772868e-01  1.26286212e-01  7.08188435e-02  1.17729615e-01\n",
            " -5.71566222e-01 -2.82845944e-01  1.29097967e-01  1.88865191e+00\n",
            " -1.59111463e-01 -3.17909157e-01  2.50763437e+00  1.77738898e+00\n",
            "  1.45687620e+00 -1.63108222e+00  2.88148221e-01  1.29672184e+00\n",
            "  1.58609639e-01  3.87113179e-01 -4.29015738e-02 -1.14322556e+00\n",
            "  5.37210800e-01 -4.66951544e-01  1.14230370e+00  8.00092117e-01\n",
            " -1.01608348e+00 -1.42183795e+00  8.08242885e-01 -1.72069535e+00\n",
            "  3.39601220e-01  8.95956599e-01 -1.25923262e+00  4.08228748e-01\n",
            "  1.71525423e-02  7.82559565e-01  1.00777203e-01 -1.59981108e+00\n",
            "  6.23384453e-01  1.31375855e-01  2.37480666e-01 -1.71889720e+00\n",
            "  5.03016573e-01 -9.39054111e-01 -1.06092803e+00  1.19519073e+00\n",
            " -8.75399766e-01 -1.54582491e+00 -1.21156942e+00 -9.32694662e-01\n",
            "  3.01300198e-01  1.36137732e+00  3.29940885e-01 -6.73295314e-02\n",
            "  4.16772511e-01  1.24961736e+00  1.27914577e+00 -9.56731193e-01\n",
            " -6.65397592e-01  1.29047709e+00 -5.03349494e-01  9.99624042e-02\n",
            " -1.08647076e+00 -9.35877416e-01 -7.19457700e-01  1.18919743e+00\n",
            " -1.06224526e+00 -7.01458303e-01 -2.56535238e-01 -6.61494550e-01\n",
            "  1.27786696e+00  1.79763408e-01  1.09323571e+00  2.31540968e+00\n",
            "  8.62632337e-01 -3.98497691e-01  8.18992371e-01 -2.33284717e+00\n",
            " -2.93790225e-02  2.10687054e+00  1.30415713e+00 -3.64587205e-01\n",
            "  2.28537263e+00 -1.20483995e+00  1.46434322e+00  1.23907713e+00\n",
            "  6.02378340e-01  1.13699644e+00  3.82511331e-01 -1.43097506e-01\n",
            "  1.52071141e+00  5.11443720e-01  3.01028930e-01  3.90665555e-01\n",
            " -1.28885429e+00  8.32209837e-01  1.18979618e+00 -3.01791082e-01\n",
            " -1.02733738e+00 -1.09220016e+00  7.13159457e-01  2.59042811e-01\n",
            " -8.27909063e-01 -6.17350621e-01 -3.16352248e-01 -7.90474375e-01\n",
            " -8.62844086e-01  3.71681597e-01  1.46663331e+00 -1.65994885e+00\n",
            "  1.00439114e+00  3.53726020e-01  8.48554725e-01 -8.57403657e-01\n",
            "  6.66898281e-01  1.12664505e-01 -8.08637843e-01 -2.27541444e-01\n",
            " -2.32933020e+00  2.98737857e+00  4.34513253e-01 -1.11382770e+00\n",
            " -3.61984033e-01  2.21496837e-01 -3.59760100e+00 -2.65169679e-01\n",
            "  1.27449667e-01  1.92282848e-01  2.25066019e-01 -1.35316943e+00\n",
            "  8.50767278e-01 -1.60190925e-03 -1.20215843e+00 -2.53886878e+00\n",
            "  1.77798061e+00  4.48798040e-01 -1.02530358e-01 -3.59511526e-01\n",
            " -9.32014918e-02 -5.57420278e-01 -2.68677064e-01 -9.29838775e-01\n",
            "  3.40375220e-01 -1.08121255e+00  1.00937047e+00 -5.29725755e-01\n",
            " -7.43976448e-01  1.20844513e+00 -3.23949902e-01 -1.41207543e+00\n",
            " -7.51925840e-01  3.21306258e-01 -2.46653012e+00  8.47840042e-01\n",
            " -2.47531335e+00 -6.52943178e-02 -4.64807195e-01  5.48873075e-01\n",
            " -1.55042317e-01  1.05318163e+00 -1.29570787e-01  4.98230734e-01\n",
            " -5.96604559e-01 -1.53618411e+00 -1.59907084e-01 -2.36225756e-01\n",
            "  1.08193091e+00  1.15913740e+00  7.98873570e-01 -5.44943133e-02\n",
            "  9.44666143e-01 -8.35000906e-01 -1.69181140e+00  1.65854120e-01\n",
            " -1.03762594e-01  5.44285833e-01 -2.82311863e-01 -2.05749990e+00\n",
            " -3.42431331e-01 -1.35688816e+00  1.86892602e+00  1.11117368e+00\n",
            "  2.97128938e-01 -9.14881817e-02 -2.15026824e+00 -2.24358240e+00\n",
            " -8.47080899e-01 -7.19012493e-01  9.53011509e-01 -9.79085749e-01\n",
            " -2.56692050e-01 -8.19285818e-01  1.49502664e-01  5.06122065e-01\n",
            " -8.24662641e-01 -5.99719296e-01  2.48729374e-01 -3.40520038e-02\n",
            " -8.89285372e-01 -6.95324737e-01 -4.10632035e-01  1.35507012e-02\n",
            "  1.07287716e-01  4.70786941e-01 -1.08197218e+00 -1.08716882e+00\n",
            " -1.68566641e+00 -3.95216532e-02 -6.18173306e-03  2.73253661e-01\n",
            " -4.86636134e-01  1.22098671e+00 -9.70557491e-01 -7.11794893e-01\n",
            "  1.58287837e+00 -2.98898127e-01 -1.40120047e+00 -2.40625623e-01\n",
            "  4.83728016e-01 -7.91740322e-01  9.58250933e-01  1.25929277e+00\n",
            "  2.10041589e-01  1.74712499e+00  1.11858858e+00  3.66978434e-01\n",
            " -4.21007990e-01 -9.88597450e-01 -8.32230502e-01 -8.14899066e-01\n",
            " -1.69810797e-01 -9.28307195e-01 -7.18478456e-01 -1.01507938e-01\n",
            "  3.62685228e-01  5.14689019e-01  3.35023863e-01 -4.41714665e-01\n",
            "  6.11598311e-01 -1.24894959e+00  1.44859917e+00 -2.14944302e+00\n",
            " -3.56652995e-01 -1.01491153e+00 -5.37419615e-01  2.06266632e+00\n",
            " -6.93264617e-02  3.74326525e-01  6.05532543e-01  3.80751712e-01\n",
            " -2.34199574e-01 -5.69384328e-01 -1.56624475e+00  2.40955751e+00\n",
            "  8.30995505e-01  2.01362406e-01  1.62641720e+00 -7.41158480e-01\n",
            " -7.82497487e-01 -1.04190702e+00  1.75904108e-01 -8.78237635e-01\n",
            "  9.21887553e-01  3.45263572e-01 -3.41963502e-01 -1.72138425e+00\n",
            " -1.54662684e+00 -7.43676796e-01 -1.22850938e+00 -2.26458489e-02\n",
            "  1.75853345e+00 -4.67105311e-01  6.96762699e-01 -5.03989532e-01\n",
            " -6.66001952e-01 -1.25656334e+00  8.18462550e-01  1.90036549e+00\n",
            " -1.12539381e+00  5.64070108e-01 -5.33825857e-01 -7.97328520e-01\n",
            " -1.33678283e+00  2.33626851e+00  3.62482316e-01  1.98775087e+00\n",
            " -2.10763204e+00 -1.23807445e+00 -1.71373696e-01  4.38457364e-01\n",
            "  5.08784836e-01  5.73416801e-02  8.04780658e-02 -1.34051303e-01\n",
            " -1.00069562e+00 -1.61101332e+00 -1.69223816e-01  1.45107250e+00\n",
            " -1.20437031e+00 -6.24679994e-01  3.47090251e+00 -7.50994239e-01\n",
            " -1.88012229e+00 -2.58614132e+00  9.18384649e-01  4.30930920e-02\n",
            " -7.73022181e-01  3.09427275e+00  5.90810245e-01  3.49487753e-01\n",
            "  4.53812029e-01 -1.83336513e+00  1.22337460e+00  6.73103184e-01\n",
            " -1.72379257e+00 -6.41775606e-01  9.64559586e-01  1.15103703e+00\n",
            " -9.11018878e-02  4.01281616e-01 -5.32666207e-01 -1.37489247e-02\n",
            " -4.99376311e-02  1.08798196e+00 -2.87072310e-02 -7.97440579e-01\n",
            " -6.34049636e-01 -1.30560782e-01  5.67588798e-01  9.92051027e-01\n",
            " -2.92274427e-01 -4.91843075e-01  7.76149202e-01  9.66331199e-01\n",
            " -3.04085666e-01  4.69662726e-01 -6.59179223e-01 -3.72392135e-01\n",
            " -2.95513003e-01  7.49559110e-01  6.32881044e-01 -3.67287796e-01\n",
            " -9.61728926e-01 -1.42732132e-01  9.37384135e-01 -8.55608709e-01\n",
            " -1.55336344e-01  8.07635954e-01  1.22286742e+00  4.41724366e-01\n",
            "  9.49289755e-01  1.33203938e+00  4.46767213e-01  3.76679486e-02\n",
            "  5.65685176e-02 -8.58556420e-01  9.41449008e-01 -8.79180138e-01\n",
            "  2.07989708e-01  3.01313432e-01 -6.17099350e-01 -1.06258922e+00\n",
            "  2.94310950e-01  6.07346307e-01 -6.57649007e-01  9.02113814e-01\n",
            "  2.48575519e+00  3.15118011e+00 -6.06241809e-01  3.18336443e-01\n",
            "  3.36216116e-01 -5.32844530e-01 -1.66261049e+00  2.30012775e-01\n",
            "  1.27186664e+00 -3.00664781e-01  5.99415465e-01  1.44235959e+00\n",
            " -1.23949520e+00 -9.29075387e-01  1.43450299e+00  1.56688843e+00\n",
            " -2.28913009e-01  8.25026918e-02 -2.16915310e+00  3.76803862e-01\n",
            "  1.25524160e+00  2.54818680e-01  3.22118973e-01 -1.62582558e+00\n",
            " -1.78958169e+00  2.10226423e-01  3.14645151e-02 -7.08654845e-01\n",
            "  9.06553962e-01  1.06855906e+00 -1.28609069e+00  1.87579776e-01\n",
            "  5.21900809e-02  1.30280934e-01 -1.32060116e+00  8.54157214e-01\n",
            " -1.04467492e-01 -1.93891311e-01  1.29865992e-01 -4.08125712e-01\n",
            "  9.18989639e-01  1.47921443e+00  2.13589433e-01  1.67002054e+00\n",
            " -7.12169289e-01 -1.44166395e+00  5.65697857e-01  9.02624988e-03\n",
            " -6.08823850e-01 -8.65642018e-01 -7.99616654e-01  1.30736345e-02\n",
            "  1.68175233e+00  1.02144593e+00  2.98174330e+00 -8.39173905e-02\n",
            " -1.35514566e+00 -9.33987029e-01  1.41277389e+00 -6.91799887e-01\n",
            " -7.24478052e-01 -2.55198733e-01  1.02708460e-01  7.36416440e-01\n",
            "  8.55782614e-01 -4.83732536e-01 -1.83102611e+00 -8.90314644e-02\n",
            " -1.11329906e+00 -6.30289344e-01 -5.37075025e-01 -4.05242865e-01\n",
            "  5.47060267e-02  5.06668817e-01 -8.16241554e-01  5.58418208e-01\n",
            "  1.72205267e+00  5.65312297e-01 -2.35887684e-01 -2.36539278e+00\n",
            "  6.54303882e-01 -6.37399678e-01  1.03679480e+00 -5.69173632e-01]\n"
          ]
        }
      ]
    },
    {
      "cell_type": "code",
      "source": [
        "plt.hist(x, bins = 'auto', density = 'True', label = 'N(0, 1)')\n",
        "plt.legend()\n",
        "plt.show()"
      ],
      "metadata": {
        "colab": {
          "base_uri": "https://localhost:8080/",
          "height": 430
        },
        "id": "YI1Z2WUDIa2m",
        "outputId": "07d4d8bf-7e5b-47b8-e2bf-8778cc2c0ad9"
      },
      "execution_count": 89,
      "outputs": [
        {
          "output_type": "display_data",
          "data": {
            "text/plain": [
              "<Figure size 640x480 with 1 Axes>"
            ],
            "image/png": "[encoded data removed]"
          },
          "metadata": {}
        }
      ]
    },
    {
      "cell_type": "code",
      "source": [
        "line = np.linspace(min(x), max(x), 100)\n",
        "print(line)\n",
        "print(line.shape)"
      ],
      "metadata": {
        "colab": {
          "base_uri": "https://localhost:8080/"
        },
        "id": "c4b9yEQfIyRl",
        "outputId": "170ddf77-db73-4687-b38f-7cd54d080c37"
      },
      "execution_count": 94,
      "outputs": [
        {
          "output_type": "stream",
          "name": "stdout",
          "text": [
            "[-3.597601   -3.52620197 -3.45480295 -3.38340392 -3.3120049  -3.24060587\n",
            " -3.16920685 -3.09780782 -3.0264088  -2.95500977 -2.88361074 -2.81221172\n",
            " -2.74081269 -2.66941367 -2.59801464 -2.52661562 -2.45521659 -2.38381757\n",
            " -2.31241854 -2.24101952 -2.16962049 -2.09822147 -2.02682244 -1.95542342\n",
            " -1.88402439 -1.81262536 -1.74122634 -1.66982731 -1.59842829 -1.52702926\n",
            " -1.45563024 -1.38423121 -1.31283219 -1.24143316 -1.17003414 -1.09863511\n",
            " -1.02723609 -0.95583706 -0.88443804 -0.81303901 -0.74163998 -0.67024096\n",
            " -0.59884193 -0.52744291 -0.45604388 -0.38464486 -0.31324583 -0.24184681\n",
            " -0.17044778 -0.09904876 -0.02764973  0.04374929  0.11514832  0.18654734\n",
            "  0.25794637  0.3293454   0.40074442  0.47214345  0.54354247  0.6149415\n",
            "  0.68634052  0.75773955  0.82913857  0.9005376   0.97193662  1.04333565\n",
            "  1.11473467  1.1861337   1.25753272  1.32893175  1.40033077  1.4717298\n",
            "  1.54312883  1.61452785  1.68592688  1.7573259   1.82872493  1.90012395\n",
            "  1.97152298  2.042922    2.11432103  2.18572005  2.25711908  2.3285181\n",
            "  2.39991713  2.47131615  2.54271518  2.61411421  2.68551323  2.75691226\n",
            "  2.82831128  2.89971031  2.97110933  3.04250836  3.11390738  3.18530641\n",
            "  3.25670543  3.32810446  3.39950348  3.47090251]\n",
            "(100,)\n"
          ]
        }
      ]
    },
    {
      "cell_type": "code",
      "source": [
        "pdf = norm_obj.pdf(line)\n",
        "\n",
        "plt.hist(x, bins = 'auto', density = True, label = 'N(0, 1)')\n",
        "plt.plot(line, pdf, color = 'red')\n",
        "plt.title('PDF')\n",
        "plt.legend(loc = 'upper right')\n",
        "plt.grid(True)\n",
        "plt.show()"
      ],
      "metadata": {
        "colab": {
          "base_uri": "https://localhost:8080/",
          "height": 452
        },
        "id": "m2iEngUdJihB",
        "outputId": "bbbd0913-08d8-40d5-d67d-06da2d139086"
      },
      "execution_count": 91,
      "outputs": [
        {
          "output_type": "display_data",
          "data": {
            "text/plain": [
              "<Figure size 640x480 with 1 Axes>"
            ],
            "image/png": "[encoded data removed]"
          },
          "metadata": {}
        }
      ]
    },
    {
      "cell_type": "code",
      "source": [
        "cdf = norm_obj.cdf(line)\n",
        "print(cdf[-1]) # 1에 근사한 값"
      ],
      "metadata": {
        "colab": {
          "base_uri": "https://localhost:8080/"
        },
        "id": "T6HXRuy-KlO-",
        "outputId": "5fbefbb7-4630-4d3f-b7ec-2b3460fe2947"
      },
      "execution_count": 96,
      "outputs": [
        {
          "output_type": "stream",
          "name": "stdout",
          "text": [
            "0.9997406438565408\n"
          ]
        }
      ]
    },
    {
      "cell_type": "code",
      "source": [
        "plt.plot(line ,cdf, c = 'blue')\n",
        "plt.title('CDF')\n",
        "plt.grid(True)\n",
        "plt.show()"
      ],
      "metadata": {
        "colab": {
          "base_uri": "https://localhost:8080/",
          "height": 452
        },
        "id": "YKdputQBK-Ee",
        "outputId": "e1166e97-50f9-4359-f01a-337a7d36db85"
      },
      "execution_count": 99,
      "outputs": [
        {
          "output_type": "display_data",
          "data": {
            "text/plain": [
              "<Figure size 640x480 with 1 Axes>"
            ],
            "image/png": "[encoded data removed]"
          },
          "metadata": {}
        }
      ]
    },
    {
      "cell_type": "markdown",
      "source": [
        "**정규성 검정**"
      ],
      "metadata": {
        "id": "pMT4m6kdLhUS"
      }
    },
    {
      "cell_type": "code",
      "source": [
        "norm_obj = stats.norm(loc = 175, scale = 5)\n",
        "\n",
        "n = 2000\n",
        "x = norm_obj.rvs(n)\n",
        "print(x)"
      ],
      "metadata": {
        "colab": {
          "base_uri": "https://localhost:8080/"
        },
        "id": "hoeuKfO2LkBd",
        "outputId": "ef18cb41-8fd3-4658-f881-0b6a8481d21f"
      },
      "execution_count": 101,
      "outputs": [
        {
          "output_type": "stream",
          "name": "stdout",
          "text": [
            "[171.14825862 173.78062906 178.47362596 ... 169.07766051 179.22160899\n",
            " 180.8734661 ]\n"
          ]
        }
      ]
    },
    {
      "cell_type": "code",
      "source": [
        "statistic, pvale = stats.shapiro(x)\n",
        "print('검정통계량: %.5f' %statistic)\n",
        "\n",
        "alpha = 0.05\n",
        "if pvalue >= 0.05:\n",
        "  print('정규분포를 따른다.')\n",
        "else:\n",
        "  print('정규분포를 따르지 않는다.')"
      ],
      "metadata": {
        "colab": {
          "base_uri": "https://localhost:8080/"
        },
        "id": "WhYPZ0QxM9Y0",
        "outputId": "5876bed0-47a4-40bc-9af2-666fdcd06b76"
      },
      "execution_count": 102,
      "outputs": [
        {
          "output_type": "stream",
          "name": "stdout",
          "text": [
            "검정통계량: 0.99954\n",
            "정규분포를 따른다.\n"
          ]
        }
      ]
    },
    {
      "cell_type": "markdown",
      "source": [
        "# 연습문제"
      ],
      "metadata": {
        "id": "Z2x2TWN4Nzm5"
      }
    },
    {
      "cell_type": "markdown",
      "source": [
        "**1**"
      ],
      "metadata": {
        "id": "JoNgL5DBW7r5"
      }
    },
    {
      "cell_type": "code",
      "source": [
        "from scipy import stats"
      ],
      "metadata": {
        "id": "qkkMARUON1MI"
      },
      "execution_count": 103,
      "outputs": []
    },
    {
      "cell_type": "code",
      "source": [
        "pvalue = stats.binom_test(x = 62, n = 150, alternative = 'two-sided')"
      ],
      "metadata": {
        "colab": {
          "base_uri": "https://localhost:8080/"
        },
        "id": "96Et2rq7N97H",
        "outputId": "be326abc-563f-47cb-ca3f-c53ec4901f3c"
      },
      "execution_count": 114,
      "outputs": [
        {
          "output_type": "stream",
          "name": "stderr",
          "text": [
            "<ipython-input-114-c57b461f26cc>:1: DeprecationWarning: 'binom_test' is deprecated in favour of 'binomtest' from version 1.7.0 and will be removed in Scipy 1.12.0.\n",
            "  pvalue = stats.binom_test(x = 62, n = 150, alternative = 'two-sided')\n"
          ]
        }
      ]
    },
    {
      "cell_type": "code",
      "source": [
        "alpha = 0.05\n",
        "print(pvalue)\n",
        "\n",
        "if pvalue >= 0.05 :\n",
        "  print('남자 합격률에 차이가 없다.')\n",
        "else :\n",
        "  print('남자 합격률에 차이가 있다.')"
      ],
      "metadata": {
        "colab": {
          "base_uri": "https://localhost:8080/"
        },
        "id": "OTIVEGQeOKAV",
        "outputId": "f920f18b-65b3-497c-a611-ec506fa5b09c"
      },
      "execution_count": 116,
      "outputs": [
        {
          "output_type": "stream",
          "name": "stdout",
          "text": [
            "0.04086849386649404\n",
            "남자 합격률에 차이가 있다.\n"
          ]
        }
      ]
    },
    {
      "cell_type": "markdown",
      "source": [
        "**2**"
      ],
      "metadata": {
        "id": "xoB44jsxXBut"
      }
    },
    {
      "cell_type": "code",
      "source": [
        "from scipy import stats\n",
        "import numpy as np\n",
        "import matplotlib.pyplot as plt"
      ],
      "metadata": {
        "id": "v2zrIzb1OQsi"
      },
      "execution_count": 138,
      "outputs": []
    },
    {
      "cell_type": "code",
      "source": [
        "norm_obj = stats.norm(loc = 10, scale = 4)"
      ],
      "metadata": {
        "id": "i4ng5Pm1R2R4"
      },
      "execution_count": 136,
      "outputs": []
    },
    {
      "cell_type": "code",
      "source": [
        "x = norm_obj.rvs(500)"
      ],
      "metadata": {
        "id": "YFxl8ENER2O7"
      },
      "execution_count": 137,
      "outputs": []
    },
    {
      "cell_type": "code",
      "source": [
        "line = np.linspace(min(x), max(x), 100)"
      ],
      "metadata": {
        "id": "RTo32YtoR2Li"
      },
      "execution_count": 139,
      "outputs": []
    },
    {
      "cell_type": "code",
      "source": [
        "pdf = norm_obj.pdf(line)"
      ],
      "metadata": {
        "id": "LGhVr0DrR2HZ"
      },
      "execution_count": 140,
      "outputs": []
    },
    {
      "cell_type": "code",
      "source": [
        "plt.hist(x, density = True, label = 'mu = 10, sd = 4')\n",
        "plt.plot(line, pdf, color = 'black')\n",
        "plt.title('Histogram & PDF of Normal distribution')\n",
        "plt.grid(True)\n",
        "plt.show()"
      ],
      "metadata": {
        "colab": {
          "base_uri": "https://localhost:8080/",
          "height": 452
        },
        "id": "gbuFvzx0R11O",
        "outputId": "9b443361-5303-4bcd-a2e7-ce03cfb34271"
      },
      "execution_count": 145,
      "outputs": [
        {
          "output_type": "display_data",
          "data": {
            "text/plain": [
              "<Figure size 640x480 with 1 Axes>"
            ],
            "image/png": "[encoded data removed]"
          },
          "metadata": {}
        }
      ]
    },
    {
      "cell_type": "markdown",
      "source": [
        "아래의 코드는 안 되는 이유를 찾을 것"
      ],
      "metadata": {
        "id": "62Fmr3YaS4Ca"
      }
    },
    {
      "cell_type": "code",
      "source": [
        "x = np.random.normal(loc = 10, scale = 4, size = 500)\n",
        "line = np.linspace(min(x), max(x), 100)\n",
        "pdf = stats.norm.pdf(line)"
      ],
      "metadata": {
        "id": "6zSP-GvuPULp"
      },
      "execution_count": 129,
      "outputs": []
    },
    {
      "cell_type": "code",
      "source": [
        "plt.hist(x, bins = 'auto', density = True)\n",
        "plt.plot(line, pdf, color = 'pink')\n",
        "plt.title('Histogram & PDF of Normal distribution')\n",
        "plt.grid(True)\n",
        "plt.show"
      ],
      "metadata": {
        "colab": {
          "base_uri": "https://localhost:8080/",
          "height": 470
        },
        "id": "MdcTjmR_PcmG",
        "outputId": "bf54ab0d-9616-49b1-9563-3a0492c53439"
      },
      "execution_count": 130,
      "outputs": [
        {
          "output_type": "execute_result",
          "data": {
            "text/plain": [
              "<function matplotlib.pyplot.show(close=None, block=None)>"
            ]
          },
          "metadata": {},
          "execution_count": 130
        },
        {
          "output_type": "display_data",
          "data": {
            "text/plain": [
              "<Figure size 640x480 with 1 Axes>"
            ],
            "image/png": "[encoded data removed]"
          },
          "metadata": {}
        }
      ]
    }
  ]
}
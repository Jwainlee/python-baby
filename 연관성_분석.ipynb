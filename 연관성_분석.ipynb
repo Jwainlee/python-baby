{
  "nbformat": 4,
  "nbformat_minor": 0,
  "metadata": {
    "colab": {
      "provenance": [],
      "toc_visible": true,
      "authorship_tag": "ABX9TyMtXi5PrJdxQfHR9DEFeuKt",
      "include_colab_link": true
    },
    "kernelspec": {
      "name": "python3",
      "display_name": "Python 3"
    },
    "language_info": {
      "name": "python"
    }
  },
  "cells": [
    {
      "cell_type": "markdown",
      "metadata": {
        "id": "view-in-github",
        "colab_type": "text"
      },
      "source": [
        "<a href=\"https://colab.research.google.com/github/Jwainlee/python-baby/blob/main/%EC%97%B0%EA%B4%80%EC%84%B1_%EB%B6%84%EC%84%9D.ipynb\" target=\"_parent\"><img src=\"https://colab.research.google.com/assets/colab-badge.svg\" alt=\"Open In Colab\"/></a>"
      ]
    },
    {
      "cell_type": "markdown",
      "source": [
        "##일원 카이제곱 검정"
      ],
      "metadata": {
        "id": "LQdeNujyeaNP"
      }
    },
    {
      "cell_type": "markdown",
      "source": [
        "###적합도 검정"
      ],
      "metadata": {
        "id": "5MoUoA0OeaRe"
      }
    },
    {
      "cell_type": "code",
      "execution_count": 2,
      "metadata": {
        "colab": {
          "base_uri": "https://localhost:8080/"
        },
        "id": "RocHcnJxZl5_",
        "outputId": "bce0fa54-9ab0-4d71-b774-3dbc5408f94f"
      },
      "outputs": [
        {
          "output_type": "stream",
          "name": "stdout",
          "text": [
            "statistic: 14.200, pvalue: 0.014\n"
          ]
        }
      ],
      "source": [
        "from scipy import stats\n",
        "import numpy as np\n",
        "\n",
        "real_data = [4, 6, 17, 16, 8, 9]\n",
        "exp_data = [10, 10, 10, 10, 10, 10]\n",
        "\n",
        "chis = stats.chisquare(real_data, exp_data)\n",
        "print('statistic: %.3f, pvalue: %.3f' %chis)"
      ]
    },
    {
      "cell_type": "code",
      "source": [
        "real_arr = np.array(real_data)\n",
        "exp_arr = np.array(exp_data)\n",
        "\n",
        "statistic = sum(((real_arr - exp_arr) ** 2) / exp_arr)\n",
        "print('검정통계량: %.3f' %statistic)"
      ],
      "metadata": {
        "colab": {
          "base_uri": "https://localhost:8080/"
        },
        "id": "QjuNWHZifDOX",
        "outputId": "073c5931-475e-458a-96d3-2a22ecfb1455"
      },
      "execution_count": 3,
      "outputs": [
        {
          "output_type": "stream",
          "name": "stdout",
          "text": [
            "검정통계량: 14.200\n"
          ]
        }
      ]
    },
    {
      "cell_type": "markdown",
      "source": [
        "##선호도 분석"
      ],
      "metadata": {
        "id": "o9vsB-8PgKYH"
      }
    },
    {
      "cell_type": "code",
      "source": [
        "real_data2 = [41, 49, 51, 71, 61]\n",
        "exp_data2 = [51, 51, 51, 51, 51]\n",
        "\n",
        "chis2 = stats.chisquare(real_data2, exp_data2)\n"
      ],
      "metadata": {
        "id": "7piejgBof5Yv"
      },
      "execution_count": null,
      "outputs": []
    }
  ]
}
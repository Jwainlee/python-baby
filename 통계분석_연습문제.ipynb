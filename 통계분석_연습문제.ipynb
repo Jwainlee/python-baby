{
  "nbformat": 4,
  "nbformat_minor": 0,
  "metadata": {
    "colab": {
      "provenance": [],
      "authorship_tag": "ABX9TyP8yu1tbCf7BRWZsIUuPVE9",
      "include_colab_link": true
    },
    "kernelspec": {
      "name": "python3",
      "display_name": "Python 3"
    },
    "language_info": {
      "name": "python"
    }
  },
  "cells": [
    {
      "cell_type": "markdown",
      "metadata": {
        "id": "view-in-github",
        "colab_type": "text"
      },
      "source": [
        "<a href=\"https://colab.research.google.com/github/Jwainlee/python-baby/blob/main/%ED%86%B5%EA%B3%84%EB%B6%84%EC%84%9D_%EC%97%B0%EC%8A%B5%EB%AC%B8%EC%A0%9C.ipynb\" target=\"_parent\"><img src=\"https://colab.research.google.com/assets/colab-badge.svg\" alt=\"Open In Colab\"/></a>"
      ]
    },
    {
      "cell_type": "markdown",
      "source": [
        "###1"
      ],
      "metadata": {
        "id": "JXYFaKwQ7WPl"
      }
    },
    {
      "cell_type": "code",
      "execution_count": 11,
      "metadata": {
        "colab": {
          "base_uri": "https://localhost:8080/",
          "height": 452
        },
        "id": "17Pi3AID6mVp",
        "outputId": "c297a0c9-d639-462f-d6c2-0bb5847bc836"
      },
      "outputs": [
        {
          "output_type": "display_data",
          "data": {
            "text/plain": [
              "<Figure size 640x480 with 1 Axes>"
            ],
            "image/png": "[encoded data removed]"
          },
          "metadata": {}
        }
      ],
      "source": [
        "from scipy import stats\n",
        "import numpy as np\n",
        "import matplotlib.pyplot as plt\n",
        "\n",
        "obj = stats.norm(loc = 10, scale = 4)\n",
        "year = obj.rvs(100)\n",
        "line = np.linspace(min(year), max(year), 50)\n",
        "pdf = obj.pdf(line)\n",
        "\n",
        "plt.hist(year, density = True)\n",
        "plt.plot(line, pdf, color = 'black')\n",
        "plt.title('Hist & PDF')\n",
        "plt.grid(True)\n",
        "plt.show()"
      ]
    },
    {
      "cell_type": "code",
      "source": [
        "a = year[np.logical_and(year >= 10, year <= 15)]\n",
        "print(len(a) / 100)"
      ],
      "metadata": {
        "colab": {
          "base_uri": "https://localhost:8080/"
        },
        "id": "yJWKa81N8uW9",
        "outputId": "61fa55f1-80a0-4805-9796-b3caa0203403"
      },
      "execution_count": 15,
      "outputs": [
        {
          "output_type": "stream",
          "name": "stdout",
          "text": [
            "0.42\n"
          ]
        }
      ]
    },
    {
      "cell_type": "markdown",
      "source": [
        "###2"
      ],
      "metadata": {
        "id": "FYvrgqggD7pQ"
      }
    },
    {
      "cell_type": "code",
      "source": [
        "import pandas as pd\n",
        "from scipy import stats\n",
        "\n",
        "dataset = pd.read_csv('/content/student_height.csv')\n",
        "print(dataset.info())"
      ],
      "metadata": {
        "colab": {
          "base_uri": "https://localhost:8080/"
        },
        "id": "Q2TJqm_7_LJi",
        "outputId": "5c50347e-7449-4d76-dc1c-ed724fcd3d8b"
      },
      "execution_count": 19,
      "outputs": [
        {
          "output_type": "stream",
          "name": "stdout",
          "text": [
            "<class 'pandas.core.frame.DataFrame'>\n",
            "RangeIndex: 50 entries, 0 to 49\n",
            "Data columns (total 2 columns):\n",
            " #   Column     Non-Null Count  Dtype\n",
            "---  ------     --------------  -----\n",
            " 0   sudent id  50 non-null     int64\n",
            " 1   height     50 non-null     int64\n",
            "dtypes: int64(2)\n",
            "memory usage: 928.0 bytes\n",
            "None\n"
          ]
        }
      ]
    },
    {
      "cell_type": "code",
      "source": [
        "height = dataset.height\n",
        "\n",
        "print(len(height))\n",
        "print(height.mean())\n",
        "\n",
        "statistic, pvalue = stats.shapiro(height)\n",
        "print('검정통계량: %.4f, pvalue: %.3f' %(statistic, pvalue))\n",
        "\n",
        "if pvalue >= 0.05:\n",
        "  print('귀무가설 채택, 정규성을 갖는다.')\n",
        "else:\n",
        "  print('귀무가설 기각, 정규성을 갖지 않는다.')"
      ],
      "metadata": {
        "colab": {
          "base_uri": "https://localhost:8080/"
        },
        "id": "BZXnU-qNEHIV",
        "outputId": "ea9ec572-8771-463e-8eb6-fcb5f4286eca"
      },
      "execution_count": 21,
      "outputs": [
        {
          "output_type": "stream",
          "name": "stdout",
          "text": [
            "50\n",
            "149.4\n",
            "검정통계량: 0.8871, pvalue: 0.000\n",
            "귀무가설 기각, 정규성을 갖지 않는다.\n"
          ]
        }
      ]
    },
    {
      "cell_type": "code",
      "source": [
        "statistic, pvalue = stats.ttest_1samp(height, 148.5, alternative = 'two-sided')\n",
        "print('검정통계량: %.4f, pvalue: %.3f' %(statistic, pvalue))\n",
        "\n",
        "if pvalue >= 0.05:\n",
        "  print('귀무가설 채택, 모평균과 차이가 없다.')\n",
        "else:\n",
        "  print('귀무가설 기각, 모평균과 차이가 있다.')"
      ],
      "metadata": {
        "colab": {
          "base_uri": "https://localhost:8080/"
        },
        "id": "adlsy9oFEu4H",
        "outputId": "1728172c-b695-4508-941d-750f0ab4693d"
      },
      "execution_count": 25,
      "outputs": [
        {
          "output_type": "stream",
          "name": "stdout",
          "text": [
            "검정통계량: 1.5770, pvalue: 0.121\n",
            "귀무가설 채택, 모평균과 차이가 없다.\n"
          ]
        }
      ]
    },
    {
      "cell_type": "code",
      "source": [],
      "metadata": {
        "id": "MvtMGBM3Fd26"
      },
      "execution_count": null,
      "outputs": []
    }
  ]
}